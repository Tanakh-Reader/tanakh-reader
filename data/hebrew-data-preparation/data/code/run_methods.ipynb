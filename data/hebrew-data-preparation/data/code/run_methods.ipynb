{
 "cells": [
  {
   "cell_type": "code",
   "execution_count": 9,
   "metadata": {},
   "outputs": [],
   "source": [
    "import csv\n",
    "import pandas as pd\n",
    "import unicodedata\n",
    "import os\n",
    "from constants import *\n",
    "from compare import *\n",
    "from step_parsers import *"
   ]
  },
  {
   "cell_type": "code",
   "execution_count": 10,
   "metadata": {},
   "outputs": [
    {
     "ename": "FileNotFoundError",
     "evalue": "[Errno 2] No such file or directory: '/Users/sethhowell/Desktop/Hebrew-Literacy-App/data/hebrew-data-preparation/sources/step/step-core-data/src/main/resources/com/tyndalehouse/step/core/data/create'",
     "output_type": "error",
     "traceback": [
      "\u001b[0;31m---------------------------------------------------------------------------\u001b[0m",
      "\u001b[0;31mFileNotFoundError\u001b[0m                         Traceback (most recent call last)",
      "\u001b[0;32m/var/folders/jm/7fp23jks6gn07fvs2ywycf3r0000gn/T/ipykernel_54364/3835402022.py\u001b[0m in \u001b[0;36m<module>\u001b[0;34m\u001b[0m\n\u001b[0;32m----> 1\u001b[0;31m a = StepBibleHebrewDataProcessor(\n\u001b[0m\u001b[1;32m      2\u001b[0m     PATHS.STEP_BIBLE_SOURCE_DATA_FULL_PATH)\n\u001b[1;32m      3\u001b[0m \u001b[0ma\u001b[0m\u001b[0;34m.\u001b[0m\u001b[0mwrite_corpora_data_formatted\u001b[0m\u001b[0;34m(\u001b[0m\u001b[0;34m)\u001b[0m\u001b[0;34m\u001b[0m\u001b[0;34m\u001b[0m\u001b[0m\n",
      "\u001b[0;32m~/Desktop/Hebrew-Literacy-App/data/hebrew-data-preparation/data/code/step_parsers.py\u001b[0m in \u001b[0;36m__init__\u001b[0;34m(self, corpora_files_path, lexicon_file_path)\u001b[0m\n\u001b[1;32m      9\u001b[0m         \u001b[0mself\u001b[0m\u001b[0;34m.\u001b[0m\u001b[0mlexicon_file_path\u001b[0m \u001b[0;34m=\u001b[0m \u001b[0mlexicon_file_path\u001b[0m\u001b[0;34m\u001b[0m\u001b[0;34m\u001b[0m\u001b[0m\n\u001b[1;32m     10\u001b[0m         \u001b[0mself\u001b[0m\u001b[0;34m.\u001b[0m\u001b[0mcorpora_files_path\u001b[0m \u001b[0;34m=\u001b[0m \u001b[0mcorpora_files_path\u001b[0m\u001b[0;34m\u001b[0m\u001b[0;34m\u001b[0m\u001b[0m\n\u001b[0;32m---> 11\u001b[0;31m         \u001b[0mself\u001b[0m\u001b[0;34m.\u001b[0m\u001b[0mcorpora_files_dict\u001b[0m \u001b[0;34m=\u001b[0m \u001b[0mself\u001b[0m\u001b[0;34m.\u001b[0m\u001b[0mget_corpora_dict\u001b[0m\u001b[0;34m(\u001b[0m\u001b[0;34m)\u001b[0m\u001b[0;34m\u001b[0m\u001b[0;34m\u001b[0m\u001b[0m\n\u001b[0m\u001b[1;32m     12\u001b[0m         \u001b[0mself\u001b[0m\u001b[0;34m.\u001b[0m\u001b[0mtrailers\u001b[0m \u001b[0;34m=\u001b[0m \u001b[0;34m[\u001b[0m\u001b[0;34m'׃'\u001b[0m\u001b[0;34m,\u001b[0m \u001b[0;34m'פ'\u001b[0m\u001b[0;34m,\u001b[0m \u001b[0;34m'׀'\u001b[0m\u001b[0;34m,\u001b[0m \u001b[0;34m'ס'\u001b[0m\u001b[0;34m,\u001b[0m \u001b[0;34m' פ'\u001b[0m\u001b[0;34m,\u001b[0m \u001b[0;34m'׆'\u001b[0m\u001b[0;34m,\u001b[0m \u001b[0;34m'־'\u001b[0m\u001b[0;34m,\u001b[0m \u001b[0;34m' '\u001b[0m\u001b[0;34m]\u001b[0m\u001b[0;34m\u001b[0m\u001b[0;34m\u001b[0m\u001b[0m\n\u001b[1;32m     13\u001b[0m         \u001b[0mself\u001b[0m\u001b[0;34m.\u001b[0m\u001b[0mdest_path\u001b[0m \u001b[0;34m=\u001b[0m \u001b[0mPATHS\u001b[0m\u001b[0;34m.\u001b[0m\u001b[0mSTEP_DATA_DEST_FULL_PATH\u001b[0m\u001b[0;34m\u001b[0m\u001b[0;34m\u001b[0m\u001b[0m\n",
      "\u001b[0;32m~/Desktop/Hebrew-Literacy-App/data/hebrew-data-preparation/data/code/step_parsers.py\u001b[0m in \u001b[0;36mget_corpora_dict\u001b[0;34m(self)\u001b[0m\n\u001b[1;32m     24\u001b[0m \u001b[0;34m\u001b[0m\u001b[0m\n\u001b[1;32m     25\u001b[0m         \u001b[0;31m# Assign the files to the references in the dictionary.\u001b[0m\u001b[0;34m\u001b[0m\u001b[0;34m\u001b[0m\u001b[0;34m\u001b[0m\u001b[0m\n\u001b[0;32m---> 26\u001b[0;31m         \u001b[0;32mfor\u001b[0m \u001b[0mfile\u001b[0m \u001b[0;32min\u001b[0m \u001b[0mos\u001b[0m\u001b[0;34m.\u001b[0m\u001b[0mlistdir\u001b[0m\u001b[0;34m(\u001b[0m\u001b[0mself\u001b[0m\u001b[0;34m.\u001b[0m\u001b[0mcorpora_files_path\u001b[0m\u001b[0;34m)\u001b[0m\u001b[0;34m:\u001b[0m\u001b[0;34m\u001b[0m\u001b[0;34m\u001b[0m\u001b[0m\n\u001b[0m\u001b[1;32m     27\u001b[0m \u001b[0;34m\u001b[0m\u001b[0m\n\u001b[1;32m     28\u001b[0m             \u001b[0;32mif\u001b[0m \u001b[0mSTEP_CORPORA\u001b[0m\u001b[0;34m.\u001b[0m\u001b[0mCORPORA_PREFIX\u001b[0m \u001b[0;32min\u001b[0m \u001b[0mfile\u001b[0m\u001b[0;34m:\u001b[0m\u001b[0;34m\u001b[0m\u001b[0;34m\u001b[0m\u001b[0m\n",
      "\u001b[0;31mFileNotFoundError\u001b[0m: [Errno 2] No such file or directory: '/Users/sethhowell/Desktop/Hebrew-Literacy-App/data/hebrew-data-preparation/sources/step/step-core-data/src/main/resources/com/tyndalehouse/step/core/data/create'"
     ]
    }
   ],
   "source": [
    "a = StepBibleHebrewDataProcessor(\n",
    "    PATHS.STEP_BIBLE_SOURCE_DATA_FULL_PATH)\n",
    "a.write_corpora_data_formatted()"
   ]
  },
  {
   "cell_type": "code",
   "execution_count": 13,
   "metadata": {},
   "outputs": [],
   "source": [
    "step_file = os.path.join(STEP_DATA_DEST, STEP_CORPUS)\n",
    "step_word_col = 'text'\n",
    "step_ref_col = 'hebrewRef'\n",
    "\n",
    "macula_file = os.path.join(\"\", MACULA_CORPUS)\n",
    "macula_word_col = 'text'\n",
    "macula_ref_col = 'ref'\n",
    "\n",
    "etcbc_file = os.path.join(\"\", ETCBC_CORPUS)\n",
    "etcbc_word_col = 'text'\n",
    "etcbc_ref_col = 'vsIdBHS'"
   ]
  },
  {
   "cell_type": "code",
   "execution_count": 15,
   "metadata": {},
   "outputs": [],
   "source": [
    "step_wfp = WordFileParser(step_file, step_word_col, step_ref_col, 'step')\n",
    "macula_wfp = WordFileParser(macula_file, macula_word_col, macula_ref_col, 'macula')\n",
    "etcbc_wfp = WordFileParser(etcbc_file, etcbc_word_col, etcbc_ref_col, 'etcbc')"
   ]
  },
  {
   "cell_type": "code",
   "execution_count": 418,
   "metadata": {},
   "outputs": [
    {
     "name": "stdout",
     "output_type": "stream",
     "text": [
      "50000 בַּדִּים֙ 51272 לְ\n",
      "200000 עַבְדֹּ֑ו 202872 וַ\n"
     ]
    }
   ],
   "source": [
    "# df = compare_data(macula_wfp, step_wfp)\n",
    "# df = compare_data(step_wfp, macula_wfp)\n",
    "df = compare_data(etcbc_wfp, macula_wfp)\n",
    "# df = compare_data(step_wfp, etcbc_wfp)\n",
    "\n",
    "write_file = 'comp10.csv'\n",
    "df.to_csv(write_file, encoding='utf-8', index=False)"
   ]
  }
 ],
 "metadata": {
  "kernelspec": {
   "display_name": "Python 3.9.5 64-bit",
   "language": "python",
   "name": "python3"
  },
  "language_info": {
   "codemirror_mode": {
    "name": "ipython",
    "version": 3
   },
   "file_extension": ".py",
   "mimetype": "text/x-python",
   "name": "python",
   "nbconvert_exporter": "python",
   "pygments_lexer": "ipython3",
   "version": "3.9.5"
  },
  "orig_nbformat": 4,
  "vscode": {
   "interpreter": {
    "hash": "7812ea015bdcee6f23a998adcdd2ef97c151c0c241b7b7070987d9313e41299d"
   }
  }
 },
 "nbformat": 4,
 "nbformat_minor": 2
}
