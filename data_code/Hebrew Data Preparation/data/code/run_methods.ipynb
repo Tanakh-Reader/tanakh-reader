{
 "cells": [
  {
   "cell_type": "code",
   "execution_count": 8,
   "metadata": {},
   "outputs": [],
   "source": [
    "import csv\n",
    "import pandas as pd\n",
    "import unicodedata\n",
    "import os\n",
    "from constants import *\n",
    "from compare import *\n",
    "from step_parsers import *"
   ]
  },
  {
   "cell_type": "code",
   "execution_count": 235,
   "metadata": {},
   "outputs": [
    {
     "name": "stdout",
     "output_type": "stream",
     "text": [
      "Complete: TOTHT Gen-Deu - Translators OT Hebrew Tagged text - STEPBible.org CC BY.txt\n",
      "Complete: TOTHT Jos-Est - Translators OT Hebrew Tagged text - STEPBible.org CC BY.txt\n",
      "Complete: TOTHT Job-Sng - Translators OT Hebrew Tagged text - STEPBible.org CC BY.txt\n",
      "Complete: TOTHT Isa-Mal - Translators OT Hebrew Tagged text - STEPBible.org CC BY.txt\n"
     ]
    }
   ],
   "source": [
    "# a = StepBibleHebrewDataProcessor(STEP_CORPORA_PATH, STEP_LEXICON_PATH)\n",
    "# a.write_corpora_data()"
   ]
  },
  {
   "cell_type": "code",
   "execution_count": 13,
   "metadata": {},
   "outputs": [],
   "source": [
    "step_file = os.path.join(STEP_DATA_DEST, STEP_CORPUS)\n",
    "step_word_col = 'text'\n",
    "step_ref_col = 'hebrewRef'\n",
    "\n",
    "macula_file = os.path.join(\"\", MACULA_CORPUS)\n",
    "macula_word_col = 'text'\n",
    "macula_ref_col = 'ref'\n",
    "\n",
    "etcbc_file = os.path.join(\"\", ETCBC_CORPUS)\n",
    "etcbc_word_col = 'text'\n",
    "etcbc_ref_col = 'vsIdBHS'"
   ]
  },
  {
   "cell_type": "code",
   "execution_count": 15,
   "metadata": {},
   "outputs": [],
   "source": [
    "step_wfp = WordFileParser(step_file, step_word_col, step_ref_col, 'step')\n",
    "macula_wfp = WordFileParser(macula_file, macula_word_col, macula_ref_col, 'macula')\n",
    "etcbc_wfp = WordFileParser(etcbc_file, etcbc_word_col, etcbc_ref_col, 'etcbc')"
   ]
  },
  {
   "cell_type": "code",
   "execution_count": 418,
   "metadata": {},
   "outputs": [
    {
     "name": "stdout",
     "output_type": "stream",
     "text": [
      "50000 בַּדִּים֙ 51272 לְ\n",
      "200000 עַבְדֹּ֑ו 202872 וַ\n"
     ]
    }
   ],
   "source": [
    "# df = compare_data(macula_wfp, step_wfp)\n",
    "# df = compare_data(step_wfp, macula_wfp)\n",
    "df = compare_data(etcbc_wfp, macula_wfp)\n",
    "# df = compare_data(step_wfp, etcbc_wfp)\n",
    "\n",
    "write_file = 'comp10.csv'\n",
    "df.to_csv(write_file, encoding='utf-8', index=False)"
   ]
  }
 ],
 "metadata": {
  "kernelspec": {
   "display_name": "Python 3.9.5 64-bit",
   "language": "python",
   "name": "python3"
  },
  "language_info": {
   "codemirror_mode": {
    "name": "ipython",
    "version": 3
   },
   "file_extension": ".py",
   "mimetype": "text/x-python",
   "name": "python",
   "nbconvert_exporter": "python",
   "pygments_lexer": "ipython3",
   "version": "3.9.5"
  },
  "orig_nbformat": 4,
  "vscode": {
   "interpreter": {
    "hash": "7812ea015bdcee6f23a998adcdd2ef97c151c0c241b7b7070987d9313e41299d"
   }
  }
 },
 "nbformat": 4,
 "nbformat_minor": 2
}
