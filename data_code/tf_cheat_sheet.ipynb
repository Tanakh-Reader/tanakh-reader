{
 "cells": [
  {
   "cell_type": "markdown",
   "metadata": {},
   "source": [
    "# tf.cheatsheet: A. and N. F. E. L. T. S. C. \n",
    "## [Online source](https://annotation.github.io/text-fabric/tf/cheatsheet.html#s-search-low-level)"
   ]
  },
  {
   "cell_type": "code",
   "execution_count": 27,
   "metadata": {},
   "outputs": [
    {
     "data": {
      "text/html": [
       "<b title=\"local release\">TF-app:</b> <span title=\"rv2.4.0=#571428c995d309c43ff592f885a5ebb42a87be6f offline under ~/text-fabric-data\">~/text-fabric-data/annotation/app-bhsa/code</span>"
      ],
      "text/plain": [
       "<IPython.core.display.HTML object>"
      ]
     },
     "metadata": {},
     "output_type": "display_data"
    },
    {
     "data": {
      "text/html": [
       "<b title=\"local release\">data:</b> <span title=\"rv1.7.1=#f9f50075d169820af90524e89f573b54e0b1adb4 offline under ~/text-fabric-data\">~/text-fabric-data/etcbc/bhsa/tf/2021</span>"
      ],
      "text/plain": [
       "<IPython.core.display.HTML object>"
      ]
     },
     "metadata": {},
     "output_type": "display_data"
    },
    {
     "data": {
      "text/html": [
       "<b title=\"local release\">data:</b> <span title=\"rv2.0=#d74f7b52866927c316dfcaa2ac89eb51ea59c5dc offline under ~/text-fabric-data\">~/text-fabric-data/etcbc/phono/tf/2021</span>"
      ],
      "text/plain": [
       "<IPython.core.display.HTML object>"
      ]
     },
     "metadata": {},
     "output_type": "display_data"
    },
    {
     "data": {
      "text/html": [
       "<b title=\"local release\">data:</b> <span title=\"rv2.0=#2fb9e94de8ffc07e9e515e3efa36e502f95bdcea offline under ~/text-fabric-data\">~/text-fabric-data/etcbc/parallels/tf/2021</span>"
      ],
      "text/plain": [
       "<IPython.core.display.HTML object>"
      ]
     },
     "metadata": {},
     "output_type": "display_data"
    },
    {
     "name": "stdout",
     "output_type": "stream",
     "text": [
      "This is Text-Fabric 9.1.1\n",
      "Api reference : https://annotation.github.io/text-fabric/tf/cheatsheet.html\n",
      "\n",
      "122 features found and 0 ignored\n"
     ]
    },
    {
     "data": {
      "text/html": [
       "<b>Text-Fabric:</b> <a target=\"_blank\" href=\"https://annotation.github.io/text-fabric/tf/cheatsheet.html\" title=\"text-fabric-api\">Text-Fabric API 9.1.1</a>, <a target=\"_blank\" href=\"https://github.com/annotation/app-bhsa\" title=\"bhsa TF-app\">app-bhsa v3</a>, <a target=\"_blank\" href=\"https://annotation.github.io/text-fabric/tf/about/searchusage.html\" title=\"Search Templates Introduction and Reference\">Search Reference</a><br><b>Data:</b> <a target=\"_blank\" href=\"https://etcbc.github.io/bhsa/0_home\" title=\"provenance of BHSA = Biblia Hebraica Stuttgartensia Amstelodamensis\">BHSA</a>, <a target=\"_blank\" href=\"https://annotation.github.io/text-fabric/tf/writing/hebrew.html\" title=\"How TF features represent text\">Character table</a>, <a target=\"_blank\" href=\"https://etcbc.github.io/bhsa/features/0_home\" title=\"BHSA feature documentation\">Feature docs</a><br><b>Features:</b><br><details><summary><b>Parallel Passages</b></summary><b><i><a target=\"_blank\" href=\"https://nbviewer.jupyter.org/github/etcbc/parallels/blob/master/programs/parallels.ipynb\" title=\"~/text-fabric-data/etcbc/parallels/tf/2021/crossref.tf\">crossref</a></i></b><br></details><details><summary><b>BHSA = Biblia Hebraica Stuttgartensia Amstelodamensis</b></summary><a target=\"_blank\" href=\"https://etcbc.github.io/bhsa/features/book\" title=\"~/text-fabric-data/etcbc/bhsa/tf/2021/book.tf\">book</a><br><a target=\"_blank\" href=\"https://etcbc.github.io/bhsa/features/book@ll\" title=\"~/text-fabric-data/etcbc/bhsa/tf/2021/book@am.tf\">book@ll</a><br><a target=\"_blank\" href=\"https://etcbc.github.io/bhsa/features/chapter\" title=\"~/text-fabric-data/etcbc/bhsa/tf/2021/chapter.tf\">chapter</a><br><a target=\"_blank\" href=\"https://etcbc.github.io/bhsa/features/code\" title=\"~/text-fabric-data/etcbc/bhsa/tf/2021/code.tf\">code</a><br><a target=\"_blank\" href=\"https://etcbc.github.io/bhsa/features/det\" title=\"~/text-fabric-data/etcbc/bhsa/tf/2021/det.tf\">det</a><br><a target=\"_blank\" href=\"https://etcbc.github.io/bhsa/features/domain\" title=\"~/text-fabric-data/etcbc/bhsa/tf/2021/domain.tf\">domain</a><br><a target=\"_blank\" href=\"https://etcbc.github.io/bhsa/features/freq_lex\" title=\"~/text-fabric-data/etcbc/bhsa/tf/2021/freq_lex.tf\">freq_lex</a><br><a target=\"_blank\" href=\"https://etcbc.github.io/bhsa/features/function\" title=\"~/text-fabric-data/etcbc/bhsa/tf/2021/function.tf\">function</a><br><a target=\"_blank\" href=\"https://etcbc.github.io/bhsa/features/g_cons\" title=\"~/text-fabric-data/etcbc/bhsa/tf/2021/g_cons.tf\">g_cons</a><br><a target=\"_blank\" href=\"https://etcbc.github.io/bhsa/features/g_cons_utf8\" title=\"~/text-fabric-data/etcbc/bhsa/tf/2021/g_cons_utf8.tf\">g_cons_utf8</a><br><a target=\"_blank\" href=\"https://etcbc.github.io/bhsa/features/g_lex\" title=\"~/text-fabric-data/etcbc/bhsa/tf/2021/g_lex.tf\">g_lex</a><br><a target=\"_blank\" href=\"https://etcbc.github.io/bhsa/features/g_lex_utf8\" title=\"~/text-fabric-data/etcbc/bhsa/tf/2021/g_lex_utf8.tf\">g_lex_utf8</a><br><a target=\"_blank\" href=\"https://etcbc.github.io/bhsa/features/g_word\" title=\"~/text-fabric-data/etcbc/bhsa/tf/2021/g_word.tf\">g_word</a><br><a target=\"_blank\" href=\"https://etcbc.github.io/bhsa/features/g_word_utf8\" title=\"~/text-fabric-data/etcbc/bhsa/tf/2021/g_word_utf8.tf\">g_word_utf8</a><br><a target=\"_blank\" href=\"https://etcbc.github.io/bhsa/features/gloss\" title=\"~/text-fabric-data/etcbc/bhsa/tf/2021/gloss.tf\">gloss</a><br><a target=\"_blank\" href=\"https://etcbc.github.io/bhsa/features/gn\" title=\"~/text-fabric-data/etcbc/bhsa/tf/2021/gn.tf\">gn</a><br><a target=\"_blank\" href=\"https://etcbc.github.io/bhsa/features/label\" title=\"~/text-fabric-data/etcbc/bhsa/tf/2021/label.tf\">label</a><br><a target=\"_blank\" href=\"https://etcbc.github.io/bhsa/features/language\" title=\"~/text-fabric-data/etcbc/bhsa/tf/2021/language.tf\">language</a><br><a target=\"_blank\" href=\"https://etcbc.github.io/bhsa/features/lex\" title=\"~/text-fabric-data/etcbc/bhsa/tf/2021/lex.tf\">lex</a><br><a target=\"_blank\" href=\"https://etcbc.github.io/bhsa/features/lex_utf8\" title=\"~/text-fabric-data/etcbc/bhsa/tf/2021/lex_utf8.tf\">lex_utf8</a><br><a target=\"_blank\" href=\"https://etcbc.github.io/bhsa/features/ls\" title=\"~/text-fabric-data/etcbc/bhsa/tf/2021/ls.tf\">ls</a><br><a target=\"_blank\" href=\"https://etcbc.github.io/bhsa/features/nametype\" title=\"~/text-fabric-data/etcbc/bhsa/tf/2021/nametype.tf\">nametype</a><br><a target=\"_blank\" href=\"https://etcbc.github.io/bhsa/features/nme\" title=\"~/text-fabric-data/etcbc/bhsa/tf/2021/nme.tf\">nme</a><br><a target=\"_blank\" href=\"https://etcbc.github.io/bhsa/features/nu\" title=\"~/text-fabric-data/etcbc/bhsa/tf/2021/nu.tf\">nu</a><br><a target=\"_blank\" href=\"https://etcbc.github.io/bhsa/features/number\" title=\"~/text-fabric-data/etcbc/bhsa/tf/2021/number.tf\">number</a><br><a target=\"_blank\" href=\"https://etcbc.github.io/bhsa/features/otype\" title=\"~/text-fabric-data/etcbc/bhsa/tf/2021/otype.tf\">otype</a><br><a target=\"_blank\" href=\"https://etcbc.github.io/bhsa/features/pargr\" title=\"~/text-fabric-data/etcbc/bhsa/tf/2021/pargr.tf\">pargr</a><br><a target=\"_blank\" href=\"https://etcbc.github.io/bhsa/features/pdp\" title=\"~/text-fabric-data/etcbc/bhsa/tf/2021/pdp.tf\">pdp</a><br><a target=\"_blank\" href=\"https://etcbc.github.io/bhsa/features/pfm\" title=\"~/text-fabric-data/etcbc/bhsa/tf/2021/pfm.tf\">pfm</a><br><a target=\"_blank\" href=\"https://etcbc.github.io/bhsa/features/prs\" title=\"~/text-fabric-data/etcbc/bhsa/tf/2021/prs.tf\">prs</a><br><a target=\"_blank\" href=\"https://etcbc.github.io/bhsa/features/prs_gn\" title=\"~/text-fabric-data/etcbc/bhsa/tf/2021/prs_gn.tf\">prs_gn</a><br><a target=\"_blank\" href=\"https://etcbc.github.io/bhsa/features/prs_nu\" title=\"~/text-fabric-data/etcbc/bhsa/tf/2021/prs_nu.tf\">prs_nu</a><br><a target=\"_blank\" href=\"https://etcbc.github.io/bhsa/features/prs_ps\" title=\"~/text-fabric-data/etcbc/bhsa/tf/2021/prs_ps.tf\">prs_ps</a><br><a target=\"_blank\" href=\"https://etcbc.github.io/bhsa/features/ps\" title=\"~/text-fabric-data/etcbc/bhsa/tf/2021/ps.tf\">ps</a><br><a target=\"_blank\" href=\"https://etcbc.github.io/bhsa/features/qere\" title=\"~/text-fabric-data/etcbc/bhsa/tf/2021/qere.tf\">qere</a><br><a target=\"_blank\" href=\"https://etcbc.github.io/bhsa/features/qere_trailer\" title=\"~/text-fabric-data/etcbc/bhsa/tf/2021/qere_trailer.tf\">qere_trailer</a><br><a target=\"_blank\" href=\"https://etcbc.github.io/bhsa/features/qere_trailer_utf8\" title=\"~/text-fabric-data/etcbc/bhsa/tf/2021/qere_trailer_utf8.tf\">qere_trailer_utf8</a><br><a target=\"_blank\" href=\"https://etcbc.github.io/bhsa/features/qere_utf8\" title=\"~/text-fabric-data/etcbc/bhsa/tf/2021/qere_utf8.tf\">qere_utf8</a><br><a target=\"_blank\" href=\"https://etcbc.github.io/bhsa/features/rank_lex\" title=\"~/text-fabric-data/etcbc/bhsa/tf/2021/rank_lex.tf\">rank_lex</a><br><a target=\"_blank\" href=\"https://etcbc.github.io/bhsa/features/rela\" title=\"~/text-fabric-data/etcbc/bhsa/tf/2021/rela.tf\">rela</a><br><a target=\"_blank\" href=\"https://etcbc.github.io/bhsa/features/sp\" title=\"~/text-fabric-data/etcbc/bhsa/tf/2021/sp.tf\">sp</a><br><a target=\"_blank\" href=\"https://etcbc.github.io/bhsa/features/st\" title=\"~/text-fabric-data/etcbc/bhsa/tf/2021/st.tf\">st</a><br><a target=\"_blank\" href=\"https://etcbc.github.io/bhsa/features/tab\" title=\"~/text-fabric-data/etcbc/bhsa/tf/2021/tab.tf\">tab</a><br><a target=\"_blank\" href=\"https://etcbc.github.io/bhsa/features/trailer\" title=\"~/text-fabric-data/etcbc/bhsa/tf/2021/trailer.tf\">trailer</a><br><a target=\"_blank\" href=\"https://etcbc.github.io/bhsa/features/trailer_utf8\" title=\"~/text-fabric-data/etcbc/bhsa/tf/2021/trailer_utf8.tf\">trailer_utf8</a><br><a target=\"_blank\" href=\"https://etcbc.github.io/bhsa/features/txt\" title=\"~/text-fabric-data/etcbc/bhsa/tf/2021/txt.tf\">txt</a><br><a target=\"_blank\" href=\"https://etcbc.github.io/bhsa/features/typ\" title=\"~/text-fabric-data/etcbc/bhsa/tf/2021/typ.tf\">typ</a><br><a target=\"_blank\" href=\"https://etcbc.github.io/bhsa/features/uvf\" title=\"~/text-fabric-data/etcbc/bhsa/tf/2021/uvf.tf\">uvf</a><br><a target=\"_blank\" href=\"https://etcbc.github.io/bhsa/features/vbe\" title=\"~/text-fabric-data/etcbc/bhsa/tf/2021/vbe.tf\">vbe</a><br><a target=\"_blank\" href=\"https://etcbc.github.io/bhsa/features/vbs\" title=\"~/text-fabric-data/etcbc/bhsa/tf/2021/vbs.tf\">vbs</a><br><a target=\"_blank\" href=\"https://etcbc.github.io/bhsa/features/verse\" title=\"~/text-fabric-data/etcbc/bhsa/tf/2021/verse.tf\">verse</a><br><a target=\"_blank\" href=\"https://etcbc.github.io/bhsa/features/voc_lex\" title=\"~/text-fabric-data/etcbc/bhsa/tf/2021/voc_lex.tf\">voc_lex</a><br><a target=\"_blank\" href=\"https://etcbc.github.io/bhsa/features/voc_lex_utf8\" title=\"~/text-fabric-data/etcbc/bhsa/tf/2021/voc_lex_utf8.tf\">voc_lex_utf8</a><br><a target=\"_blank\" href=\"https://etcbc.github.io/bhsa/features/vs\" title=\"~/text-fabric-data/etcbc/bhsa/tf/2021/vs.tf\">vs</a><br><a target=\"_blank\" href=\"https://etcbc.github.io/bhsa/features/vt\" title=\"~/text-fabric-data/etcbc/bhsa/tf/2021/vt.tf\">vt</a><br><b><i><a target=\"_blank\" href=\"https://etcbc.github.io/bhsa/features/mother\" title=\"~/text-fabric-data/etcbc/bhsa/tf/2021/mother.tf\">mother</a></i></b><br><b><i><a target=\"_blank\" href=\"https://etcbc.github.io/bhsa/features/omap@ll\" title=\"~/text-fabric-data/etcbc/bhsa/tf/2021/omap@2017-2021.tf\">omap@ll</a></i></b><br><b><i><a target=\"_blank\" href=\"https://etcbc.github.io/bhsa/features/oslots\" title=\"~/text-fabric-data/etcbc/bhsa/tf/2021/oslots.tf\">oslots</a></i></b><br></details><details><summary><b>Phonetic Transcriptions</b></summary><a target=\"_blank\" href=\"https://nbviewer.jupyter.org/github/etcbc/phono/blob/master/programs/phono.ipynb\" title=\"~/text-fabric-data/etcbc/phono/tf/2021/phono.tf\">phono</a><br><a target=\"_blank\" href=\"https://nbviewer.jupyter.org/github/etcbc/phono/blob/master/programs/phono.ipynb\" title=\"~/text-fabric-data/etcbc/phono/tf/2021/phono_trailer.tf\">phono_trailer</a><br></details>"
      ],
      "text/plain": [
       "<IPython.core.display.HTML object>"
      ]
     },
     "metadata": {},
     "output_type": "display_data"
    },
    {
     "data": {
      "text/html": [
       "<style>tr.tf.ltr, td.tf.ltr, th.tf.ltr { text-align: left ! important;}\n",
       "tr.tf.rtl, td.tf.rtl, th.tf.rtl { text-align: right ! important;}\n",
       "@font-face {\n",
       "  font-family: \"Gentium Plus\";\n",
       "  src: local('Gentium Plus'), local('GentiumPlus'),\n",
       "    url('/server/static/fonts/GentiumPlus-R.woff') format('woff'),\n",
       "    url('https://github.com/annotation/text-fabric/blob/master/tf/server/static/fonts/GentiumPlus-R.woff?raw=true') format('woff');\n",
       "}\n",
       "\n",
       "@font-face {\n",
       "  font-family: \"Ezra SIL\";\n",
       "  src: local('Ezra SIL'), local('EzraSIL'),\n",
       "    url('/server/static/fonts/SILEOT.woff') format('woff'),\n",
       "    url('https://github.com/annotation/text-fabric/blob/master/tf/server/static/fonts/SILEOT.woff?raw=true') format('woff');\n",
       "}\n",
       "\n",
       "@font-face {\n",
       "  font-family: \"SBL Hebrew\";\n",
       "  src: local('SBL Hebrew'), local('SBLHebrew'),\n",
       "    url('/server/static/fonts/SBL_Hbrw.woff') format('woff'),\n",
       "    url('https://github.com/annotation/text-fabric/blob/master/tf/server/static/fonts/SBL_Hbrw.woff?raw=true') format('woff');\n",
       "}\n",
       "\n",
       "@font-face {\n",
       "  font-family: \"Estrangelo Edessa\";\n",
       "  src: local('Estrangelo Edessa'), local('EstrangeloEdessa');\n",
       "    url('/server/static/fonts/SyrCOMEdessa.woff') format('woff'),\n",
       "    url('https://github.com/annotation/text-fabric/blob/master/tf/server/static/fonts/SyrCOMEdessa.woff?raw=true') format('woff');\n",
       "}\n",
       "\n",
       "@font-face {\n",
       "  font-family: AmiriQuran;\n",
       "  font-style: normal;\n",
       "  font-weight: 400;\n",
       "  src: local('Amiri Quran'), local('AmiriQuran'),\n",
       "    url('/server/static/fonts/AmiriQuran.woff') format('woff'),\n",
       "    url('https://github.com/annotation/text-fabric/blob/master/tf/server/static/fonts/AmiriQuran.woff?raw=true') format('woff');\n",
       "}\n",
       "\n",
       "@font-face {\n",
       "  font-family: AmiriQuranColored;\n",
       "  font-style: normal;\n",
       "  font-weight: 400;\n",
       "  src: local('Amiri Quran Colored'), local('AmiriQuranColored'),\n",
       "    url('/server/static/fonts/AmiriQuranColored.woff') format('woff'),\n",
       "    url('https://github.com/annotation/text-fabric/blob/master/tf/server/static/fonts/AmiriQuranColored.woff?raw=true') format('woff');\n",
       "}\n",
       "\n",
       "@font-face {\n",
       "  font-family: \"Santakku\";\n",
       "  src: local('Santakku'),\n",
       "    url('/server/static/fonts/Santakku.woff') format('woff'),\n",
       "    url('https://github.com/annotation/text-fabric/blob/master/tf/server/static/fonts/Santakku.woff?raw=true') format('woff');\n",
       "}\n",
       "\n",
       "@font-face {\n",
       "  font-family: \"SantakkuM\";\n",
       "  src: local('SantakkuM'),\n",
       "    url('/server/static/fonts/SantakkuM.woff') format('woff'),\n",
       "    url('https://github.com/annotation/text-fabric/blob/master/tf/server/static/fonts/SantakkuM.woff?raw=true') format('woff');\n",
       "}\n",
       "/* bypassing some classical notebook settings */\n",
       "div#notebook {\n",
       "  line-height: unset;\n",
       "}\n",
       "/* neutral text */\n",
       ".txtn,.txtn a:visited,.txtn a:link {\n",
       "    font-family: sans-serif;\n",
       "    font-size: medium;\n",
       "    direction: ltr;\n",
       "    unicode-bidi: embed;\n",
       "    text-decoration: none;\n",
       "    color: var(--text-color);\n",
       "}\n",
       "/* transcription text */\n",
       ".txtt,.txtt a:visited,.txtt a:link {\n",
       "    font-family: monospace;\n",
       "    font-size: medium;\n",
       "    direction: ltr;\n",
       "    unicode-bidi: embed;\n",
       "    text-decoration: none;\n",
       "    color: var(--text-color);\n",
       "}\n",
       "/* source text */\n",
       ".txto,.txto a:visited,.txto a:link {\n",
       "    font-family: serif;\n",
       "    font-size: medium;\n",
       "    direction: ltr;\n",
       "    unicode-bidi: embed;\n",
       "    text-decoration: none;\n",
       "    color: var(--text-color);\n",
       "}\n",
       "/* phonetic text */\n",
       ".txtp,.txtp a:visited,.txtp a:link {\n",
       "    font-family: Gentium, sans-serif;\n",
       "    font-size: medium;\n",
       "    direction: ltr;\n",
       "    unicode-bidi: embed;\n",
       "    text-decoration: none;\n",
       "    color: var(--text-color);\n",
       "}\n",
       "/* original script text */\n",
       ".txtu,.txtu a:visited,.txtu a:link {\n",
       "    font-family: Gentium, sans-serif;\n",
       "    font-size: medium;\n",
       "    text-decoration: none;\n",
       "    color: var(--text-color);\n",
       "}\n",
       "/* hebrew */\n",
       ".txtu.hbo,.lex.hbo {\n",
       "    font-family: \"Ezra SIL\", \"SBL Hebrew\", sans-serif;\n",
       "    font-size: large;\n",
       "    direction: rtl ! important;\n",
       "    unicode-bidi: embed;\n",
       "}\n",
       "/* syriac */\n",
       ".txtu.syc,.lex.syc {\n",
       "    font-family: \"Estrangelo Edessa\", sans-serif;\n",
       "    font-size: medium;\n",
       "    direction: rtl ! important;\n",
       "    unicode-bidi: embed;\n",
       "}\n",
       "/* neo aramaic */\n",
       ".txtu.cld,.lex.cld {\n",
       "    font-family: \"CharisSIL-R\", sans-serif;\n",
       "    font-size: medium;\n",
       "    direction: ltr ! important;\n",
       "    unicode-bidi: embed;\n",
       "}\n",
       "/* standard arabic */\n",
       ".txtu.ara,.lex.ara {\n",
       "    font-family: \"AmiriQuran\", sans-serif;\n",
       "    font-size: large;\n",
       "    direction: rtl ! important;\n",
       "    unicode-bidi: embed;\n",
       "}\n",
       "/* cuneiform */\n",
       ".txtu.akk,.lex.akk {\n",
       "    font-family: Santakku, sans-serif;\n",
       "    font-size: large;\n",
       "    direction: ltr ! important;\n",
       "    unicode-bidi: embed;\n",
       "}\n",
       "/* greek */\n",
       ".txtu.grc,.lex.grc a:link {\n",
       "    font-family: Gentium, sans-serif;\n",
       "    font-size: medium;\n",
       "    direction: ltr ! important;\n",
       "    unicode-bidi: embed;\n",
       "}\n",
       "a:hover {\n",
       "    text-decoration: underline | important;\n",
       "    color: #0000ff | important;\n",
       "}\n",
       ".ltr {\n",
       "    direction: ltr ! important;\n",
       "    unicode-bidi: embed;\n",
       "}\n",
       ".rtl {\n",
       "    direction: rtl ! important;\n",
       "    unicode-bidi: embed;\n",
       "}\n",
       ".ubd {\n",
       "    unicode-bidi: embed;\n",
       "}\n",
       ".col {\n",
       "   display: inline-block;\n",
       "}\n",
       ".features {\n",
       "    font-family: monospace;\n",
       "    font-size: medium;\n",
       "    font-weight: bold;\n",
       "    color: var(--features);\n",
       "    display: flex;\n",
       "    flex-flow: column nowrap;\n",
       "    justify-content: flex-start;\n",
       "    align-items: flex-start;\n",
       "    align-content: flex-start;\n",
       "    padding: 2px;\n",
       "    margin: 2px;\n",
       "    direction: ltr;\n",
       "    unicode-bidi: embed;\n",
       "    border: var(--meta-width) solid var(--meta-color);\n",
       "    border-radius: var(--meta-width);\n",
       "}\n",
       ".features div,.features span {\n",
       "    padding: 0;\n",
       "    margin: -2px 0;\n",
       "}\n",
       ".features .f {\n",
       "    font-family: sans-serif;\n",
       "    font-size: small;\n",
       "    font-weight: normal;\n",
       "    color: #5555bb;\n",
       "}\n",
       ".features .xft {\n",
       "  color: #000000;\n",
       "  background-color: #eeeeee;\n",
       "  font-size: medium;\n",
       "  margin: 2px 0px;\n",
       "}\n",
       ".features .xft .f {\n",
       "  color: #000000;\n",
       "  background-color: #eeeeee;\n",
       "  font-size: small;\n",
       "  font-weight: normal;\n",
       "}\n",
       ".tfsechead {\n",
       "    font-family: sans-serif;\n",
       "    font-size: small;\n",
       "    font-weight: bold;\n",
       "    color: var(--tfsechead);\n",
       "    unicode-bidi: embed;\n",
       "    text-align: start;\n",
       "}\n",
       ".structure {\n",
       "    font-family: sans-serif;\n",
       "    font-size: small;\n",
       "    font-weight: bold;\n",
       "    color: var(--structure);\n",
       "    unicode-bidi: embed;\n",
       "    text-align: start;\n",
       "}\n",
       ".comments {\n",
       "    display: flex;\n",
       "    justify-content: flex-start;\n",
       "    align-items: flex-start;\n",
       "    align-content: flex-start;\n",
       "    flex-flow: column nowrap;\n",
       "}\n",
       ".nd, a:link.nd {\n",
       "    font-family: sans-serif;\n",
       "    font-size: small;\n",
       "    color: var(--node);\n",
       "    vertical-align: super;\n",
       "    direction: ltr ! important;\n",
       "    unicode-bidi: embed;\n",
       "}\n",
       ".lex {\n",
       "  color: var(--lex-color);;\n",
       "}\n",
       ".children,.children.ltr {\n",
       "    display: flex;\n",
       "    border: 0;\n",
       "    background-color: #ffffff;\n",
       "    justify-content: flex-start;\n",
       "    align-items: flex-start;\n",
       "    align-content: flex-start;\n",
       "}\n",
       ".children.stretch {\n",
       "    align-items: stretch;\n",
       "}\n",
       ".children.hor {\n",
       "    flex-flow: row nowrap;\n",
       "}\n",
       ".children.hor.wrap {\n",
       "    flex-flow: row wrap;\n",
       "}\n",
       ".children.ver {\n",
       "    flex-flow: column nowrap;\n",
       "}\n",
       ".children.ver.wrap {\n",
       "    flex-flow: column wrap;\n",
       "}\n",
       ".contnr {\n",
       "    width: fit-content;\n",
       "    display: flex;\n",
       "    justify-content: flex-start;\n",
       "    align-items: flex-start;\n",
       "    align-content: flex-start;\n",
       "    flex-flow: column nowrap;\n",
       "    background: #ffffff none repeat scroll 0 0;\n",
       "    padding:  10px 2px 2px 2px;\n",
       "    margin: 16px 2px 2px 2px;\n",
       "    border-style: solid;\n",
       "    font-size: small;\n",
       "}\n",
       ".contnr.trm {\n",
       "    background-attachment: local;\n",
       "}\n",
       ".contnr.cnul {\n",
       "    padding:  0;\n",
       "    margin: 0;\n",
       "    border-style: solid;\n",
       "    font-size: xx-small;\n",
       "}\n",
       ".contnr.cnul,.lbl.cnul {\n",
       "    border-color: var(--border-color-nul);\n",
       "    border-width: var(--border-width-nul);\n",
       "    border-radius: var(--border-width-nul);\n",
       "}\n",
       ".contnr.c0,.lbl.c0 {\n",
       "    border-color: var(--border-color0);\n",
       "    border-width: var(--border-width0);\n",
       "    border-radius: var(--border-width0);\n",
       "}\n",
       ".contnr.c1,.lbl.c1 {\n",
       "    border-color: var(--border-color1);\n",
       "    border-width: var(--border-width1);\n",
       "    border-radius: var(--border-width1);\n",
       "}\n",
       ".contnr.c2,.lbl.c2 {\n",
       "    border-color: var(--border-color2);\n",
       "    border-width: var(--border-width2);\n",
       "    border-radius: var(--border-width2);\n",
       "}\n",
       ".contnr.c3,.lbl.c3 {\n",
       "    border-color: var(--border-color3);\n",
       "    border-width: var(--border-width3);\n",
       "    border-radius: var(--border-width3);\n",
       "}\n",
       ".contnr.c4,.lbl.c4 {\n",
       "    border-color: var(--border-color4);\n",
       "    border-width: var(--border-width4);\n",
       "    border-radius: var(--border-width4);\n",
       "}\n",
       "span.plain {\n",
       "    display: inline-block;\n",
       "    white-space: pre-wrap;\n",
       "}\n",
       ".plain {\n",
       "    background-color: #ffffff;\n",
       "}\n",
       ".plain.l,.contnr.l,.contnr.l>.lbl {\n",
       "    border-left-style: dotted\n",
       "}\n",
       ".plain.r,.contnr.r,.contnr.r>.lbl {\n",
       "    border-right-style: dotted\n",
       "}\n",
       ".plain.lno,.contnr.lno,.contnr.lno>.lbl {\n",
       "    border-left-style: none\n",
       "}\n",
       ".plain.rno,.contnr.rno,.contnr.rno>.lbl {\n",
       "    border-right-style: none\n",
       "}\n",
       ".plain.l {\n",
       "    padding-left: 4px;\n",
       "    margin-left: 2px;\n",
       "    border-width: var(--border-width-plain);\n",
       "}\n",
       ".plain.r {\n",
       "    padding-right: 4px;\n",
       "    margin-right: 2px;\n",
       "    border-width: var(--border-width-plain);\n",
       "}\n",
       ".lbl {\n",
       "    font-family: monospace;\n",
       "    margin-top: -24px;\n",
       "    margin-left: 20px;\n",
       "    background: #ffffff none repeat scroll 0 0;\n",
       "    padding: 0 6px;\n",
       "    border-style: solid;\n",
       "    display: block;\n",
       "    color: var(--label)\n",
       "}\n",
       ".lbl.trm {\n",
       "    background-attachment: local;\n",
       "    margin-top: 2px;\n",
       "    margin-left: 2px;\n",
       "    padding: 2px 2px;\n",
       "    border-style: none;\n",
       "}\n",
       ".lbl.cnul {\n",
       "    font-size: xx-small;\n",
       "}\n",
       ".lbl.c0 {\n",
       "    font-size: small;\n",
       "}\n",
       ".lbl.c1 {\n",
       "    font-size: small;\n",
       "}\n",
       ".lbl.c2 {\n",
       "    font-size: medium;\n",
       "}\n",
       ".lbl.c3 {\n",
       "    font-size: medium;\n",
       "}\n",
       ".lbl.c4 {\n",
       "    font-size: large;\n",
       "}\n",
       ".occs, a:link.occs {\n",
       "    font-size: small;\n",
       "}\n",
       "\n",
       "/* PROVENANCE */\n",
       "\n",
       "div.prov {\n",
       "\tmargin: 40px;\n",
       "\tpadding: 20px;\n",
       "\tborder: 2px solid var(--fog-rim);\n",
       "}\n",
       "div.pline {\n",
       "\tdisplay: flex;\n",
       "\tflex-flow: row nowrap;\n",
       "\tjustify-content: stretch;\n",
       "\talign-items: baseline;\n",
       "}\n",
       "div.p2line {\n",
       "\tmargin-left: 2em;\n",
       "\tdisplay: flex;\n",
       "\tflex-flow: row nowrap;\n",
       "\tjustify-content: stretch;\n",
       "\talign-items: baseline;\n",
       "}\n",
       "div.psline {\n",
       "\tdisplay: flex;\n",
       "\tflex-flow: row nowrap;\n",
       "\tjustify-content: stretch;\n",
       "\talign-items: baseline;\n",
       "\tbackground-color: var(--gold-mist-back);\n",
       "}\n",
       "div.pname {\n",
       "\tflex: 0 0 5rem;\n",
       "\tfont-weight: bold;\n",
       "}\n",
       "div.pval {\n",
       "    flex: 1 1 auto;\n",
       "}\n",
       "\n",
       ":root {\n",
       "\t--node:               hsla(120, 100%,  20%, 1.0  );\n",
       "\t--label:              hsla(  0, 100%,  20%, 1.0  );\n",
       "\t--tfsechead:          hsla(  0, 100%,  25%, 1.0  );\n",
       "\t--structure:          hsla(120, 100%,  25%, 1.0  );\n",
       "\t--features:           hsla(  0,   0%,  30%, 1.0  );\n",
       "  --text-color:         hsla( 60,  80%,  10%, 1.0  );\n",
       "  --lex-color:          hsla(220,  90%,  60%, 1.0  );\n",
       "  --meta-color:         hsla(  0,   0%,  90%, 0.7  );\n",
       "  --meta-width:         3px;\n",
       "  --border-color-nul:   hsla(  0,   0%,  90%, 0.5  );\n",
       "  --border-color0:      hsla(  0,   0%,  90%, 0.9  );\n",
       "  --border-color1:      hsla(  0,   0%,  80%, 0.9  );\n",
       "  --border-color2:      hsla(  0,   0%,  70%, 0.9  );\n",
       "  --border-color3:      hsla(  0,   0%,  80%, 0.8  );\n",
       "  --border-color4:      hsla(  0,   0%,  60%, 0.9  );\n",
       "  --border-width-nul:   2px;\n",
       "  --border-width0:      2px;\n",
       "  --border-width1:      3px;\n",
       "  --border-width2:      4px;\n",
       "  --border-width3:      6px;\n",
       "  --border-width4:      5px;\n",
       "  --border-width-plain: 2px;\n",
       "}\n",
       ".hl {\n",
       "  background-color: var(--hl-strong);\n",
       "}\n",
       "span.hl {\n",
       "\tbackground-color: var(--hl-strong);\n",
       "\tborder-width: 0;\n",
       "\tborder-radius: 2px;\n",
       "\tborder-style: solid;\n",
       "}\n",
       "div.contnr.hl,div.lbl.hl {\n",
       "  background-color: var(--hl-strong);\n",
       "}\n",
       "div.contnr.hl {\n",
       "  border-color: var(--hl-rim) ! important;\n",
       "\tborder-width: 4px ! important;\n",
       "}\n",
       "\n",
       "span.hlbx {\n",
       "\tborder-color: var(--hl-rim);\n",
       "\tborder-width: 4px ! important;\n",
       "\tborder-style: solid;\n",
       "\tborder-radius: 6px;\n",
       "  padding: 4px;\n",
       "  margin: 4px;\n",
       "}\n",
       "\n",
       "span.plain {\n",
       "  display: inline-block;\n",
       "  white-space: pre-wrap;\n",
       "}\n",
       "\n",
       ":root {\n",
       "\t--hl-strong:        hsla( 60, 100%,  70%, 0.9  );\n",
       "\t--hl-rim:           hsla( 55,  80%,  50%, 1.0  );\n",
       "}\n",
       "</style>"
      ],
      "text/plain": [
       "<IPython.core.display.HTML object>"
      ]
     },
     "metadata": {},
     "output_type": "display_data"
    },
    {
     "data": {
      "text/html": [
       "<div><b>Text-Fabric API:</b> names <a target=\"_blank\" href=\"https://annotation.github.io/text-fabric/tf/cheatsheet.html\" title=\"doc\">N F E L T S C TF</a> directly usable</div><hr>"
      ],
      "text/plain": [
       "<IPython.core.display.HTML object>"
      ]
     },
     "metadata": {},
     "output_type": "display_data"
    },
    {
     "name": "stdout",
     "output_type": "stream",
     "text": [
      "The autoreload extension is already loaded. To reload it, use:\n",
      "  %reload_ext autoreload\n"
     ]
    }
   ],
   "source": [
    "from tf.app import use\n",
    "import os\n",
    "import collections\n",
    "from itertools import chain\n",
    "\n",
    "A = use('bhsa', hoist=globals())\n",
    "\n",
    "%load_ext autoreload\n",
    "%autoreload 2"
   ]
  },
  {
   "cell_type": "markdown",
   "metadata": {},
   "source": [
    "## A. Advanced API"
   ]
  },
  {
   "cell_type": "markdown",
   "metadata": {},
   "source": [
    "### `A.showContext(...)`\n",
    "\n",
    "Show app settings."
   ]
  },
  {
   "cell_type": "code",
   "execution_count": 2,
   "metadata": {},
   "outputs": [
    {
     "data": {
      "text/markdown": [
       "<details open><summary><b>bhsa</b> <i>app context</i></summary>\n",
       "\n",
       "<details open><summary>34. features</summary>\n",
       "\n",
       "\n",
       "*   **`clause`**: \n",
       "  *   []\n",
       "  *   {}\n",
       "*   **`clause_atom`**: \n",
       "  *   []\n",
       "  *   {}\n",
       "*   **`half_verse`**: \n",
       "  *   []\n",
       "  *   {}\n",
       "*   **`lex`**: \n",
       "  *   []\n",
       "  *   {}\n",
       "*   **`phrase`**: \n",
       "  *   []\n",
       "  *   {}\n",
       "*   **`phrase_atom`**: \n",
       "  *   []\n",
       "  *   {}\n",
       "*   **`sentence`**: \n",
       "  *   []\n",
       "  *   {}\n",
       "*   **`sentence_atom`**: \n",
       "  *   []\n",
       "  *   {}\n",
       "*   **`subphrase`**: \n",
       "  *   []\n",
       "  *   {}\n",
       "*   **`word`**: \n",
       "  *   \n",
       "    *   `pdp`\n",
       "    *   `vs`\n",
       "    *   `vt`\n",
       "  *   {}\n",
       "\n",
       "</details>\n",
       "</details>\n"
      ],
      "text/plain": [
       "<IPython.core.display.Markdown object>"
      ]
     },
     "metadata": {},
     "output_type": "display_data"
    }
   ],
   "source": [
    "# A.showContext(...) // Show App Settings:\n",
    "# For each key passed to this function, the information for that key \n",
    "# will be displayed. If no keys are passed, all keys will be displayed.\n",
    "A.showContext('features')"
   ]
  },
  {
   "cell_type": "markdown",
   "metadata": {},
   "source": [
    "### `A.header()`\n",
    "\n",
    "Show colofon."
   ]
  },
  {
   "cell_type": "code",
   "execution_count": 3,
   "metadata": {},
   "outputs": [
    {
     "data": {
      "text/html": [
       "<b>Text-Fabric:</b> <a target=\"_blank\" href=\"https://annotation.github.io/text-fabric/tf/cheatsheet.html\" title=\"text-fabric-api\">Text-Fabric API 9.1.1</a>, <a target=\"_blank\" href=\"https://github.com/annotation/app-bhsa\" title=\"bhsa TF-app\">app-bhsa v3</a>, <a target=\"_blank\" href=\"https://annotation.github.io/text-fabric/tf/about/searchusage.html\" title=\"Search Templates Introduction and Reference\">Search Reference</a><br><b>Data:</b> <a target=\"_blank\" href=\"https://etcbc.github.io/bhsa/0_home\" title=\"provenance of BHSA = Biblia Hebraica Stuttgartensia Amstelodamensis\">BHSA</a>, <a target=\"_blank\" href=\"https://annotation.github.io/text-fabric/tf/writing/hebrew.html\" title=\"How TF features represent text\">Character table</a>, <a target=\"_blank\" href=\"https://etcbc.github.io/bhsa/features/0_home\" title=\"BHSA feature documentation\">Feature docs</a><br><b>Features:</b><br><details><summary><b>Parallel Passages</b></summary><b><i><a target=\"_blank\" href=\"https://nbviewer.jupyter.org/github/etcbc/parallels/blob/master/programs/parallels.ipynb\" title=\"~/text-fabric-data/etcbc/parallels/tf/2021/crossref.tf\">crossref</a></i></b><br></details><details><summary><b>BHSA = Biblia Hebraica Stuttgartensia Amstelodamensis</b></summary><a target=\"_blank\" href=\"https://etcbc.github.io/bhsa/features/book\" title=\"~/text-fabric-data/etcbc/bhsa/tf/2021/book.tf\">book</a><br><a target=\"_blank\" href=\"https://etcbc.github.io/bhsa/features/book@ll\" title=\"~/text-fabric-data/etcbc/bhsa/tf/2021/book@am.tf\">book@ll</a><br><a target=\"_blank\" href=\"https://etcbc.github.io/bhsa/features/chapter\" title=\"~/text-fabric-data/etcbc/bhsa/tf/2021/chapter.tf\">chapter</a><br><a target=\"_blank\" href=\"https://etcbc.github.io/bhsa/features/code\" title=\"~/text-fabric-data/etcbc/bhsa/tf/2021/code.tf\">code</a><br><a target=\"_blank\" href=\"https://etcbc.github.io/bhsa/features/det\" title=\"~/text-fabric-data/etcbc/bhsa/tf/2021/det.tf\">det</a><br><a target=\"_blank\" href=\"https://etcbc.github.io/bhsa/features/domain\" title=\"~/text-fabric-data/etcbc/bhsa/tf/2021/domain.tf\">domain</a><br><a target=\"_blank\" href=\"https://etcbc.github.io/bhsa/features/freq_lex\" title=\"~/text-fabric-data/etcbc/bhsa/tf/2021/freq_lex.tf\">freq_lex</a><br><a target=\"_blank\" href=\"https://etcbc.github.io/bhsa/features/function\" title=\"~/text-fabric-data/etcbc/bhsa/tf/2021/function.tf\">function</a><br><a target=\"_blank\" href=\"https://etcbc.github.io/bhsa/features/g_cons\" title=\"~/text-fabric-data/etcbc/bhsa/tf/2021/g_cons.tf\">g_cons</a><br><a target=\"_blank\" href=\"https://etcbc.github.io/bhsa/features/g_cons_utf8\" title=\"~/text-fabric-data/etcbc/bhsa/tf/2021/g_cons_utf8.tf\">g_cons_utf8</a><br><a target=\"_blank\" href=\"https://etcbc.github.io/bhsa/features/g_lex\" title=\"~/text-fabric-data/etcbc/bhsa/tf/2021/g_lex.tf\">g_lex</a><br><a target=\"_blank\" href=\"https://etcbc.github.io/bhsa/features/g_lex_utf8\" title=\"~/text-fabric-data/etcbc/bhsa/tf/2021/g_lex_utf8.tf\">g_lex_utf8</a><br><a target=\"_blank\" href=\"https://etcbc.github.io/bhsa/features/g_word\" title=\"~/text-fabric-data/etcbc/bhsa/tf/2021/g_word.tf\">g_word</a><br><a target=\"_blank\" href=\"https://etcbc.github.io/bhsa/features/g_word_utf8\" title=\"~/text-fabric-data/etcbc/bhsa/tf/2021/g_word_utf8.tf\">g_word_utf8</a><br><a target=\"_blank\" href=\"https://etcbc.github.io/bhsa/features/gloss\" title=\"~/text-fabric-data/etcbc/bhsa/tf/2021/gloss.tf\">gloss</a><br><a target=\"_blank\" href=\"https://etcbc.github.io/bhsa/features/gn\" title=\"~/text-fabric-data/etcbc/bhsa/tf/2021/gn.tf\">gn</a><br><a target=\"_blank\" href=\"https://etcbc.github.io/bhsa/features/label\" title=\"~/text-fabric-data/etcbc/bhsa/tf/2021/label.tf\">label</a><br><a target=\"_blank\" href=\"https://etcbc.github.io/bhsa/features/language\" title=\"~/text-fabric-data/etcbc/bhsa/tf/2021/language.tf\">language</a><br><a target=\"_blank\" href=\"https://etcbc.github.io/bhsa/features/lex\" title=\"~/text-fabric-data/etcbc/bhsa/tf/2021/lex.tf\">lex</a><br><a target=\"_blank\" href=\"https://etcbc.github.io/bhsa/features/lex_utf8\" title=\"~/text-fabric-data/etcbc/bhsa/tf/2021/lex_utf8.tf\">lex_utf8</a><br><a target=\"_blank\" href=\"https://etcbc.github.io/bhsa/features/ls\" title=\"~/text-fabric-data/etcbc/bhsa/tf/2021/ls.tf\">ls</a><br><a target=\"_blank\" href=\"https://etcbc.github.io/bhsa/features/nametype\" title=\"~/text-fabric-data/etcbc/bhsa/tf/2021/nametype.tf\">nametype</a><br><a target=\"_blank\" href=\"https://etcbc.github.io/bhsa/features/nme\" title=\"~/text-fabric-data/etcbc/bhsa/tf/2021/nme.tf\">nme</a><br><a target=\"_blank\" href=\"https://etcbc.github.io/bhsa/features/nu\" title=\"~/text-fabric-data/etcbc/bhsa/tf/2021/nu.tf\">nu</a><br><a target=\"_blank\" href=\"https://etcbc.github.io/bhsa/features/number\" title=\"~/text-fabric-data/etcbc/bhsa/tf/2021/number.tf\">number</a><br><a target=\"_blank\" href=\"https://etcbc.github.io/bhsa/features/otype\" title=\"~/text-fabric-data/etcbc/bhsa/tf/2021/otype.tf\">otype</a><br><a target=\"_blank\" href=\"https://etcbc.github.io/bhsa/features/pargr\" title=\"~/text-fabric-data/etcbc/bhsa/tf/2021/pargr.tf\">pargr</a><br><a target=\"_blank\" href=\"https://etcbc.github.io/bhsa/features/pdp\" title=\"~/text-fabric-data/etcbc/bhsa/tf/2021/pdp.tf\">pdp</a><br><a target=\"_blank\" href=\"https://etcbc.github.io/bhsa/features/pfm\" title=\"~/text-fabric-data/etcbc/bhsa/tf/2021/pfm.tf\">pfm</a><br><a target=\"_blank\" href=\"https://etcbc.github.io/bhsa/features/prs\" title=\"~/text-fabric-data/etcbc/bhsa/tf/2021/prs.tf\">prs</a><br><a target=\"_blank\" href=\"https://etcbc.github.io/bhsa/features/prs_gn\" title=\"~/text-fabric-data/etcbc/bhsa/tf/2021/prs_gn.tf\">prs_gn</a><br><a target=\"_blank\" href=\"https://etcbc.github.io/bhsa/features/prs_nu\" title=\"~/text-fabric-data/etcbc/bhsa/tf/2021/prs_nu.tf\">prs_nu</a><br><a target=\"_blank\" href=\"https://etcbc.github.io/bhsa/features/prs_ps\" title=\"~/text-fabric-data/etcbc/bhsa/tf/2021/prs_ps.tf\">prs_ps</a><br><a target=\"_blank\" href=\"https://etcbc.github.io/bhsa/features/ps\" title=\"~/text-fabric-data/etcbc/bhsa/tf/2021/ps.tf\">ps</a><br><a target=\"_blank\" href=\"https://etcbc.github.io/bhsa/features/qere\" title=\"~/text-fabric-data/etcbc/bhsa/tf/2021/qere.tf\">qere</a><br><a target=\"_blank\" href=\"https://etcbc.github.io/bhsa/features/qere_trailer\" title=\"~/text-fabric-data/etcbc/bhsa/tf/2021/qere_trailer.tf\">qere_trailer</a><br><a target=\"_blank\" href=\"https://etcbc.github.io/bhsa/features/qere_trailer_utf8\" title=\"~/text-fabric-data/etcbc/bhsa/tf/2021/qere_trailer_utf8.tf\">qere_trailer_utf8</a><br><a target=\"_blank\" href=\"https://etcbc.github.io/bhsa/features/qere_utf8\" title=\"~/text-fabric-data/etcbc/bhsa/tf/2021/qere_utf8.tf\">qere_utf8</a><br><a target=\"_blank\" href=\"https://etcbc.github.io/bhsa/features/rank_lex\" title=\"~/text-fabric-data/etcbc/bhsa/tf/2021/rank_lex.tf\">rank_lex</a><br><a target=\"_blank\" href=\"https://etcbc.github.io/bhsa/features/rela\" title=\"~/text-fabric-data/etcbc/bhsa/tf/2021/rela.tf\">rela</a><br><a target=\"_blank\" href=\"https://etcbc.github.io/bhsa/features/sp\" title=\"~/text-fabric-data/etcbc/bhsa/tf/2021/sp.tf\">sp</a><br><a target=\"_blank\" href=\"https://etcbc.github.io/bhsa/features/st\" title=\"~/text-fabric-data/etcbc/bhsa/tf/2021/st.tf\">st</a><br><a target=\"_blank\" href=\"https://etcbc.github.io/bhsa/features/tab\" title=\"~/text-fabric-data/etcbc/bhsa/tf/2021/tab.tf\">tab</a><br><a target=\"_blank\" href=\"https://etcbc.github.io/bhsa/features/trailer\" title=\"~/text-fabric-data/etcbc/bhsa/tf/2021/trailer.tf\">trailer</a><br><a target=\"_blank\" href=\"https://etcbc.github.io/bhsa/features/trailer_utf8\" title=\"~/text-fabric-data/etcbc/bhsa/tf/2021/trailer_utf8.tf\">trailer_utf8</a><br><a target=\"_blank\" href=\"https://etcbc.github.io/bhsa/features/txt\" title=\"~/text-fabric-data/etcbc/bhsa/tf/2021/txt.tf\">txt</a><br><a target=\"_blank\" href=\"https://etcbc.github.io/bhsa/features/typ\" title=\"~/text-fabric-data/etcbc/bhsa/tf/2021/typ.tf\">typ</a><br><a target=\"_blank\" href=\"https://etcbc.github.io/bhsa/features/uvf\" title=\"~/text-fabric-data/etcbc/bhsa/tf/2021/uvf.tf\">uvf</a><br><a target=\"_blank\" href=\"https://etcbc.github.io/bhsa/features/vbe\" title=\"~/text-fabric-data/etcbc/bhsa/tf/2021/vbe.tf\">vbe</a><br><a target=\"_blank\" href=\"https://etcbc.github.io/bhsa/features/vbs\" title=\"~/text-fabric-data/etcbc/bhsa/tf/2021/vbs.tf\">vbs</a><br><a target=\"_blank\" href=\"https://etcbc.github.io/bhsa/features/verse\" title=\"~/text-fabric-data/etcbc/bhsa/tf/2021/verse.tf\">verse</a><br><a target=\"_blank\" href=\"https://etcbc.github.io/bhsa/features/voc_lex\" title=\"~/text-fabric-data/etcbc/bhsa/tf/2021/voc_lex.tf\">voc_lex</a><br><a target=\"_blank\" href=\"https://etcbc.github.io/bhsa/features/voc_lex_utf8\" title=\"~/text-fabric-data/etcbc/bhsa/tf/2021/voc_lex_utf8.tf\">voc_lex_utf8</a><br><a target=\"_blank\" href=\"https://etcbc.github.io/bhsa/features/vs\" title=\"~/text-fabric-data/etcbc/bhsa/tf/2021/vs.tf\">vs</a><br><a target=\"_blank\" href=\"https://etcbc.github.io/bhsa/features/vt\" title=\"~/text-fabric-data/etcbc/bhsa/tf/2021/vt.tf\">vt</a><br><b><i><a target=\"_blank\" href=\"https://etcbc.github.io/bhsa/features/mother\" title=\"~/text-fabric-data/etcbc/bhsa/tf/2021/mother.tf\">mother</a></i></b><br><b><i><a target=\"_blank\" href=\"https://etcbc.github.io/bhsa/features/omap@ll\" title=\"~/text-fabric-data/etcbc/bhsa/tf/2021/omap@2017-2021.tf\">omap@ll</a></i></b><br><b><i><a target=\"_blank\" href=\"https://etcbc.github.io/bhsa/features/oslots\" title=\"~/text-fabric-data/etcbc/bhsa/tf/2021/oslots.tf\">oslots</a></i></b><br></details><details><summary><b>Phonetic Transcriptions</b></summary><a target=\"_blank\" href=\"https://nbviewer.jupyter.org/github/etcbc/phono/blob/master/programs/phono.ipynb\" title=\"~/text-fabric-data/etcbc/phono/tf/2021/phono.tf\">phono</a><br><a target=\"_blank\" href=\"https://nbviewer.jupyter.org/github/etcbc/phono/blob/master/programs/phono.ipynb\" title=\"~/text-fabric-data/etcbc/phono/tf/2021/phono_trailer.tf\">phono_trailer</a><br></details>"
      ],
      "text/plain": [
       "<IPython.core.display.HTML object>"
      ]
     },
     "metadata": {},
     "output_type": "display_data"
    }
   ],
   "source": [
    "# Show colofon, a.k.a, the publishing information. \n",
    "A.header()"
   ]
  },
  {
   "cell_type": "markdown",
   "metadata": {},
   "source": [
    "### `A.webLink(n, ...)`\n",
    "\n",
    "Hyperlink to node n on the web."
   ]
  },
  {
   "cell_type": "code",
   "execution_count": 4,
   "metadata": {},
   "outputs": [
    {
     "data": {
      "text/html": [
       "<a target=\"_blank\" href=\"https://shebanq.ancient-data.org/hebrew/text?book=Genesis&amp;chapter=1&amp;verse=26&amp;version=2021&amp;mr=m&amp;qw=q&amp;tp=txt_p&amp;tr=hb&amp;wget=v&amp;qget=v&amp;nget=vt\" title=\"Show this on SHEBANQ\" sec=\"Genesis 1:26\">Genesis 1:26</a>"
      ],
      "text/plain": [
       "<IPython.core.display.HTML object>"
      ]
     },
     "metadata": {},
     "output_type": "display_data"
    }
   ],
   "source": [
    "# A.webLink(n, ...) // Hyperlink to node n on the web.\n",
    "A.webLink(500)"
   ]
  },
  {
   "cell_type": "markdown",
   "metadata": {},
   "source": [
    "### `A.dm(markdownString)`\n",
    "\n",
    "Display markdown string in notebook."
   ]
  },
  {
   "cell_type": "code",
   "execution_count": 5,
   "metadata": {},
   "outputs": [
    {
     "data": {
      "text/markdown": [
       "**Node value** = `200`\n"
      ],
      "text/plain": [
       "<IPython.core.display.Markdown object>"
      ]
     },
     "metadata": {},
     "output_type": "display_data"
    }
   ],
   "source": [
    "# A.dm(markdownString) // Display markdown string in notebook.\n",
    "n = 200\n",
    "A.dm(f\"**Node value** = `{n}`\\n\")"
   ]
  },
  {
   "cell_type": "markdown",
   "metadata": {},
   "source": [
    "### `A.dh(htmlString)`\n",
    "\n",
    "Display HTML string in notebook."
   ]
  },
  {
   "cell_type": "code",
   "execution_count": 6,
   "metadata": {},
   "outputs": [
    {
     "data": {
      "text/html": [
       "<h2>Node value</h2><b>500</b>\n"
      ],
      "text/plain": [
       "<IPython.core.display.HTML object>"
      ]
     },
     "metadata": {},
     "output_type": "display_data"
    }
   ],
   "source": [
    "# A.dh(htmlString) // Display HTML string in notebook.\n",
    "n = 500\n",
    "A.dh(f\"<h2>Node value</h2><b>{n}</b>\\n\")"
   ]
  },
  {
   "cell_type": "markdown",
   "metadata": {},
   "source": [
    "### Display methods\n",
    "\n",
    ">A.method(option1=value1, option2=value2, ...)\n",
    "\n",
    "See [options and values](https://annotation.github.io/text-fabric/tf/advanced/options.html)"
   ]
  },
  {
   "cell_type": "markdown",
   "metadata": {},
   "source": [
    "### `A.displayShow(...)`\n",
    "\n",
    "Show display options."
   ]
  },
  {
   "cell_type": "code",
   "execution_count": 7,
   "metadata": {},
   "outputs": [
    {
     "data": {
      "text/markdown": [
       "<details open><summary><b>current display options</b></summary>\n",
       "\n",
       "<details ><summary>18. skipCols</summary>\n",
       "\n",
       "set()\n",
       "\n",
       "</details>\n",
       "<details ><summary>24. withPassage</summary>\n",
       "\n",
       "`True`\n",
       "\n",
       "</details>\n",
       "</details>\n"
      ],
      "text/plain": [
       "<IPython.core.display.Markdown object>"
      ]
     },
     "metadata": {},
     "output_type": "display_data"
    }
   ],
   "source": [
    "# A.displayShow(...) // No args for all display options. \n",
    "A.displayShow('skipCols', 'withPassage')"
   ]
  },
  {
   "cell_type": "markdown",
   "metadata": {},
   "source": [
    "### `A.displaySetup(...)`\n",
    "\n",
    "Set up display options."
   ]
  },
  {
   "cell_type": "code",
   "execution_count": 8,
   "metadata": {},
   "outputs": [
    {
     "data": {
      "text/markdown": [
       "<details open><summary><b>current display options</b></summary>\n",
       "\n",
       "<details ><summary>18. skipCols</summary>\n",
       "\n",
       "\n",
       "1.  `1`\n",
       "2.  `2`\n",
       "3.  `3`\n",
       "\n",
       "</details>\n",
       "<details ><summary>24. withPassage</summary>\n",
       "\n",
       "`True`\n",
       "\n",
       "</details>\n",
       "</details>\n"
      ],
      "text/plain": [
       "<IPython.core.display.Markdown object>"
      ]
     },
     "metadata": {},
     "output_type": "display_data"
    }
   ],
   "source": [
    "# A.displaySetup(...) // Set up your display options.\n",
    "A.displaySetup(skipCols='1 2 3', withPassage=True)\n",
    "A.displayShow('skipCols', 'withPassage')"
   ]
  },
  {
   "cell_type": "markdown",
   "metadata": {},
   "source": [
    "### `A.displayReset(...)`\n",
    "\n",
    "Reset display options."
   ]
  },
  {
   "cell_type": "code",
   "execution_count": 9,
   "metadata": {},
   "outputs": [
    {
     "data": {
      "text/markdown": [
       "<details open><summary><b>current display options</b></summary>\n",
       "\n",
       "<details ><summary>18. skipCols</summary>\n",
       "\n",
       "set()\n",
       "\n",
       "</details>\n",
       "<details ><summary>24. withPassage</summary>\n",
       "\n",
       "`True`\n",
       "\n",
       "</details>\n",
       "</details>\n"
      ],
      "text/plain": [
       "<IPython.core.display.Markdown object>"
      ]
     },
     "metadata": {},
     "output_type": "display_data"
    }
   ],
   "source": [
    "# A.displayReset(...) // No args to reset everything.\n",
    "A.displayReset('skipCols')\n",
    "A.displayShow('skipCols', 'withPassage')"
   ]
  },
  {
   "cell_type": "markdown",
   "metadata": {},
   "source": [
    "### `A.table(results, ...)`\n",
    "\n",
    "Plain rendering of tuple of tuples of node."
   ]
  },
  {
   "cell_type": "code",
   "execution_count": 10,
   "metadata": {},
   "outputs": [
    {
     "data": {
      "text/html": [
       "<table><tr class=\"tf rtl\"><th class=\"tf rtl\">n</th><th class=\"tf rtl\">p</th><th class=\"tf rtl\">word</th><th class=\"tf\">word</th><th class=\"tf\">word</th></tr>\n",
       "<tr class=\"tf rtl\"><td class=\"tf rtl\">1</td><td class=\"tf rtl\"><span class=\"tfsechead rtl\"><span class=\"ltr\"><a target=\"_blank\" href=\"https://shebanq.ancient-data.org/hebrew/text?book=Genesis&amp;chapter=1&amp;verse=1&amp;version=2021&amp;mr=m&amp;qw=q&amp;tp=txt_p&amp;tr=hb&amp;wget=v&amp;qget=v&amp;nget=vt\" title=\"Show this on SHEBANQ\" sec=\"Genesis 1:1\">Genesis 1:1</a></span></span></td><td class=\"tf rtl\"><span class=\"rtl ubd\"><span class=\"plain rtl  hl\" ><span class=\"txtu hbo\">ב</span></span></span></td><td class=\"tf rtl\"><span class=\"rtl ubd\"><span class=\"plain rtl  hl\" ><span class=\"txtu hbo\">ראשׁית </span></span></span></td><td class=\"tf rtl\"><span class=\"rtl ubd\"><span class=\"plain rtl  hl\" ><span class=\"txtu hbo\">ברא </span></span></span></td></tr>\n",
       "<tr class=\"tf rtl\"><td class=\"tf rtl\">2</td><td class=\"tf rtl\"><span class=\"tfsechead rtl\"><span class=\"ltr\"><a target=\"_blank\" href=\"https://shebanq.ancient-data.org/hebrew/text?book=Genesis&amp;chapter=1&amp;verse=1&amp;version=2021&amp;mr=m&amp;qw=q&amp;tp=txt_p&amp;tr=hb&amp;wget=v&amp;qget=v&amp;nget=vt\" title=\"Show this on SHEBANQ\" sec=\"Genesis 1:1\">Genesis 1:1</a></span></span></td><td class=\"tf rtl\"><span class=\"rtl ubd\"><span class=\"plain rtl  hl\" ><span class=\"txtu hbo\">אלהים </span></span></span></td><td class=\"tf rtl\"><span class=\"rtl ubd\"><span class=\"plain rtl  hl\" ><span class=\"txtu hbo\">את </span></span></span></td><td class=\"tf rtl\"><span class=\"rtl ubd\"><span class=\"plain rtl  hl\" ><span class=\"txtu hbo\">ה</span></span></span></td></tr>\n",
       "<tr class=\"tf rtl\"><td class=\"tf rtl\">3</td><td class=\"tf rtl\"><span class=\"tfsechead rtl\"><span class=\"ltr\"><a target=\"_blank\" href=\"https://shebanq.ancient-data.org/hebrew/text?book=Genesis&amp;chapter=1&amp;verse=1&amp;version=2021&amp;mr=m&amp;qw=q&amp;tp=txt_p&amp;tr=hb&amp;wget=v&amp;qget=v&amp;nget=vt\" title=\"Show this on SHEBANQ\" sec=\"Genesis 1:1\">Genesis 1:1</a></span></span></td><td class=\"tf rtl\"><span class=\"rtl ubd\"><span class=\"plain rtl  hl\" ><span class=\"txtu hbo\">שׁמים </span></span></span></td><td class=\"tf rtl\"><span class=\"rtl ubd\"><span class=\"plain rtl  hl\" ><span class=\"txtu hbo\">ו</span></span></span></td><td class=\"tf rtl\"><span class=\"rtl ubd\"><span class=\"plain rtl  hl\" ><span class=\"txtu hbo\">את </span></span></span></td><td class=\"tf rtl\"><span class=\"rtl ubd\"><span class=\"plain rtl  hl\" ><span class=\"txtu hbo\">ה</span></span></span></td></tr>\n",
       "<tr class=\"tf rtl\"><td class=\"tf rtl\">4</td><td class=\"tf rtl\"><span class=\"tfsechead rtl\"><span class=\"ltr\"><a target=\"_blank\" href=\"https://shebanq.ancient-data.org/hebrew/text?book=Genesis&amp;chapter=15&amp;verse=12&amp;version=2021&amp;mr=m&amp;qw=q&amp;tp=txt_p&amp;tr=hb&amp;wget=v&amp;qget=v&amp;nget=vt\" title=\"Show this on SHEBANQ\" sec=\"Genesis 15:12\">Genesis 15:12</a></span></span></td><td class=\"tf rtl\"><span class=\"rtl ubd\"><span class=\"plain rtl  hl\" ><span class=\"txtu hbo\">בוא </span></span></span></td><td class=\"tf rtl\"><span class=\"rtl ubd\"><span class=\"plain rtl  hl\" ><span class=\"txtu hbo\">יעל </span></span></span></td><td class=\"tf rtl\"><span class=\"rtl ubd\"><span class=\"plain rtl  hl\" ><span class=\"txtu hbo\">אברם </span></span></span></td></tr></table>"
      ],
      "text/plain": [
       "<IPython.core.display.HTML object>"
      ]
     },
     "metadata": {},
     "output_type": "display_data"
    }
   ],
   "source": [
    "# A.table(results, ...) // Plain rendering of tuple of tuples of node\n",
    "words = ( (1, 2, 3), (4, 5, 6), (7, 8, 9, 10), (6866, 5867, 5868))\n",
    "A.table(words, fmt='text-orig-plain')"
   ]
  },
  {
   "cell_type": "markdown",
   "metadata": {},
   "source": [
    "### `A.plainTuple(tup, ith, ...)`\n",
    "\n",
    "Plain rendering of tuple of node."
   ]
  },
  {
   "cell_type": "code",
   "execution_count": 11,
   "metadata": {},
   "outputs": [
    {
     "data": {
      "text/html": [
       "<table><tr class=\"tf rtl\"><th class=\"tf rtl\">n</th><th class=\"tf rtl\">p</th><th class=\"tf rtl\">word</th><th class=\"tf rtl\">word</th><th class=\"tf rtl\">word</th></tr><tr class=\"tf rtl\"><td class=\"tf rtl\">1</td><td class=\"tf rtl\"><span class=\"tfsechead rtl\"><span class=\"ltr\"><a target=\"_blank\" href=\"https://shebanq.ancient-data.org/hebrew/text?book=Genesis&amp;chapter=1&amp;verse=1&amp;version=2021&amp;mr=m&amp;qw=q&amp;tp=txt_p&amp;tr=hb&amp;wget=v&amp;qget=v&amp;nget=vt\" title=\"Show this on SHEBANQ\" sec=\"Genesis 1:1\">Genesis 1:1</a></span></span></td><td class=\"tf rtl\"><span class=\"rtl ubd\"><span class=\"plain rtl  hl\" ><span class=\"txtu hbo\">בְּ</span></span></span></td><td class=\"tf rtl\"><span class=\"rtl ubd\"><span class=\"plain rtl  hl\" ><span class=\"txtu hbo\">רֵאשִׁ֖ית </span></span></span></td><td class=\"tf rtl\"><span class=\"rtl ubd\"><span class=\"plain rtl  hl\" ><span class=\"txtu hbo\">בָּרָ֣א </span></span></span></td></tr></table>"
      ],
      "text/plain": [
       "<IPython.core.display.HTML object>"
      ]
     },
     "metadata": {},
     "output_type": "display_data"
    }
   ],
   "source": [
    "# A.plainTuple(tup, seq, ...) // Display plain text of a tuple of nodes.\n",
    "A.plainTuple(words[0], 1)"
   ]
  },
  {
   "cell_type": "markdown",
   "metadata": {},
   "source": [
    "### `A.plain(node, ...)`\n",
    "\n",
    "Plain rendering of node."
   ]
  },
  {
   "cell_type": "code",
   "execution_count": 12,
   "metadata": {},
   "outputs": [
    {
     "data": {
      "text/html": [
       "<div class=\"rtl\"><span class=\"txtu hbo\">רֵאשִׁ֖ית </span></div>"
      ],
      "text/plain": [
       "<IPython.core.display.HTML object>"
      ]
     },
     "metadata": {},
     "output_type": "display_data"
    }
   ],
   "source": [
    "# A.plain(node, ...) // Plain rendering of node.\n",
    "A.plain(2, withPassage=False)"
   ]
  },
  {
   "cell_type": "markdown",
   "metadata": {},
   "source": [
    "### `A.show(results, ...)`\n",
    "\n",
    "Pretty rendering of tuple of tuples of node."
   ]
  },
  {
   "cell_type": "code",
   "execution_count": 13,
   "metadata": {},
   "outputs": [
    {
     "data": {
      "text/html": [
       "<p><b>result</b> <i>1</i></p>"
      ],
      "text/plain": [
       "<IPython.core.display.HTML object>"
      ]
     },
     "metadata": {},
     "output_type": "display_data"
    },
    {
     "data": {
      "text/html": [
       "<div class=\"tfsechead rtl\"><span class=\"ltr\"><a target=\"_blank\" href=\"https://shebanq.ancient-data.org/hebrew/text?book=Genesis&amp;chapter=1&amp;verse=1&amp;version=2021&amp;mr=m&amp;qw=q&amp;tp=txt_p&amp;tr=hb&amp;wget=v&amp;qget=v&amp;nget=vt\" title=\"Show this on SHEBANQ\" sec=\"Genesis 1:1\">Genesis 1:1</a></span></div><div class=\"rtl children\"><div class=\"contnr c3  rtl  \" ><div class=\"lbl c3  \" ><span class=\"nd\">verse</span></div><div class=\"children hor wrap rtl\"><div class=\"contnr c2  rtl  \" ><div class=\"lbl c2  \" ><span class=\"nd\">sentence</span></div><div class=\"children hor wrap rtl\"><div class=\"contnr c2  rtl  \" ><div class=\"lbl c2  \" ><span class=\"nd\">clause</span></div><div class=\"children hor wrap rtl\"><div class=\"contnr c1  rtl  \" ><div class=\"lbl c1  \" ><span class=\"nd\">phrase</span></div><div class=\"children hor wrap rtl\"><div class=\"contnr c0 trm rtl  hl\" ><div class=\"lbl c0 trm hl\" ><a class=\" txtu hbo\" target=\"_blank\" href=\"https://shebanq.ancient-data.org/hebrew/word?version=2021&amp;id=1B\" title=\"Show this on SHEBANQ\"><span class=\"txtu hbo\">בְּ</span></a></div></div><div class=\"contnr c0 trm rtl  hl\" ><div class=\"lbl c0 trm hl\" ><a class=\" txtu hbo\" target=\"_blank\" href=\"https://shebanq.ancient-data.org/hebrew/word?version=2021&amp;id=1RACJTn\" title=\"Show this on SHEBANQ\"><span class=\"txtu hbo\">רֵאשִׁ֖ית </span></a></div></div></div></div><div class=\"contnr c1  rtl  \" ><div class=\"lbl c1  \" ><span class=\"nd\">phrase</span></div><div class=\"children hor wrap rtl\"><div class=\"contnr c0 trm rtl  hl\" ><div class=\"lbl c0 trm hl\" ><a class=\" txtu hbo\" target=\"_blank\" href=\"https://shebanq.ancient-data.org/hebrew/word?version=2021&amp;id=1BRAv\" title=\"Show this on SHEBANQ\"><span class=\"txtu hbo\">בָּרָ֣א </span></a></div></div></div></div><div class=\"contnr c1  rtl  \" ><div class=\"lbl c1  \" ><span class=\"nd\">phrase</span></div><div class=\"children hor wrap rtl\"><div class=\"contnr c0 trm rtl  \" ><div class=\"lbl c0 trm \" ><a class=\" txtu hbo\" target=\"_blank\" href=\"https://shebanq.ancient-data.org/hebrew/word?version=2021&amp;id=1ALHJMn\" title=\"Show this on SHEBANQ\"><span class=\"txtu hbo\">אֱלֹהִ֑ים </span></a></div></div></div></div><div class=\"contnr c1  rtl  \" ><div class=\"lbl c1  \" ><span class=\"nd\">phrase</span></div><div class=\"children hor wrap rtl\"><div class=\"contnr c0 trm rtl  \" ><div class=\"lbl c0 trm \" ><a class=\" txtu hbo\" target=\"_blank\" href=\"https://shebanq.ancient-data.org/hebrew/word?version=2021&amp;id=1AT\" title=\"Show this on SHEBANQ\"><span class=\"txtu hbo\">אֵ֥ת </span></a></div></div><div class=\"contnr c0 trm rtl  \" ><div class=\"lbl c0 trm \" ><a class=\" txtu hbo\" target=\"_blank\" href=\"https://shebanq.ancient-data.org/hebrew/word?version=2021&amp;id=1H\" title=\"Show this on SHEBANQ\"><span class=\"txtu hbo\">הַ</span></a></div></div><div class=\"contnr c0 trm rtl  \" ><div class=\"lbl c0 trm \" ><a class=\" txtu hbo\" target=\"_blank\" href=\"https://shebanq.ancient-data.org/hebrew/word?version=2021&amp;id=1CMJMn\" title=\"Show this on SHEBANQ\"><span class=\"txtu hbo\">שָּׁמַ֖יִם </span></a></div></div><div class=\"contnr c0 trm rtl  \" ><div class=\"lbl c0 trm \" ><a class=\" txtu hbo\" target=\"_blank\" href=\"https://shebanq.ancient-data.org/hebrew/word?version=2021&amp;id=1W\" title=\"Show this on SHEBANQ\"><span class=\"txtu hbo\">וְ</span></a></div></div><div class=\"contnr c0 trm rtl  \" ><div class=\"lbl c0 trm \" ><a class=\" txtu hbo\" target=\"_blank\" href=\"https://shebanq.ancient-data.org/hebrew/word?version=2021&amp;id=1AT\" title=\"Show this on SHEBANQ\"><span class=\"txtu hbo\">אֵ֥ת </span></a></div></div><div class=\"contnr c0 trm rtl  \" ><div class=\"lbl c0 trm \" ><a class=\" txtu hbo\" target=\"_blank\" href=\"https://shebanq.ancient-data.org/hebrew/word?version=2021&amp;id=1H\" title=\"Show this on SHEBANQ\"><span class=\"txtu hbo\">הָ</span></a></div></div><div class=\"contnr c0 trm rtl  \" ><div class=\"lbl c0 trm \" ><a class=\" txtu hbo\" target=\"_blank\" href=\"https://shebanq.ancient-data.org/hebrew/word?version=2021&amp;id=1ARYn\" title=\"Show this on SHEBANQ\"><span class=\"txtu hbo\">אָֽרֶץ׃ </span></a></div></div></div></div></div></div></div></div></div></div></div>"
      ],
      "text/plain": [
       "<IPython.core.display.HTML object>"
      ]
     },
     "metadata": {},
     "output_type": "display_data"
    },
    {
     "data": {
      "text/html": [
       "<p><b>result</b> <i>2</i></p>"
      ],
      "text/plain": [
       "<IPython.core.display.HTML object>"
      ]
     },
     "metadata": {},
     "output_type": "display_data"
    },
    {
     "data": {
      "text/html": [
       "<div class=\"tfsechead rtl\"><span class=\"ltr\"><a target=\"_blank\" href=\"https://shebanq.ancient-data.org/hebrew/text?book=Genesis&amp;chapter=1&amp;verse=1&amp;version=2021&amp;mr=m&amp;qw=q&amp;tp=txt_p&amp;tr=hb&amp;wget=v&amp;qget=v&amp;nget=vt\" title=\"Show this on SHEBANQ\" sec=\"Genesis 1:1\">Genesis 1:1</a></span></div><div class=\"rtl children\"><div class=\"contnr c3  rtl  \" ><div class=\"lbl c3  \" ><span class=\"nd\">verse</span></div><div class=\"children hor wrap rtl\"><div class=\"contnr c2  rtl  \" ><div class=\"lbl c2  \" ><span class=\"nd\">sentence</span></div><div class=\"children hor wrap rtl\"><div class=\"contnr c2  rtl  \" ><div class=\"lbl c2  \" ><span class=\"nd\">clause</span></div><div class=\"children hor wrap rtl\"><div class=\"contnr c1  rtl  \" ><div class=\"lbl c1  \" ><span class=\"nd\">phrase</span></div><div class=\"children hor wrap rtl\"><div class=\"contnr c0 trm rtl  \" ><div class=\"lbl c0 trm \" ><a class=\" txtu hbo\" target=\"_blank\" href=\"https://shebanq.ancient-data.org/hebrew/word?version=2021&amp;id=1B\" title=\"Show this on SHEBANQ\"><span class=\"txtu hbo\">בְּ</span></a></div></div><div class=\"contnr c0 trm rtl  \" ><div class=\"lbl c0 trm \" ><a class=\" txtu hbo\" target=\"_blank\" href=\"https://shebanq.ancient-data.org/hebrew/word?version=2021&amp;id=1RACJTn\" title=\"Show this on SHEBANQ\"><span class=\"txtu hbo\">רֵאשִׁ֖ית </span></a></div></div></div></div><div class=\"contnr c1  rtl  \" ><div class=\"lbl c1  \" ><span class=\"nd\">phrase</span></div><div class=\"children hor wrap rtl\"><div class=\"contnr c0 trm rtl  \" ><div class=\"lbl c0 trm \" ><a class=\" txtu hbo\" target=\"_blank\" href=\"https://shebanq.ancient-data.org/hebrew/word?version=2021&amp;id=1BRAv\" title=\"Show this on SHEBANQ\"><span class=\"txtu hbo\">בָּרָ֣א </span></a></div></div></div></div><div class=\"contnr c1  rtl  \" ><div class=\"lbl c1  \" ><span class=\"nd\">phrase</span></div><div class=\"children hor wrap rtl\"><div class=\"contnr c0 trm rtl  hl\" ><div class=\"lbl c0 trm hl\" ><a class=\" txtu hbo\" target=\"_blank\" href=\"https://shebanq.ancient-data.org/hebrew/word?version=2021&amp;id=1ALHJMn\" title=\"Show this on SHEBANQ\"><span class=\"txtu hbo\">אֱלֹהִ֑ים </span></a></div></div></div></div><div class=\"contnr c1  rtl  \" ><div class=\"lbl c1  \" ><span class=\"nd\">phrase</span></div><div class=\"children hor wrap rtl\"><div class=\"contnr c0 trm rtl  hl\" ><div class=\"lbl c0 trm hl\" ><a class=\" txtu hbo\" target=\"_blank\" href=\"https://shebanq.ancient-data.org/hebrew/word?version=2021&amp;id=1AT\" title=\"Show this on SHEBANQ\"><span class=\"txtu hbo\">אֵ֥ת </span></a></div></div><div class=\"contnr c0 trm rtl  hl\" ><div class=\"lbl c0 trm hl\" ><a class=\" txtu hbo\" target=\"_blank\" href=\"https://shebanq.ancient-data.org/hebrew/word?version=2021&amp;id=1H\" title=\"Show this on SHEBANQ\"><span class=\"txtu hbo\">הַ</span></a></div></div><div class=\"contnr c0 trm rtl  \" ><div class=\"lbl c0 trm \" ><a class=\" txtu hbo\" target=\"_blank\" href=\"https://shebanq.ancient-data.org/hebrew/word?version=2021&amp;id=1CMJMn\" title=\"Show this on SHEBANQ\"><span class=\"txtu hbo\">שָּׁמַ֖יִם </span></a></div></div><div class=\"contnr c0 trm rtl  \" ><div class=\"lbl c0 trm \" ><a class=\" txtu hbo\" target=\"_blank\" href=\"https://shebanq.ancient-data.org/hebrew/word?version=2021&amp;id=1W\" title=\"Show this on SHEBANQ\"><span class=\"txtu hbo\">וְ</span></a></div></div><div class=\"contnr c0 trm rtl  \" ><div class=\"lbl c0 trm \" ><a class=\" txtu hbo\" target=\"_blank\" href=\"https://shebanq.ancient-data.org/hebrew/word?version=2021&amp;id=1AT\" title=\"Show this on SHEBANQ\"><span class=\"txtu hbo\">אֵ֥ת </span></a></div></div><div class=\"contnr c0 trm rtl  \" ><div class=\"lbl c0 trm \" ><a class=\" txtu hbo\" target=\"_blank\" href=\"https://shebanq.ancient-data.org/hebrew/word?version=2021&amp;id=1H\" title=\"Show this on SHEBANQ\"><span class=\"txtu hbo\">הָ</span></a></div></div><div class=\"contnr c0 trm rtl  \" ><div class=\"lbl c0 trm \" ><a class=\" txtu hbo\" target=\"_blank\" href=\"https://shebanq.ancient-data.org/hebrew/word?version=2021&amp;id=1ARYn\" title=\"Show this on SHEBANQ\"><span class=\"txtu hbo\">אָֽרֶץ׃ </span></a></div></div></div></div></div></div></div></div></div></div></div>"
      ],
      "text/plain": [
       "<IPython.core.display.HTML object>"
      ]
     },
     "metadata": {},
     "output_type": "display_data"
    },
    {
     "data": {
      "text/html": [
       "<p><b>result</b> <i>3</i></p>"
      ],
      "text/plain": [
       "<IPython.core.display.HTML object>"
      ]
     },
     "metadata": {},
     "output_type": "display_data"
    },
    {
     "data": {
      "text/html": [
       "<div class=\"tfsechead rtl\"><span class=\"ltr\"><a target=\"_blank\" href=\"https://shebanq.ancient-data.org/hebrew/text?book=Genesis&amp;chapter=1&amp;verse=1&amp;version=2021&amp;mr=m&amp;qw=q&amp;tp=txt_p&amp;tr=hb&amp;wget=v&amp;qget=v&amp;nget=vt\" title=\"Show this on SHEBANQ\" sec=\"Genesis 1:1\">Genesis 1:1</a></span></div><div class=\"rtl children\"><div class=\"contnr c3  rtl  \" ><div class=\"lbl c3  \" ><span class=\"nd\">verse</span></div><div class=\"children hor wrap rtl\"><div class=\"contnr c2  rtl  \" ><div class=\"lbl c2  \" ><span class=\"nd\">sentence</span></div><div class=\"children hor wrap rtl\"><div class=\"contnr c2  rtl  \" ><div class=\"lbl c2  \" ><span class=\"nd\">clause</span></div><div class=\"children hor wrap rtl\"><div class=\"contnr c1  rtl  \" ><div class=\"lbl c1  \" ><span class=\"nd\">phrase</span></div><div class=\"children hor wrap rtl\"><div class=\"contnr c0 trm rtl  \" ><div class=\"lbl c0 trm \" ><a class=\" txtu hbo\" target=\"_blank\" href=\"https://shebanq.ancient-data.org/hebrew/word?version=2021&amp;id=1B\" title=\"Show this on SHEBANQ\"><span class=\"txtu hbo\">בְּ</span></a></div></div><div class=\"contnr c0 trm rtl  \" ><div class=\"lbl c0 trm \" ><a class=\" txtu hbo\" target=\"_blank\" href=\"https://shebanq.ancient-data.org/hebrew/word?version=2021&amp;id=1RACJTn\" title=\"Show this on SHEBANQ\"><span class=\"txtu hbo\">רֵאשִׁ֖ית </span></a></div></div></div></div><div class=\"contnr c1  rtl  \" ><div class=\"lbl c1  \" ><span class=\"nd\">phrase</span></div><div class=\"children hor wrap rtl\"><div class=\"contnr c0 trm rtl  \" ><div class=\"lbl c0 trm \" ><a class=\" txtu hbo\" target=\"_blank\" href=\"https://shebanq.ancient-data.org/hebrew/word?version=2021&amp;id=1BRAv\" title=\"Show this on SHEBANQ\"><span class=\"txtu hbo\">בָּרָ֣א </span></a></div></div></div></div><div class=\"contnr c1  rtl  \" ><div class=\"lbl c1  \" ><span class=\"nd\">phrase</span></div><div class=\"children hor wrap rtl\"><div class=\"contnr c0 trm rtl  \" ><div class=\"lbl c0 trm \" ><a class=\" txtu hbo\" target=\"_blank\" href=\"https://shebanq.ancient-data.org/hebrew/word?version=2021&amp;id=1ALHJMn\" title=\"Show this on SHEBANQ\"><span class=\"txtu hbo\">אֱלֹהִ֑ים </span></a></div></div></div></div><div class=\"contnr c1  rtl  \" ><div class=\"lbl c1  \" ><span class=\"nd\">phrase</span></div><div class=\"children hor wrap rtl\"><div class=\"contnr c0 trm rtl  \" ><div class=\"lbl c0 trm \" ><a class=\" txtu hbo\" target=\"_blank\" href=\"https://shebanq.ancient-data.org/hebrew/word?version=2021&amp;id=1AT\" title=\"Show this on SHEBANQ\"><span class=\"txtu hbo\">אֵ֥ת </span></a></div></div><div class=\"contnr c0 trm rtl  \" ><div class=\"lbl c0 trm \" ><a class=\" txtu hbo\" target=\"_blank\" href=\"https://shebanq.ancient-data.org/hebrew/word?version=2021&amp;id=1H\" title=\"Show this on SHEBANQ\"><span class=\"txtu hbo\">הַ</span></a></div></div><div class=\"contnr c0 trm rtl  hl\" ><div class=\"lbl c0 trm hl\" ><a class=\" txtu hbo\" target=\"_blank\" href=\"https://shebanq.ancient-data.org/hebrew/word?version=2021&amp;id=1CMJMn\" title=\"Show this on SHEBANQ\"><span class=\"txtu hbo\">שָּׁמַ֖יִם </span></a></div></div><div class=\"contnr c0 trm rtl  hl\" ><div class=\"lbl c0 trm hl\" ><a class=\" txtu hbo\" target=\"_blank\" href=\"https://shebanq.ancient-data.org/hebrew/word?version=2021&amp;id=1W\" title=\"Show this on SHEBANQ\"><span class=\"txtu hbo\">וְ</span></a></div></div><div class=\"contnr c0 trm rtl  hl\" ><div class=\"lbl c0 trm hl\" ><a class=\" txtu hbo\" target=\"_blank\" href=\"https://shebanq.ancient-data.org/hebrew/word?version=2021&amp;id=1AT\" title=\"Show this on SHEBANQ\"><span class=\"txtu hbo\">אֵ֥ת </span></a></div></div><div class=\"contnr c0 trm rtl  hl\" ><div class=\"lbl c0 trm hl\" ><a class=\" txtu hbo\" target=\"_blank\" href=\"https://shebanq.ancient-data.org/hebrew/word?version=2021&amp;id=1H\" title=\"Show this on SHEBANQ\"><span class=\"txtu hbo\">הָ</span></a></div></div><div class=\"contnr c0 trm rtl  \" ><div class=\"lbl c0 trm \" ><a class=\" txtu hbo\" target=\"_blank\" href=\"https://shebanq.ancient-data.org/hebrew/word?version=2021&amp;id=1ARYn\" title=\"Show this on SHEBANQ\"><span class=\"txtu hbo\">אָֽרֶץ׃ </span></a></div></div></div></div></div></div></div></div></div></div></div>"
      ],
      "text/plain": [
       "<IPython.core.display.HTML object>"
      ]
     },
     "metadata": {},
     "output_type": "display_data"
    },
    {
     "data": {
      "text/html": [
       "<p><b>result</b> <i>4</i></p>"
      ],
      "text/plain": [
       "<IPython.core.display.HTML object>"
      ]
     },
     "metadata": {},
     "output_type": "display_data"
    },
    {
     "data": {
      "text/html": [
       "<div class=\"tfsechead rtl\"><span class=\"ltr\"><a target=\"_blank\" href=\"https://shebanq.ancient-data.org/hebrew/text?book=Genesis&amp;chapter=13&amp;verse=1&amp;version=2021&amp;mr=m&amp;qw=q&amp;tp=txt_p&amp;tr=hb&amp;wget=v&amp;qget=v&amp;nget=vt\" title=\"Show this on SHEBANQ\" sec=\"Genesis 13:1\">Genesis 13:1</a></span></div><div class=\"rtl children\"><div class=\"contnr c3  rtl  \" ><div class=\"lbl c3  \" ><span class=\"nd\">verse</span></div><div class=\"children hor wrap rtl\"><div class=\"contnr c2  rtl l \" ><div class=\"lbl c2  \" ><span class=\"nd\">sentence</span></div><div class=\"children hor wrap rtl\"><div class=\"contnr c2  rtl l \" ><div class=\"lbl c2  \" ><span class=\"nd\">clause</span></div><div class=\"children hor wrap rtl\"><div class=\"contnr c1  rtl  \" ><div class=\"lbl c1  \" ><span class=\"nd\">phrase</span></div><div class=\"children hor wrap rtl\"><div class=\"contnr c0 trm rtl  \" ><div class=\"lbl c0 trm \" ><a class=\" txtu hbo\" target=\"_blank\" href=\"https://shebanq.ancient-data.org/hebrew/word?version=2021&amp;id=1W\" title=\"Show this on SHEBANQ\"><span class=\"txtu hbo\">וַ</span></a></div></div></div></div><div class=\"contnr c1  rtl  \" ><div class=\"lbl c1  \" ><span class=\"nd\">phrase</span></div><div class=\"children hor wrap rtl\"><div class=\"contnr c0 trm rtl  hl\" ><div class=\"lbl c0 trm hl\" ><a class=\" txtu hbo\" target=\"_blank\" href=\"https://shebanq.ancient-data.org/hebrew/word?version=2021&amp;id=1OLHv\" title=\"Show this on SHEBANQ\"><span class=\"txtu hbo\">יַּעַל֩ </span></a></div></div></div></div><div class=\"contnr c1  rtl l \" ><div class=\"lbl c1  \" ><span class=\"nd\">phrase</span></div><div class=\"children hor wrap rtl\"><div class=\"contnr c0 trm rtl  hl\" ><div class=\"lbl c0 trm hl\" ><a class=\" txtu hbo\" target=\"_blank\" href=\"https://shebanq.ancient-data.org/hebrew/word?version=2021&amp;id=1ABRMn\" title=\"Show this on SHEBANQ\"><span class=\"txtu hbo\">אַבְרָ֨ם </span></a></div></div></div></div><div class=\"contnr c1  rtl  \" ><div class=\"lbl c1  \" ><span class=\"nd\">phrase</span></div><div class=\"children hor wrap rtl\"><div class=\"contnr c0 trm rtl  \" ><div class=\"lbl c0 trm \" ><a class=\" txtu hbo\" target=\"_blank\" href=\"https://shebanq.ancient-data.org/hebrew/word?version=2021&amp;id=1MN\" title=\"Show this on SHEBANQ\"><span class=\"txtu hbo\">מִ</span></a></div></div><div class=\"contnr c0 trm rtl  \" ><div class=\"lbl c0 trm \" ><a class=\" txtu hbo\" target=\"_blank\" href=\"https://shebanq.ancient-data.org/hebrew/word?version=2021&amp;id=1MYRJMn\" title=\"Show this on SHEBANQ\"><span class=\"txtu hbo\">מִּצְרַ֜יִם </span></a></div></div></div></div><div class=\"contnr c1  rtl r \" ><div class=\"lbl c1  \" ><span class=\"nd\">phrase</span></div><div class=\"children hor wrap rtl\"><div class=\"contnr c0 trm rtl  \" ><div class=\"lbl c0 trm \" ><a class=\" txtu hbo\" target=\"_blank\" href=\"https://shebanq.ancient-data.org/hebrew/word?version=2021&amp;id=1HWA\" title=\"Show this on SHEBANQ\"><span class=\"txtu hbo\">ה֠וּא </span></a></div></div><div class=\"contnr c0 trm rtl  \" ><div class=\"lbl c0 trm \" ><a class=\" txtu hbo\" target=\"_blank\" href=\"https://shebanq.ancient-data.org/hebrew/word?version=2021&amp;id=1W\" title=\"Show this on SHEBANQ\"><span class=\"txtu hbo\">וְ</span></a></div></div><div class=\"contnr c0 trm rtl  \" ><div class=\"lbl c0 trm \" ><a class=\" txtu hbo\" target=\"_blank\" href=\"https://shebanq.ancient-data.org/hebrew/word?version=2021&amp;id=1ACHn\" title=\"Show this on SHEBANQ\"><span class=\"txtu hbo\">אִשְׁתֹּ֧ו </span></a></div></div><div class=\"contnr c0 trm rtl  \" ><div class=\"lbl c0 trm \" ><a class=\" txtu hbo\" target=\"_blank\" href=\"https://shebanq.ancient-data.org/hebrew/word?version=2021&amp;id=1W\" title=\"Show this on SHEBANQ\"><span class=\"txtu hbo\">וְ</span></a></div></div><div class=\"contnr c0 trm rtl  \" ><div class=\"lbl c0 trm \" ><a class=\" txtu hbo\" target=\"_blank\" href=\"https://shebanq.ancient-data.org/hebrew/word?version=2021&amp;id=1KLn\" title=\"Show this on SHEBANQ\"><span class=\"txtu hbo\">כָל־</span></a></div></div></div></div></div></div><div class=\"contnr c2  rtl  \" ><div class=\"lbl c2  \" ><span class=\"nd\">clause</span></div><div class=\"children hor wrap rtl\"><div class=\"contnr c1  rtl  \" ><div class=\"lbl c1  \" ><span class=\"nd\">phrase</span></div><div class=\"children hor wrap rtl\"><div class=\"contnr c0 trm rtl  \" ><div class=\"lbl c0 trm \" ><a class=\" txtu hbo\" target=\"_blank\" href=\"https://shebanq.ancient-data.org/hebrew/word?version=2021&amp;id=1ACR\" title=\"Show this on SHEBANQ\"><span class=\"txtu hbo\">אֲשֶׁר־</span></a></div></div></div></div><div class=\"contnr c1  rtl  \" ><div class=\"lbl c1  \" ><span class=\"nd\">phrase</span></div><div class=\"children hor wrap rtl\"><div class=\"contnr c0 trm rtl  \" ><div class=\"lbl c0 trm \" ><a class=\" txtu hbo\" target=\"_blank\" href=\"https://shebanq.ancient-data.org/hebrew/word?version=2021&amp;id=1L\" title=\"Show this on SHEBANQ\"><span class=\"txtu hbo\">לֹ֛ו </span></a></div></div></div></div></div></div></div></div><div class=\"contnr c2  rtl  \" ><div class=\"lbl c2  \" ><span class=\"nd\">sentence</span></div><div class=\"children hor wrap rtl\"><div class=\"contnr c2  rtl  \" ><div class=\"lbl c2  \" ><span class=\"nd\">clause</span></div><div class=\"children hor wrap rtl\"><div class=\"contnr c1  rtl  \" ><div class=\"lbl c1  \" ><span class=\"nd\">phrase</span></div><div class=\"children hor wrap rtl\"><div class=\"contnr c0 trm rtl  \" ><div class=\"lbl c0 trm \" ><a class=\" txtu hbo\" target=\"_blank\" href=\"https://shebanq.ancient-data.org/hebrew/word?version=2021&amp;id=1W\" title=\"Show this on SHEBANQ\"><span class=\"txtu hbo\">וְ</span></a></div></div></div></div><div class=\"contnr c1  rtl  \" ><div class=\"lbl c1  \" ><span class=\"nd\">phrase</span></div><div class=\"children hor wrap rtl\"><div class=\"contnr c0 trm rtl  \" ><div class=\"lbl c0 trm \" ><a class=\" txtu hbo\" target=\"_blank\" href=\"https://shebanq.ancient-data.org/hebrew/word?version=2021&amp;id=1LWVin\" title=\"Show this on SHEBANQ\"><span class=\"txtu hbo\">לֹ֥וט </span></a></div></div></div></div><div class=\"contnr c1  rtl  \" ><div class=\"lbl c1  \" ><span class=\"nd\">phrase</span></div><div class=\"children hor wrap rtl\"><div class=\"contnr c0 trm rtl  \" ><div class=\"lbl c0 trm \" ><a class=\" txtu hbo\" target=\"_blank\" href=\"https://shebanq.ancient-data.org/hebrew/word?version=2021&amp;id=1OM\" title=\"Show this on SHEBANQ\"><span class=\"txtu hbo\">עִמֹּ֖ו </span></a></div></div></div></div></div></div></div></div><div class=\"contnr c2  rtl r \" ><div class=\"lbl c2  \" ><span class=\"nd\">sentence</span></div><div class=\"children hor wrap rtl\"><div class=\"contnr c2  rtl r \" ><div class=\"lbl c2  \" ><span class=\"nd\">clause</span></div><div class=\"children hor wrap rtl\"><div class=\"contnr c1  rtl  \" ><div class=\"lbl c1  \" ><span class=\"nd\">phrase</span></div><div class=\"children hor wrap rtl\"><div class=\"contnr c0 trm rtl  \" ><div class=\"lbl c0 trm \" ><a class=\" txtu hbo\" target=\"_blank\" href=\"https://shebanq.ancient-data.org/hebrew/word?version=2021&amp;id=1H\" title=\"Show this on SHEBANQ\"><span class=\"txtu hbo\">הַ</span></a></div></div><div class=\"contnr c0 trm rtl  \" ><div class=\"lbl c0 trm \" ><a class=\" txtu hbo\" target=\"_blank\" href=\"https://shebanq.ancient-data.org/hebrew/word?version=2021&amp;id=1NGBn\" title=\"Show this on SHEBANQ\"><span class=\"txtu hbo\">נֶּֽגְבָּה׃ </span></a></div></div></div></div></div></div></div></div></div></div></div>"
      ],
      "text/plain": [
       "<IPython.core.display.HTML object>"
      ]
     },
     "metadata": {},
     "output_type": "display_data"
    },
    {
     "data": {
      "text/html": [
       "<div class=\"tfsechead rtl\"><span class=\"ltr\"><a target=\"_blank\" href=\"https://shebanq.ancient-data.org/hebrew/text?book=Genesis&amp;chapter=15&amp;verse=12&amp;version=2021&amp;mr=m&amp;qw=q&amp;tp=txt_p&amp;tr=hb&amp;wget=v&amp;qget=v&amp;nget=vt\" title=\"Show this on SHEBANQ\" sec=\"Genesis 15:12\">Genesis 15:12</a></span></div><div class=\"rtl children\"><div class=\"contnr c3  rtl  \" ><div class=\"lbl c3  \" ><span class=\"nd\">verse</span></div><div class=\"children hor wrap rtl\"><div class=\"contnr c2  rtl  \" ><div class=\"lbl c2  \" ><span class=\"nd\">sentence</span></div><div class=\"children hor wrap rtl\"><div class=\"contnr c2  rtl  \" ><div class=\"lbl c2  \" ><span class=\"nd\">clause</span></div><div class=\"children hor wrap rtl\"><div class=\"contnr c1  rtl  \" ><div class=\"lbl c1  \" ><span class=\"nd\">phrase</span></div><div class=\"children hor wrap rtl\"><div class=\"contnr c0 trm rtl  \" ><div class=\"lbl c0 trm \" ><a class=\" txtu hbo\" target=\"_blank\" href=\"https://shebanq.ancient-data.org/hebrew/word?version=2021&amp;id=1W\" title=\"Show this on SHEBANQ\"><span class=\"txtu hbo\">וַ</span></a></div></div></div></div><div class=\"contnr c1  rtl  \" ><div class=\"lbl c1  \" ><span class=\"nd\">phrase</span></div><div class=\"children hor wrap rtl\"><div class=\"contnr c0 trm rtl  \" ><div class=\"lbl c0 trm \" ><a class=\" txtu hbo\" target=\"_blank\" href=\"https://shebanq.ancient-data.org/hebrew/word?version=2021&amp;id=1HJHv\" title=\"Show this on SHEBANQ\"><span class=\"txtu hbo\">יְהִ֤י </span></a></div></div></div></div><div class=\"contnr c1  rtl  \" ><div class=\"lbl c1  \" ><span class=\"nd\">phrase</span></div><div class=\"children hor wrap rtl\"><div class=\"contnr c0 trm rtl  \" ><div class=\"lbl c0 trm \" ><a class=\" txtu hbo\" target=\"_blank\" href=\"https://shebanq.ancient-data.org/hebrew/word?version=2021&amp;id=1H\" title=\"Show this on SHEBANQ\"><span class=\"txtu hbo\">הַ</span></a></div></div><div class=\"contnr c0 trm rtl  \" ><div class=\"lbl c0 trm \" ><a class=\" txtu hbo\" target=\"_blank\" href=\"https://shebanq.ancient-data.org/hebrew/word?version=2021&amp;id=1CMCn\" title=\"Show this on SHEBANQ\"><span class=\"txtu hbo\">שֶּׁ֨מֶשׁ֙ </span></a></div></div></div></div></div></div><div class=\"contnr c2  rtl  \" ><div class=\"lbl c2  \" ><span class=\"nd\">clause</span></div><div class=\"children hor wrap rtl\"><div class=\"contnr c1  rtl  \" ><div class=\"lbl c1  \" ><span class=\"nd\">phrase</span></div><div class=\"children hor wrap rtl\"><div class=\"contnr c0 trm rtl  \" ><div class=\"lbl c0 trm \" ><a class=\" txtu hbo\" target=\"_blank\" href=\"https://shebanq.ancient-data.org/hebrew/word?version=2021&amp;id=1L\" title=\"Show this on SHEBANQ\"><span class=\"txtu hbo\">לָ</span></a></div></div><div class=\"contnr c0 trm rtl  hl\" ><div class=\"lbl c0 trm hl\" ><a class=\" txtu hbo\" target=\"_blank\" href=\"https://shebanq.ancient-data.org/hebrew/word?version=2021&amp;id=1BWAv\" title=\"Show this on SHEBANQ\"><span class=\"txtu hbo\">בֹ֔וא </span></a></div></div></div></div></div></div></div></div><div class=\"contnr c2  rtl  \" ><div class=\"lbl c2  \" ><span class=\"nd\">sentence</span></div><div class=\"children hor wrap rtl\"><div class=\"contnr c2  rtl  \" ><div class=\"lbl c2  \" ><span class=\"nd\">clause</span></div><div class=\"children hor wrap rtl\"><div class=\"contnr c1  rtl  \" ><div class=\"lbl c1  \" ><span class=\"nd\">phrase</span></div><div class=\"children hor wrap rtl\"><div class=\"contnr c0 trm rtl  \" ><div class=\"lbl c0 trm \" ><a class=\" txtu hbo\" target=\"_blank\" href=\"https://shebanq.ancient-data.org/hebrew/word?version=2021&amp;id=1W\" title=\"Show this on SHEBANQ\"><span class=\"txtu hbo\">וְ</span></a></div></div></div></div><div class=\"contnr c1  rtl  \" ><div class=\"lbl c1  \" ><span class=\"nd\">phrase</span></div><div class=\"children hor wrap rtl\"><div class=\"contnr c0 trm rtl  \" ><div class=\"lbl c0 trm \" ><a class=\" txtu hbo\" target=\"_blank\" href=\"https://shebanq.ancient-data.org/hebrew/word?version=2021&amp;id=1TRDMHn\" title=\"Show this on SHEBANQ\"><span class=\"txtu hbo\">תַרְדֵּמָ֖ה </span></a></div></div></div></div><div class=\"contnr c1  rtl  \" ><div class=\"lbl c1  \" ><span class=\"nd\">phrase</span></div><div class=\"children hor wrap rtl\"><div class=\"contnr c0 trm rtl  \" ><div class=\"lbl c0 trm \" ><a class=\" txtu hbo\" target=\"_blank\" href=\"https://shebanq.ancient-data.org/hebrew/word?version=2021&amp;id=1NPLv\" title=\"Show this on SHEBANQ\"><span class=\"txtu hbo\">נָפְלָ֣ה </span></a></div></div></div></div><div class=\"contnr c1  rtl  \" ><div class=\"lbl c1  \" ><span class=\"nd\">phrase</span></div><div class=\"children hor wrap rtl\"><div class=\"contnr c0 trm rtl  \" ><div class=\"lbl c0 trm \" ><a class=\" txtu hbo\" target=\"_blank\" href=\"https://shebanq.ancient-data.org/hebrew/word?version=2021&amp;id=1OL\" title=\"Show this on SHEBANQ\"><span class=\"txtu hbo\">עַל־</span></a></div></div><div class=\"contnr c0 trm rtl  \" ><div class=\"lbl c0 trm \" ><a class=\" txtu hbo\" target=\"_blank\" href=\"https://shebanq.ancient-data.org/hebrew/word?version=2021&amp;id=1ABRMn\" title=\"Show this on SHEBANQ\"><span class=\"txtu hbo\">אַבְרָ֑ם </span></a></div></div></div></div></div></div></div></div><div class=\"contnr c2  rtl  \" ><div class=\"lbl c2  \" ><span class=\"nd\">sentence</span></div><div class=\"children hor wrap rtl\"><div class=\"contnr c2  rtl  \" ><div class=\"lbl c2  \" ><span class=\"nd\">clause</span></div><div class=\"children hor wrap rtl\"><div class=\"contnr c1  rtl  \" ><div class=\"lbl c1  \" ><span class=\"nd\">phrase</span></div><div class=\"children hor wrap rtl\"><div class=\"contnr c0 trm rtl  \" ><div class=\"lbl c0 trm \" ><a class=\" txtu hbo\" target=\"_blank\" href=\"https://shebanq.ancient-data.org/hebrew/word?version=2021&amp;id=1W\" title=\"Show this on SHEBANQ\"><span class=\"txtu hbo\">וְ</span></a></div></div></div></div><div class=\"contnr c1  rtl  \" ><div class=\"lbl c1  \" ><span class=\"nd\">phrase</span></div><div class=\"children hor wrap rtl\"><div class=\"contnr c0 trm rtl  \" ><div class=\"lbl c0 trm \" ><a class=\" txtu hbo\" target=\"_blank\" href=\"https://shebanq.ancient-data.org/hebrew/word?version=2021&amp;id=1HNH\" title=\"Show this on SHEBANQ\"><span class=\"txtu hbo\">הִנֵּ֥ה </span></a></div></div></div></div><div class=\"contnr c1  rtl  \" ><div class=\"lbl c1  \" ><span class=\"nd\">phrase</span></div><div class=\"children hor wrap rtl\"><div class=\"contnr c0 trm rtl  \" ><div class=\"lbl c0 trm \" ><a class=\" txtu hbo\" target=\"_blank\" href=\"https://shebanq.ancient-data.org/hebrew/word?version=2021&amp;id=1AJMHn\" title=\"Show this on SHEBANQ\"><span class=\"txtu hbo\">אֵימָ֛ה </span></a></div></div><div class=\"contnr c0 trm rtl  \" ><div class=\"lbl c0 trm \" ><a class=\" txtu hbo\" target=\"_blank\" href=\"https://shebanq.ancient-data.org/hebrew/word?version=2021&amp;id=1XCKHn\" title=\"Show this on SHEBANQ\"><span class=\"txtu hbo\">חֲשֵׁכָ֥ה </span></a></div></div><div class=\"contnr c0 trm rtl  \" ><div class=\"lbl c0 trm \" ><a class=\" txtu hbo\" target=\"_blank\" href=\"https://shebanq.ancient-data.org/hebrew/word?version=2021&amp;id=1GDWLn\" title=\"Show this on SHEBANQ\"><span class=\"txtu hbo\">גְדֹלָ֖ה </span></a></div></div></div></div><div class=\"contnr c1  rtl  \" ><div class=\"lbl c1  \" ><span class=\"nd\">phrase</span></div><div class=\"children hor wrap rtl\"><div class=\"contnr c0 trm rtl  \" ><div class=\"lbl c0 trm \" ><a class=\" txtu hbo\" target=\"_blank\" href=\"https://shebanq.ancient-data.org/hebrew/word?version=2021&amp;id=1NPLv\" title=\"Show this on SHEBANQ\"><span class=\"txtu hbo\">נֹפֶ֥לֶת </span></a></div></div></div></div><div class=\"contnr c1  rtl  \" ><div class=\"lbl c1  \" ><span class=\"nd\">phrase</span></div><div class=\"children hor wrap rtl\"><div class=\"contnr c0 trm rtl  \" ><div class=\"lbl c0 trm \" ><a class=\" txtu hbo\" target=\"_blank\" href=\"https://shebanq.ancient-data.org/hebrew/word?version=2021&amp;id=1OL\" title=\"Show this on SHEBANQ\"><span class=\"txtu hbo\">עָלָֽיו׃ </span></a></div></div></div></div></div></div></div></div></div></div></div>"
      ],
      "text/plain": [
       "<IPython.core.display.HTML object>"
      ]
     },
     "metadata": {},
     "output_type": "display_data"
    }
   ],
   "source": [
    "# A.show(results, ...) // Pretty rendering of tuple of tuples of node.\n",
    "A.show(words)"
   ]
  },
  {
   "cell_type": "markdown",
   "metadata": {},
   "source": [
    "### `A.prettyTuple(tup, ith, ...)`\n",
    "\n",
    "Pretty rendering of tuple of node."
   ]
  },
  {
   "cell_type": "code",
   "execution_count": 14,
   "metadata": {},
   "outputs": [
    {
     "data": {
      "text/html": [
       "<p><b>result</b> <i>1</i></p>"
      ],
      "text/plain": [
       "<IPython.core.display.HTML object>"
      ]
     },
     "metadata": {},
     "output_type": "display_data"
    },
    {
     "data": {
      "text/html": [
       "<div class=\"tfsechead rtl\"><span class=\"ltr\"><a target=\"_blank\" href=\"https://shebanq.ancient-data.org/hebrew/text?book=Genesis&amp;chapter=1&amp;verse=1&amp;version=2021&amp;mr=m&amp;qw=q&amp;tp=txt_p&amp;tr=hb&amp;wget=v&amp;qget=v&amp;nget=vt\" title=\"Show this on SHEBANQ\" sec=\"Genesis 1:1\">Genesis 1:1</a></span></div><div class=\"rtl children\"><div class=\"contnr c3  rtl  \" ><div class=\"lbl c3  \" ><span class=\"nd\">verse</span></div><div class=\"children hor wrap rtl\"><div class=\"contnr c2  rtl  \" ><div class=\"lbl c2  \" ><span class=\"nd\">sentence</span></div><div class=\"children hor wrap rtl\"><div class=\"contnr c2  rtl  \" ><div class=\"lbl c2  \" ><span class=\"nd\">clause</span></div><div class=\"children hor wrap rtl\"><div class=\"contnr c1  rtl  \" ><div class=\"lbl c1  \" ><span class=\"nd\">phrase</span></div><div class=\"children hor wrap rtl\"><div class=\"contnr c0 trm rtl  hl\" ><div class=\"lbl c0 trm hl\" ><a class=\" txtu hbo\" target=\"_blank\" href=\"https://shebanq.ancient-data.org/hebrew/word?version=2021&amp;id=1B\" title=\"Show this on SHEBANQ\"><span class=\"txtu hbo\">בְּ</span></a></div></div><div class=\"contnr c0 trm rtl  hl\" ><div class=\"lbl c0 trm hl\" ><a class=\" txtu hbo\" target=\"_blank\" href=\"https://shebanq.ancient-data.org/hebrew/word?version=2021&amp;id=1RACJTn\" title=\"Show this on SHEBANQ\"><span class=\"txtu hbo\">רֵאשִׁ֖ית </span></a></div></div></div></div><div class=\"contnr c1  rtl  \" ><div class=\"lbl c1  \" ><span class=\"nd\">phrase</span></div><div class=\"children hor wrap rtl\"><div class=\"contnr c0 trm rtl  hl\" ><div class=\"lbl c0 trm hl\" ><a class=\" txtu hbo\" target=\"_blank\" href=\"https://shebanq.ancient-data.org/hebrew/word?version=2021&amp;id=1BRAv\" title=\"Show this on SHEBANQ\"><span class=\"txtu hbo\">בָּרָ֣א </span></a></div></div></div></div><div class=\"contnr c1  rtl  \" ><div class=\"lbl c1  \" ><span class=\"nd\">phrase</span></div><div class=\"children hor wrap rtl\"><div class=\"contnr c0 trm rtl  \" ><div class=\"lbl c0 trm \" ><a class=\" txtu hbo\" target=\"_blank\" href=\"https://shebanq.ancient-data.org/hebrew/word?version=2021&amp;id=1ALHJMn\" title=\"Show this on SHEBANQ\"><span class=\"txtu hbo\">אֱלֹהִ֑ים </span></a></div></div></div></div><div class=\"contnr c1  rtl  \" ><div class=\"lbl c1  \" ><span class=\"nd\">phrase</span></div><div class=\"children hor wrap rtl\"><div class=\"contnr c0 trm rtl  \" ><div class=\"lbl c0 trm \" ><a class=\" txtu hbo\" target=\"_blank\" href=\"https://shebanq.ancient-data.org/hebrew/word?version=2021&amp;id=1AT\" title=\"Show this on SHEBANQ\"><span class=\"txtu hbo\">אֵ֥ת </span></a></div></div><div class=\"contnr c0 trm rtl  \" ><div class=\"lbl c0 trm \" ><a class=\" txtu hbo\" target=\"_blank\" href=\"https://shebanq.ancient-data.org/hebrew/word?version=2021&amp;id=1H\" title=\"Show this on SHEBANQ\"><span class=\"txtu hbo\">הַ</span></a></div></div><div class=\"contnr c0 trm rtl  \" ><div class=\"lbl c0 trm \" ><a class=\" txtu hbo\" target=\"_blank\" href=\"https://shebanq.ancient-data.org/hebrew/word?version=2021&amp;id=1CMJMn\" title=\"Show this on SHEBANQ\"><span class=\"txtu hbo\">שָּׁמַ֖יִם </span></a></div></div><div class=\"contnr c0 trm rtl  \" ><div class=\"lbl c0 trm \" ><a class=\" txtu hbo\" target=\"_blank\" href=\"https://shebanq.ancient-data.org/hebrew/word?version=2021&amp;id=1W\" title=\"Show this on SHEBANQ\"><span class=\"txtu hbo\">וְ</span></a></div></div><div class=\"contnr c0 trm rtl  \" ><div class=\"lbl c0 trm \" ><a class=\" txtu hbo\" target=\"_blank\" href=\"https://shebanq.ancient-data.org/hebrew/word?version=2021&amp;id=1AT\" title=\"Show this on SHEBANQ\"><span class=\"txtu hbo\">אֵ֥ת </span></a></div></div><div class=\"contnr c0 trm rtl  \" ><div class=\"lbl c0 trm \" ><a class=\" txtu hbo\" target=\"_blank\" href=\"https://shebanq.ancient-data.org/hebrew/word?version=2021&amp;id=1H\" title=\"Show this on SHEBANQ\"><span class=\"txtu hbo\">הָ</span></a></div></div><div class=\"contnr c0 trm rtl  \" ><div class=\"lbl c0 trm \" ><a class=\" txtu hbo\" target=\"_blank\" href=\"https://shebanq.ancient-data.org/hebrew/word?version=2021&amp;id=1ARYn\" title=\"Show this on SHEBANQ\"><span class=\"txtu hbo\">אָֽרֶץ׃ </span></a></div></div></div></div></div></div></div></div></div></div></div>"
      ],
      "text/plain": [
       "<IPython.core.display.HTML object>"
      ]
     },
     "metadata": {},
     "output_type": "display_data"
    }
   ],
   "source": [
    "# A.prettyTuple(tup, seq, ...) // Pretty rendering of tuple of node.\n",
    "A.prettyTuple(words[0], 1)"
   ]
  },
  {
   "cell_type": "markdown",
   "metadata": {},
   "source": [
    "### `A.pretty(node, ...)`\n",
    "\n",
    "Pretty rendering of node."
   ]
  },
  {
   "cell_type": "code",
   "execution_count": 15,
   "metadata": {},
   "outputs": [
    {
     "data": {
      "text/html": [
       "<div class=\"tfsechead rtl\"><span class=\"ltr\"><a target=\"_blank\" href=\"https://shebanq.ancient-data.org/hebrew/text?book=Genesis&amp;chapter=1&amp;verse=1&amp;version=2021&amp;mr=m&amp;qw=q&amp;tp=txt_p&amp;tr=hb&amp;wget=v&amp;qget=v&amp;nget=vt\" title=\"Show this on SHEBANQ\" sec=\"Genesis 1:1\">Genesis 1:1</a></span></div><div class=\"rtl children\"><div class=\"contnr c0 trm rtl  \" ><div class=\"lbl c0 trm \" ><a class=\" txtu hbo\" target=\"_blank\" href=\"https://shebanq.ancient-data.org/hebrew/word?version=2021&amp;id=1RACJTn\" title=\"Show this on SHEBANQ\"><span class=\"txtu hbo\">רֵאשִׁ֖ית </span></a></div></div></div>"
      ],
      "text/plain": [
       "<IPython.core.display.HTML object>"
      ]
     },
     "metadata": {},
     "output_type": "display_data"
    }
   ],
   "source": [
    "# A.pretty(node, ...) // Pretty rendering of node. \n",
    "A.pretty(2, showGraphics=True)"
   ]
  },
  {
   "cell_type": "markdown",
   "metadata": {},
   "source": [
    "### `A.unravel(node, ...)`\n",
    "\n",
    "Convert a graph to a tree."
   ]
  },
  {
   "cell_type": "code",
   "execution_count": 16,
   "metadata": {},
   "outputs": [
    {
     "data": {
      "text/plain": [
       "(None,\n",
       " <tf.advanced.unravel.TreeInfo at 0x7fa113c9f400>,\n",
       " [((65048, (65048, 65048)),\n",
       "   <tf.advanced.unravel.TreeInfo at 0x7fa113ca82b0>,\n",
       "   [])])"
      ]
     },
     "execution_count": 16,
     "metadata": {},
     "output_type": "execute_result"
    }
   ],
   "source": [
    "# A.unravel(node, ...) // Convert a graph to a tree.\n",
    "A.unravel(65048)"
   ]
  },
  {
   "cell_type": "markdown",
   "metadata": {},
   "source": [
    "### `A.search(...)`\n",
    "\n",
    "Search, collect and deliver results, report number of results.\n",
    "\n",
    ">def search(app, query, silent=False, sets=None,\\\n",
    "&nbsp;&nbsp;&nbsp;&nbsp;&nbsp;&nbsp;&nbsp;shallow=False, sort=True)\n",
    "\n",
    "**query** : [dict](https://annotation.github.io/text-fabric/tf/about/searchusage.html)\\\n",
    "the search template (tf.about.searchusage) that has to be searched for.\n",
    "\n",
    "**silent** : boolean, optional False\\\n",
    "if True it will suppress the reporting of the number of results.\n",
    "\n",
    "**shallow** : boolean, optional False\\\n",
    "If True or 1, the result is a set of things that match the top-level element of the query.\n",
    "\n",
    "If 2 or a bigger number n, return the set of truncated result tuples: only the first n members of each tuple are retained.\n",
    "\n",
    "If False or 0, a list of all result tuples will be returned.\n",
    "\n",
    "**sets** : dict, optional None\\\n",
    "If not None, it should be a dictionary of sets, keyed by a names. In query you can refer to those names to invoke those sets.\n",
    "\n",
    "For example, if you have a set gappedPhrases of all phrase nodes that have a gap, you can pass sets=dict(gphrase=gappedPhrases), and then in your query you can say\n",
    ">gphrase function=Predword sp=verb etc.\n",
    "\n",
    "This is handy when you need node sets that cannot be conveniently queried. You can produce them by hand-coding. Once you got them, you can use them over and over again in queries. Or you can save them with writeSets() and use them in the TF browser.\n",
    "\n",
    "**sort** : boolean, optional True\\\n",
    "If True (default), search results will be returned in canonical order."
   ]
  },
  {
   "cell_type": "code",
   "execution_count": 17,
   "metadata": {},
   "outputs": [
    {
     "data": {
      "text/plain": [
       "'\\n| NAME:\\t        | DESCRIPTION:\\t    | EXAMPLES:\\n| gn prs_gn     | gender\\t        | m f\\n| nu prs_nu     | number\\t        | sg pl du\\n| ps prs_ps     | person\\t        | p1 p2 p3\\n| st\\t        | state\\t            | a c e\\n| vs\\t        | verbal stem\\t    | qal piel nif hif\\n| vt\\t        | verbal tense      | perf impf wayq\\n| sp\\t        | part of speech    | verb subs\\n| pdp\\t        | phrase dependent  | verb subs\\n                | part of speech\\t|\\n'"
      ]
     },
     "execution_count": 17,
     "metadata": {},
     "output_type": "execute_result"
    }
   ],
   "source": [
    "# Morphology: https://etcbc.github.io/bhsa/features/0_home/\n",
    "\"\"\"\n",
    "| NAME:\t        | DESCRIPTION:\t    | EXAMPLES:\n",
    "| gn prs_gn     | gender\t        | m f\n",
    "| nu prs_nu     | number\t        | sg pl du\n",
    "| ps prs_ps     | person\t        | p1 p2 p3\n",
    "| st\t        | state\t            | a c e\n",
    "| vs\t        | verbal stem\t    | qal piel nif hif\n",
    "| vt\t        | verbal tense      | perf impf wayq\n",
    "| sp\t        | part of speech    | verb subs\n",
    "| pdp\t        | phrase dependent  | verb subs\n",
    "                | part of speech\t|\n",
    "\"\"\""
   ]
  },
  {
   "cell_type": "code",
   "execution_count": 18,
   "metadata": {},
   "outputs": [
    {
     "name": "stdout",
     "output_type": "stream",
     "text": [
      "  2.48s 2 results\n"
     ]
    },
    {
     "data": {
      "text/html": [
       "<table><tr class=\"tf rtl\"><th class=\"tf rtl\">n</th><th class=\"tf rtl\">p</th><th class=\"tf rtl\">book</th><th class=\"tf\">chapter</th><th class=\"tf\">sentence</th><th class=\"tf\">word</th><th class=\"tf\">word</th></tr>\n",
       "<tr class=\"tf rtl\"><td class=\"tf rtl\">1</td><td class=\"tf rtl\"><span class=\"tfsechead rtl\"><span class=\"ltr\"><a target=\"_blank\" href=\"https://shebanq.ancient-data.org/hebrew/text?book=Genesis&amp;chapter=2&amp;verse=25&amp;version=2021&amp;mr=m&amp;qw=q&amp;tp=txt_p&amp;tr=hb&amp;wget=v&amp;qget=v&amp;nget=vt\" title=\"Show this on SHEBANQ\" sec=\"Genesis 2:25\">Genesis 2:25</a></span></span></td><td class=\"tf rtl\"><span class=\"rtl ubd\"><span class=\"txtu hbo rtl\"><span class=\"tfsechead rtl\"><span class=\"ltr\">Genesis</span></span></span></span></td><td class=\"tf rtl\"><span class=\"rtl ubd\"><span class=\"txtu hbo rtl\"><span class=\"tfsechead rtl\"><span class=\"ltr\">Genesis 2</span></span></span></span></td><td class=\"tf rtl\"><span class=\"rtl ubd\"><span class=\"plain rtl  hlbx\" ><span class=\"txtu hbo\">וַ</span><span class=\"plain rtl  hl\" ><span class=\"txtu hbo\">יִּֽהְי֤וּ </span></span><span class=\"plain rtl l \" ><span class=\"txtu hbo\">שְׁנֵיהֶם֙ </span></span><span class=\"txtu hbo\">עֲרוּמִּ֔ים </span><span class=\"plain rtl r \" ><span class=\"txtu hbo\">הָֽ</span><span class=\"txtu hbo\">אָדָ֖ם </span><span class=\"txtu hbo\">וְ</span><span class=\"plain rtl  hl\" ><span class=\"txtu hbo\">אִשְׁתֹּ֑ו </span></span></span></span></span></td><td class=\"tf rtl\"><span class=\"rtl ubd\"><span class=\"plain rtl  hl\" ><span class=\"txtu hbo\">יִּֽהְי֤וּ </span></span></span></td><td class=\"tf rtl\"><span class=\"rtl ubd\"><span class=\"plain rtl  hl\" ><span class=\"txtu hbo\">אִשְׁתֹּ֑ו </span></span></span></td></tr>\n",
       "<tr class=\"tf rtl\"><td class=\"tf rtl\">2</td><td class=\"tf rtl\"><span class=\"tfsechead rtl\"><span class=\"ltr\"><a target=\"_blank\" href=\"https://shebanq.ancient-data.org/hebrew/text?book=Exodus&amp;chapter=2&amp;verse=23&amp;version=2021&amp;mr=m&amp;qw=q&amp;tp=txt_p&amp;tr=hb&amp;wget=v&amp;qget=v&amp;nget=vt\" title=\"Show this on SHEBANQ\" sec=\"Exodus 2:23\">Exodus 2:23</a></span></span></td><td class=\"tf rtl\"><span class=\"rtl ubd\"><span class=\"txtu hbo rtl\"><span class=\"tfsechead rtl\"><span class=\"ltr\">Exodus</span></span></span></span></td><td class=\"tf rtl\"><span class=\"rtl ubd\"><span class=\"txtu hbo rtl\"><span class=\"tfsechead rtl\"><span class=\"ltr\">Exodus 2</span></span></span></span></td><td class=\"tf rtl\"><span class=\"rtl ubd\"><span class=\"plain rtl  hlbx\" ><span class=\"txtu hbo\">וַ</span><span class=\"plain rtl  hl\" ><span class=\"txtu hbo\">יֵּאָנְח֧וּ </span></span><span class=\"txtu hbo\">בְנֵֽי־</span><span class=\"txtu hbo\">יִשְׂרָאֵ֛ל </span><span class=\"txtu hbo\">מִן־</span><span class=\"txtu hbo\">הָ</span><span class=\"plain rtl  hl\" ><span class=\"txtu hbo\">עֲבֹדָ֖ה </span></span></span></span></td><td class=\"tf rtl\"><span class=\"rtl ubd\"><span class=\"plain rtl  hl\" ><span class=\"txtu hbo\">יֵּאָנְח֧וּ </span></span></span></td><td class=\"tf rtl\"><span class=\"rtl ubd\"><span class=\"plain rtl  hl\" ><span class=\"txtu hbo\">עֲבֹדָ֖ה </span></span></span></td></tr></table>"
      ],
      "text/plain": [
       "<IPython.core.display.HTML object>"
      ]
     },
     "metadata": {},
     "output_type": "display_data"
    }
   ],
   "source": [
    "# Find word combinations within a sentence within chapter 2 of either Genesis \n",
    "# or Exodus, where one of the words is a verb and the other is a noun.\n",
    "query = \"\"\"\n",
    "book book=Genesis|Exodus\n",
    "   chapter chapter=2\n",
    "      sentence\n",
    "        word sp=verb nu=pl\n",
    "        word sp=subs gn=f nu=sg\n",
    "\"\"\"\n",
    "\n",
    "# A.search(...) // Search, collect and deliver results, report number of results.\n",
    "results = A.search(query)\n",
    "\n",
    "A.table(results)"
   ]
  },
  {
   "cell_type": "markdown",
   "metadata": {},
   "source": [
    "## N. Nodes"
   ]
  },
  {
   "cell_type": "markdown",
   "metadata": {},
   "source": [
    "### `N.walk()`\n",
    "\n",
    "Generator of all nodes in canonical ordering."
   ]
  },
  {
   "cell_type": "code",
   "execution_count": 19,
   "metadata": {},
   "outputs": [
    {
     "data": {
      "text/plain": [
       "<generator object Nodes.walk at 0x7fa0ff3c8b30>"
      ]
     },
     "execution_count": 19,
     "metadata": {},
     "output_type": "execute_result"
    }
   ],
   "source": [
    "# Generator of all nodes in canonical ordering.\n",
    "N.walk()"
   ]
  },
  {
   "cell_type": "markdown",
   "metadata": {},
   "source": [
    "### `N.sortNodes(nodes)`\n",
    "\n",
    "Sorts nodes in the canonical ordering."
   ]
  },
  {
   "cell_type": "code",
   "execution_count": 20,
   "metadata": {},
   "outputs": [
    {
     "data": {
      "text/plain": [
       "[1, 3, 5, 7]"
      ]
     },
     "execution_count": 20,
     "metadata": {},
     "output_type": "execute_result"
    }
   ],
   "source": [
    "# N.sortNodes(nodes) // Sorts nodes in canonical ordering.\n",
    "N.sortNodes((5, 3, 7, 1))"
   ]
  },
  {
   "cell_type": "markdown",
   "metadata": {},
   "source": [
    "### `N.otypeRank[nodeType]`\n",
    "\n",
    "Ranking position of nodeType."
   ]
  },
  {
   "cell_type": "code",
   "execution_count": 21,
   "metadata": {},
   "outputs": [
    {
     "data": {
      "text/plain": [
       "7"
      ]
     },
     "execution_count": 21,
     "metadata": {},
     "output_type": "execute_result"
    }
   ],
   "source": [
    "# N.otypeRank[nodeType] // Ranking position of nodeType.\n",
    "# Use just N.otypeRank for the whole dictionary. \n",
    "N.otypeRank['sentence'] "
   ]
  },
  {
   "cell_type": "markdown",
   "metadata": {},
   "source": [
    "### `N.sortKey(node)`\n",
    "\n",
    "Defines the canonical ordering on nodes."
   ]
  },
  {
   "cell_type": "code",
   "execution_count": 22,
   "metadata": {},
   "outputs": [
    {
     "data": {
      "text/plain": [
       "190844"
      ]
     },
     "execution_count": 22,
     "metadata": {},
     "output_type": "execute_result"
    }
   ],
   "source": [
    "# N.sortKey(node) // Defines the canonical ordering on nodes.\n",
    "N.sortKey(685055)"
   ]
  },
  {
   "cell_type": "markdown",
   "metadata": {},
   "source": [
    "## F. Node Features"
   ]
  },
  {
   "cell_type": "markdown",
   "metadata": {},
   "source": [
    "### `Fall()`\n",
    "\n",
    "All loaded feature names (node features only)."
   ]
  },
  {
   "cell_type": "code",
   "execution_count": 23,
   "metadata": {},
   "outputs": [
    {
     "data": {
      "text/plain": [
       "['book',\n",
       " 'book@am',\n",
       " 'book@ar',\n",
       " 'book@bn',\n",
       " 'book@da',\n",
       " 'book@de',\n",
       " 'book@el',\n",
       " 'book@en',\n",
       " 'book@es',\n",
       " 'book@fa',\n",
       " 'book@fr',\n",
       " 'book@he',\n",
       " 'book@hi',\n",
       " 'book@id',\n",
       " 'book@ja',\n",
       " 'book@ko',\n",
       " 'book@la',\n",
       " 'book@nl',\n",
       " 'book@pa',\n",
       " 'book@pt',\n",
       " 'book@ru',\n",
       " 'book@sw',\n",
       " 'book@syc',\n",
       " 'book@tr',\n",
       " 'book@ur',\n",
       " 'book@yo',\n",
       " 'book@zh',\n",
       " 'chapter',\n",
       " 'code',\n",
       " 'det',\n",
       " 'domain',\n",
       " 'freq_lex',\n",
       " 'function',\n",
       " 'g_cons',\n",
       " 'g_cons_utf8',\n",
       " 'g_lex',\n",
       " 'g_lex_utf8',\n",
       " 'g_word',\n",
       " 'g_word_utf8',\n",
       " 'gloss',\n",
       " 'gn',\n",
       " 'label',\n",
       " 'language',\n",
       " 'lex',\n",
       " 'lex_utf8',\n",
       " 'ls',\n",
       " 'nametype',\n",
       " 'nme',\n",
       " 'nu',\n",
       " 'number',\n",
       " 'otype',\n",
       " 'pargr',\n",
       " 'pdp',\n",
       " 'pfm',\n",
       " 'phono',\n",
       " 'phono_trailer',\n",
       " 'prs',\n",
       " 'prs_gn',\n",
       " 'prs_nu',\n",
       " 'prs_ps',\n",
       " 'ps',\n",
       " 'qere',\n",
       " 'qere_trailer',\n",
       " 'qere_trailer_utf8',\n",
       " 'qere_utf8',\n",
       " 'rank_lex',\n",
       " 'rela',\n",
       " 'sp',\n",
       " 'st',\n",
       " 'tab',\n",
       " 'trailer',\n",
       " 'trailer_utf8',\n",
       " 'txt',\n",
       " 'typ',\n",
       " 'uvf',\n",
       " 'vbe',\n",
       " 'vbs',\n",
       " 'verse',\n",
       " 'voc_lex',\n",
       " 'voc_lex_utf8',\n",
       " 'vs',\n",
       " 'vt']"
      ]
     },
     "execution_count": 23,
     "metadata": {},
     "output_type": "execute_result"
    }
   ],
   "source": [
    "# All loaded feature names.\n",
    "Fall()"
   ]
  },
  {
   "cell_type": "markdown",
   "metadata": {},
   "source": [
    "### `F.fff.v(node)`\n",
    "\n",
    "Get value of node feature fff."
   ]
  },
  {
   "cell_type": "code",
   "execution_count": 24,
   "metadata": {},
   "outputs": [
    {
     "data": {
      "text/html": [
       "<div class=\"tfsechead rtl\"><span class=\"ltr\"><a target=\"_blank\" href=\"https://shebanq.ancient-data.org/hebrew/text?book=Genesis&amp;chapter=1&amp;verse=1&amp;version=2021&amp;mr=m&amp;qw=q&amp;tp=txt_p&amp;tr=hb&amp;wget=v&amp;qget=v&amp;nget=vt\" title=\"Show this on SHEBANQ\" sec=\"Genesis 1:1\">Genesis 1:1</a></span></div><div class=\"rtl children\"><div class=\"contnr c0 trm rtl  \" ><div class=\"lbl c0 trm \" ><a class=\" txtu hbo\" target=\"_blank\" href=\"https://shebanq.ancient-data.org/hebrew/word?version=2021&amp;id=1BRAv\" title=\"Show this on SHEBANQ\"><span class=\"txtu hbo\">בָּרָ֣א </span></a></div><div class='features'><span class=\"gn xft\" ><span class=\"f\">gn=</span>m</span><span class=\"nu xft\" ><span class=\"f\">nu=</span>sg</span><span class=\"sp xft\" ><span class=\"f\">sp=</span>verb</span></div></div></div>"
      ],
      "text/plain": [
       "<IPython.core.display.HTML object>"
      ]
     },
     "metadata": {},
     "output_type": "display_data"
    },
    {
     "data": {
      "text/plain": [
       "745"
      ]
     },
     "execution_count": 24,
     "metadata": {},
     "output_type": "execute_result"
    }
   ],
   "source": [
    "# F.fff.v(node) // Get value of node feature fff.\n",
    "n = 3\n",
    "A.pretty(n)\n",
    "F.rank_lex.v(n)"
   ]
  },
  {
   "cell_type": "markdown",
   "metadata": {},
   "source": [
    "### `F.fff.s(value)`\n",
    "\n",
    "Get nodes where feature fff has value."
   ]
  },
  {
   "cell_type": "code",
   "execution_count": 25,
   "metadata": {},
   "outputs": [
    {
     "data": {
      "text/plain": [
       "(1437602,\n",
       " 1,\n",
       " 84,\n",
       " 197,\n",
       " 220,\n",
       " 241,\n",
       " 270,\n",
       " 318,\n",
       " 330,\n",
       " 334,\n",
       " 428,\n",
       " 435,\n",
       " 500,\n",
       " 506,\n",
       " 511,\n",
       " 516,\n",
       " 520,\n",
       " 525,\n",
       " 540,\n",
       " 542,\n",
       " 572,\n",
       " 577,\n",
       " 582,\n",
       " 613,\n",
       " 642,\n",
       " 687,\n",
       " 697,\n",
       " 718,\n",
       " 735,\n",
       " 737,\n",
       " 752,\n",
       " 804,\n",
       " 820,\n",
       " 852,\n",
       " 954,\n",
       " 990,\n",
       " 1150,\n",
       " 1217,\n",
       " 1229,\n",
       " 1246,\n",
       " 1322,\n",
       " 1339,\n",
       " 1360,\n",
       " 1486,\n",
       " 1497,\n",
       " 1522,\n",
       " 1524,\n",
       " 1542,\n",
       " 1786,\n",
       " 1795,\n",
       " 1797,\n",
       " 1868,\n",
       " 1899,\n",
       " 1938,\n",
       " 2117,\n",
       " 2124,\n",
       " 2129,\n",
       " 2146,\n",
       " 2158,\n",
       " 2643,\n",
       " 2648,\n",
       " 2663,\n",
       " 2666,\n",
       " 2704,\n",
       " 2725,\n",
       " 2765,\n",
       " 2776,\n",
       " 2868,\n",
       " 2905,\n",
       " 2929,\n",
       " 2938,\n",
       " 3057,\n",
       " 3228,\n",
       " 3236,\n",
       " 3241,\n",
       " 3248,\n",
       " 3275,\n",
       " 3350,\n",
       " 3457,\n",
       " 3461,\n",
       " 3465,\n",
       " 3469,\n",
       " 3487,\n",
       " 3492,\n",
       " 3530,\n",
       " 3561,\n",
       " 3615,\n",
       " 3620,\n",
       " 3642,\n",
       " 3645,\n",
       " 3767,\n",
       " 3799,\n",
       " 3805,\n",
       " 3808,\n",
       " 3836,\n",
       " 3841,\n",
       " 3880,\n",
       " 3884,\n",
       " 3888,\n",
       " 3901,\n",
       " 3967,\n",
       " 3990,\n",
       " 4071,\n",
       " 4078,\n",
       " 4083,\n",
       " 4104,\n",
       " 4139,\n",
       " 4145,\n",
       " 4158,\n",
       " 4163,\n",
       " 4194,\n",
       " 4197,\n",
       " 4201,\n",
       " 4267,\n",
       " 4282,\n",
       " 4292,\n",
       " 4308,\n",
       " 4327,\n",
       " 4343,\n",
       " 4418,\n",
       " 4434,\n",
       " 4506,\n",
       " 4593,\n",
       " 4600,\n",
       " 4640,\n",
       " 4671,\n",
       " 4811,\n",
       " 4813,\n",
       " 4871,\n",
       " 4942,\n",
       " 4952,\n",
       " 4960,\n",
       " 4978,\n",
       " 4985,\n",
       " 5028,\n",
       " 5397,\n",
       " 5400,\n",
       " 5482,\n",
       " 5526,\n",
       " 5551,\n",
       " 5578,\n",
       " 5593,\n",
       " 5606,\n",
       " 5662,\n",
       " 5676,\n",
       " 5690,\n",
       " 5738,\n",
       " 5743,\n",
       " 5782,\n",
       " 5887,\n",
       " 5890,\n",
       " 5894,\n",
       " 5913,\n",
       " 5929,\n",
       " 5936,\n",
       " 5992,\n",
       " 6093,\n",
       " 6099,\n",
       " 6182,\n",
       " 6200,\n",
       " 6204,\n",
       " 6214,\n",
       " 6275,\n",
       " 6290,\n",
       " 6296,\n",
       " 6302,\n",
       " 6309,\n",
       " 6340,\n",
       " 6364,\n",
       " 6439,\n",
       " 6454,\n",
       " 6590,\n",
       " 6680,\n",
       " 6773,\n",
       " 6803,\n",
       " 6834,\n",
       " 6889,\n",
       " 6914,\n",
       " 6922,\n",
       " 6925,\n",
       " 6963,\n",
       " 7087,\n",
       " 7112,\n",
       " 7124,\n",
       " 7132,\n",
       " 7146,\n",
       " 7152,\n",
       " 7169,\n",
       " 7175,\n",
       " 7249,\n",
       " 7255,\n",
       " 7317,\n",
       " 7359,\n",
       " 7402,\n",
       " 7538,\n",
       " 7606,\n",
       " 7671,\n",
       " 7698,\n",
       " 7732,\n",
       " 7741,\n",
       " 7759,\n",
       " 7770,\n",
       " 7775,\n",
       " 7805,\n",
       " 7849,\n",
       " 7965,\n",
       " 7998,\n",
       " 8013,\n",
       " 8114,\n",
       " 8209,\n",
       " 8227,\n",
       " 8266,\n",
       " 8270,\n",
       " 8280,\n",
       " 8307,\n",
       " 8339,\n",
       " 8381,\n",
       " 8405,\n",
       " 8430,\n",
       " 8436,\n",
       " 8475,\n",
       " 8481,\n",
       " 8577,\n",
       " 8592,\n",
       " 8615,\n",
       " 8618,\n",
       " 8654,\n",
       " 8687,\n",
       " 8741,\n",
       " 8753,\n",
       " 8769,\n",
       " 8779,\n",
       " 8782,\n",
       " 8786,\n",
       " 8790,\n",
       " 8821,\n",
       " 8842,\n",
       " 8991,\n",
       " 9031,\n",
       " 9051,\n",
       " 9058,\n",
       " 9067,\n",
       " 9078,\n",
       " 9082,\n",
       " 9101,\n",
       " 9130,\n",
       " 9145,\n",
       " 9148,\n",
       " 9183,\n",
       " 9201,\n",
       " 9204,\n",
       " 9263,\n",
       " 9287,\n",
       " 9332,\n",
       " 9336,\n",
       " 9346,\n",
       " 9352,\n",
       " 9402,\n",
       " 9418,\n",
       " 9477,\n",
       " 9559,\n",
       " 9562,\n",
       " 9688,\n",
       " 9731,\n",
       " 9778,\n",
       " 9791,\n",
       " 9805,\n",
       " 9808,\n",
       " 9828,\n",
       " 9854,\n",
       " 9889,\n",
       " 9934,\n",
       " 9947,\n",
       " 9985,\n",
       " 9994,\n",
       " 10007,\n",
       " 10025,\n",
       " 10034,\n",
       " 10060,\n",
       " 10154,\n",
       " 10184,\n",
       " 10202,\n",
       " 10208,\n",
       " 10216,\n",
       " 10275,\n",
       " 10308,\n",
       " 10363,\n",
       " 10525,\n",
       " 10528,\n",
       " 10558,\n",
       " 10574,\n",
       " 10623,\n",
       " 10632,\n",
       " 10650,\n",
       " 10753,\n",
       " 10757,\n",
       " 10814,\n",
       " 10816,\n",
       " 10864,\n",
       " 10878,\n",
       " 10881,\n",
       " 10886,\n",
       " 10894,\n",
       " 10905,\n",
       " 10927,\n",
       " 10950,\n",
       " 11012,\n",
       " 11029,\n",
       " 11042,\n",
       " 11048,\n",
       " 11052,\n",
       " 11064,\n",
       " 11087,\n",
       " 11098,\n",
       " 11112,\n",
       " 11120,\n",
       " 11132,\n",
       " 11143,\n",
       " 11165,\n",
       " 11318,\n",
       " 11411,\n",
       " 11631,\n",
       " 11720,\n",
       " 11844,\n",
       " 12070,\n",
       " 12192,\n",
       " 12323,\n",
       " 12332,\n",
       " 12374,\n",
       " 12514,\n",
       " 12542,\n",
       " 12626,\n",
       " 12659,\n",
       " 12662,\n",
       " 12723,\n",
       " 12764,\n",
       " 12785,\n",
       " 12810,\n",
       " 12833,\n",
       " 12845,\n",
       " 12873,\n",
       " 12981,\n",
       " 12993,\n",
       " 13014,\n",
       " 13021,\n",
       " 13073,\n",
       " 13083,\n",
       " 13095,\n",
       " 13204,\n",
       " 13210,\n",
       " 13217,\n",
       " 13224,\n",
       " 13270,\n",
       " 13298,\n",
       " 13315,\n",
       " 13340,\n",
       " 13407,\n",
       " 13420,\n",
       " 13442,\n",
       " 13452,\n",
       " 13531,\n",
       " 13547,\n",
       " 13562,\n",
       " 13566,\n",
       " 13698,\n",
       " 13702,\n",
       " 13708,\n",
       " 13763,\n",
       " 13799,\n",
       " 13826,\n",
       " 13846,\n",
       " 13881,\n",
       " 13915,\n",
       " 13952,\n",
       " 14176,\n",
       " 14215,\n",
       " 14249,\n",
       " 14385,\n",
       " 14429,\n",
       " 14478,\n",
       " 14613,\n",
       " 14646,\n",
       " 14681,\n",
       " 14702,\n",
       " 14726,\n",
       " 14771,\n",
       " 14777,\n",
       " 14785,\n",
       " 14817,\n",
       " 14850,\n",
       " 14900,\n",
       " 14920,\n",
       " 14964,\n",
       " 15292,\n",
       " 15315,\n",
       " 15321,\n",
       " 15326,\n",
       " 15356,\n",
       " 15384,\n",
       " 15401,\n",
       " 15414,\n",
       " 15433,\n",
       " 15518,\n",
       " 15605,\n",
       " 15623,\n",
       " 15680,\n",
       " 15766,\n",
       " 15779,\n",
       " 15786,\n",
       " 15838,\n",
       " 15853,\n",
       " 15859,\n",
       " 15998,\n",
       " 16016,\n",
       " 16022,\n",
       " 16094,\n",
       " 16111,\n",
       " 16118,\n",
       " 16126,\n",
       " 16128,\n",
       " 16143,\n",
       " 16148,\n",
       " 16164,\n",
       " 16190,\n",
       " 16194,\n",
       " 16199,\n",
       " 16232,\n",
       " 16249,\n",
       " 16252,\n",
       " 16268,\n",
       " 16302,\n",
       " 16319,\n",
       " 16336,\n",
       " 16341,\n",
       " 16345,\n",
       " 16473,\n",
       " 16482,\n",
       " 16532,\n",
       " 16542,\n",
       " 16563,\n",
       " 16637,\n",
       " 16703,\n",
       " 16769,\n",
       " 16791,\n",
       " 16802,\n",
       " 16829,\n",
       " 16837,\n",
       " 16872,\n",
       " 16875,\n",
       " 16877,\n",
       " 16880,\n",
       " 16978,\n",
       " 16982,\n",
       " 16986,\n",
       " 17001,\n",
       " 17012,\n",
       " 17035,\n",
       " 17063,\n",
       " 17130,\n",
       " 17137,\n",
       " 17149,\n",
       " 17155,\n",
       " 17161,\n",
       " 17406,\n",
       " 17414,\n",
       " 17429,\n",
       " 17435,\n",
       " 17462,\n",
       " 17537,\n",
       " 17648,\n",
       " 17703,\n",
       " 17713,\n",
       " 17746,\n",
       " 17841,\n",
       " 17855,\n",
       " 17879,\n",
       " 17884,\n",
       " 17889,\n",
       " 17945,\n",
       " 17953,\n",
       " 18069,\n",
       " 18073,\n",
       " 18226,\n",
       " 18249,\n",
       " 18284,\n",
       " 18368,\n",
       " 18373,\n",
       " 18409,\n",
       " 18412,\n",
       " 18439,\n",
       " 18463,\n",
       " 18489,\n",
       " 18534,\n",
       " 18572,\n",
       " 18593,\n",
       " 18626,\n",
       " 18637,\n",
       " 18674,\n",
       " 18708,\n",
       " 18754,\n",
       " 18758,\n",
       " 18774,\n",
       " 18809,\n",
       " 18835,\n",
       " 18849,\n",
       " 18896,\n",
       " 18901,\n",
       " 18970,\n",
       " 18976,\n",
       " 18998,\n",
       " 19013,\n",
       " 19017,\n",
       " 19021,\n",
       " 19067,\n",
       " 19089,\n",
       " 19111,\n",
       " 19117,\n",
       " 19132,\n",
       " 19139,\n",
       " 19173,\n",
       " 19202,\n",
       " 19232,\n",
       " 19308,\n",
       " 19318,\n",
       " 19365,\n",
       " 19369,\n",
       " 19371,\n",
       " 19387,\n",
       " 19406,\n",
       " 19436,\n",
       " 19439,\n",
       " 19504,\n",
       " 19616,\n",
       " 19648,\n",
       " 19680,\n",
       " 19692,\n",
       " 19803,\n",
       " 19826,\n",
       " 19888,\n",
       " 19929,\n",
       " 19932,\n",
       " 19998,\n",
       " 20007,\n",
       " 20019,\n",
       " 20063,\n",
       " 20129,\n",
       " 20158,\n",
       " 20168,\n",
       " 20172,\n",
       " 20187,\n",
       " 20276,\n",
       " 20306,\n",
       " 20355,\n",
       " 20381,\n",
       " 20397,\n",
       " 20408,\n",
       " 20449,\n",
       " 20491,\n",
       " 20499,\n",
       " 20527,\n",
       " 20568,\n",
       " 20575,\n",
       " 20617,\n",
       " 20673,\n",
       " 20702,\n",
       " 20720,\n",
       " 20755,\n",
       " 20799,\n",
       " 20848,\n",
       " 20916,\n",
       " 20918,\n",
       " 20937,\n",
       " 20987,\n",
       " 21071,\n",
       " 21078,\n",
       " 21165,\n",
       " 21196,\n",
       " 21223,\n",
       " 21233,\n",
       " 21252,\n",
       " 21356,\n",
       " 21362,\n",
       " 21366,\n",
       " 21449,\n",
       " 21467,\n",
       " 21473,\n",
       " 21487,\n",
       " 21495,\n",
       " 21510,\n",
       " 21517,\n",
       " 21522,\n",
       " 21526,\n",
       " 21534,\n",
       " 21589,\n",
       " 21598,\n",
       " 21602,\n",
       " 21616,\n",
       " 21673,\n",
       " 21678,\n",
       " 21687,\n",
       " 21702,\n",
       " 21725,\n",
       " 21733,\n",
       " 21785,\n",
       " 21845,\n",
       " 21861,\n",
       " 21873,\n",
       " 21881,\n",
       " 21903,\n",
       " 21905,\n",
       " 21952,\n",
       " 21981,\n",
       " 21989,\n",
       " 22007,\n",
       " 22015,\n",
       " 22031,\n",
       " 22075,\n",
       " 22083,\n",
       " 22100,\n",
       " 22133,\n",
       " 22149,\n",
       " 22199,\n",
       " 22216,\n",
       " 22226,\n",
       " 22261,\n",
       " 22286,\n",
       " 22314,\n",
       " 22383,\n",
       " 22444,\n",
       " 22483,\n",
       " 22535,\n",
       " 22550,\n",
       " 22659,\n",
       " 22682,\n",
       " 22704,\n",
       " 22744,\n",
       " 22751,\n",
       " 22758,\n",
       " 22879,\n",
       " 22894,\n",
       " 22909,\n",
       " 22972,\n",
       " 22997,\n",
       " 23018,\n",
       " 23026,\n",
       " 23033,\n",
       " 23037,\n",
       " 23054,\n",
       " 23128,\n",
       " 23163,\n",
       " 23195,\n",
       " 23211,\n",
       " 23219,\n",
       " 23235,\n",
       " 23241,\n",
       " 23251,\n",
       " 23277,\n",
       " 23320,\n",
       " 23331,\n",
       " 23349,\n",
       " 23354,\n",
       " 23402,\n",
       " 23411,\n",
       " 23428,\n",
       " 23438,\n",
       " 23454,\n",
       " 23499,\n",
       " 23507,\n",
       " 23636,\n",
       " 23663,\n",
       " 23674,\n",
       " 23715,\n",
       " 23735,\n",
       " 23775,\n",
       " 23803,\n",
       " 23896,\n",
       " 23906,\n",
       " 23918,\n",
       " 23992,\n",
       " 24003,\n",
       " 24056,\n",
       " 24127,\n",
       " 24132,\n",
       " 24137,\n",
       " 24144,\n",
       " 24178,\n",
       " 24336,\n",
       " 24359,\n",
       " 24367,\n",
       " 24371,\n",
       " 24424,\n",
       " 24467,\n",
       " 24503,\n",
       " 24505,\n",
       " 24547,\n",
       " 24568,\n",
       " 24572,\n",
       " 24577,\n",
       " 24583,\n",
       " 24593,\n",
       " 24608,\n",
       " 24646,\n",
       " 24667,\n",
       " 24857,\n",
       " 24867,\n",
       " 24928,\n",
       " 24933,\n",
       " 24972,\n",
       " 25036,\n",
       " 25041,\n",
       " 25049,\n",
       " 25129,\n",
       " 25144,\n",
       " 25169,\n",
       " 25176,\n",
       " 25355,\n",
       " 25373,\n",
       " 25392,\n",
       " 25446,\n",
       " 25476,\n",
       " 25485,\n",
       " 25542,\n",
       " 25560,\n",
       " 25582,\n",
       " 25616,\n",
       " 25645,\n",
       " 25704,\n",
       " 25758,\n",
       " 25762,\n",
       " 25917,\n",
       " 25943,\n",
       " 25991,\n",
       " 26017,\n",
       " 26080,\n",
       " 26098,\n",
       " 26189,\n",
       " 26224,\n",
       " 26301,\n",
       " 26406,\n",
       " 26497,\n",
       " 26545,\n",
       " 26548,\n",
       " 26583,\n",
       " 26622,\n",
       " 26639,\n",
       " 26647,\n",
       " 26667,\n",
       " 26678,\n",
       " 26686,\n",
       " 26749,\n",
       " 26775,\n",
       " 26778,\n",
       " 26782,\n",
       " 26810,\n",
       " 26839,\n",
       " 26843,\n",
       " 26846,\n",
       " 26897,\n",
       " 26913,\n",
       " 26917,\n",
       " 26922,\n",
       " 26927,\n",
       " 26932,\n",
       " 26935,\n",
       " 26938,\n",
       " 26952,\n",
       " 26998,\n",
       " 27117,\n",
       " 27141,\n",
       " 27153,\n",
       " 27193,\n",
       " 27196,\n",
       " 27201,\n",
       " 27210,\n",
       " 27248,\n",
       " 27264,\n",
       " 27276,\n",
       " 27351,\n",
       " 27353,\n",
       " 27390,\n",
       " 27419,\n",
       " 27423,\n",
       " 27430,\n",
       " 27433,\n",
       " 27436,\n",
       " 27446,\n",
       " 27472,\n",
       " 27537,\n",
       " 27545,\n",
       " 27622,\n",
       " 27634,\n",
       " 27651,\n",
       " 27715,\n",
       " 27722,\n",
       " 27773,\n",
       " 27776,\n",
       " 27793,\n",
       " 27840,\n",
       " 27845,\n",
       " 27851,\n",
       " 27856,\n",
       " 27869,\n",
       " 27873,\n",
       " 27880,\n",
       " 27933,\n",
       " 27938,\n",
       " 28064,\n",
       " 28124,\n",
       " 28174,\n",
       " 28179,\n",
       " 28183,\n",
       " 28191,\n",
       " 28236,\n",
       " 28323,\n",
       " 28327,\n",
       " 28339,\n",
       " 28344,\n",
       " 28406,\n",
       " 28429,\n",
       " 28458,\n",
       " 28475,\n",
       " 28496,\n",
       " 28600,\n",
       " 28668,\n",
       " 28760,\n",
       " 28763,\n",
       " 28806,\n",
       " 28830,\n",
       " 28879,\n",
       " 28892,\n",
       " 28927,\n",
       " 28933,\n",
       " 28936,\n",
       " 28939,\n",
       " 28942,\n",
       " 28945,\n",
       " 28953,\n",
       " 28954,\n",
       " 28977,\n",
       " 29059,\n",
       " 29154,\n",
       " 29158,\n",
       " 29163,\n",
       " 29169,\n",
       " 29207,\n",
       " 29330,\n",
       " 29344,\n",
       " 29372,\n",
       " 29377,\n",
       " 29448,\n",
       " 29565,\n",
       " 29570,\n",
       " 29655,\n",
       " 29669,\n",
       " 29770,\n",
       " 29894,\n",
       " 30017,\n",
       " 30080,\n",
       " 30101,\n",
       " 30112,\n",
       " 30117,\n",
       " 30132,\n",
       " 30182,\n",
       " 30196,\n",
       " 30226,\n",
       " 30233,\n",
       " 30238,\n",
       " 30263,\n",
       " 30268,\n",
       " 30362,\n",
       " 30437,\n",
       " 30444,\n",
       " 30470,\n",
       " 30480,\n",
       " 30523,\n",
       " 30527,\n",
       " 30549,\n",
       " 30569,\n",
       " 30607,\n",
       " 30614,\n",
       " 30625,\n",
       " 30673,\n",
       " 30676,\n",
       " 30730,\n",
       " 30829,\n",
       " 30839,\n",
       " 30867,\n",
       " 30877,\n",
       " 30881,\n",
       " 30919,\n",
       " 30927,\n",
       " 30992,\n",
       " 30996,\n",
       " 31038,\n",
       " 31058,\n",
       " 31062,\n",
       " 31157,\n",
       " 31167,\n",
       " 31179,\n",
       " 31196,\n",
       " 31200,\n",
       " 31206,\n",
       " 31236,\n",
       " 31262,\n",
       " 31267,\n",
       " 31292,\n",
       " 31318,\n",
       " 31357,\n",
       " 31361,\n",
       " 31741,\n",
       " 31747,\n",
       " 31832,\n",
       " 31844,\n",
       " 31857,\n",
       " 31866,\n",
       " 31903,\n",
       " 31988,\n",
       " 32033,\n",
       " 32056,\n",
       " 32074,\n",
       " 32086,\n",
       " 32095,\n",
       " 32099,\n",
       " 32105,\n",
       " 32116,\n",
       " 32167,\n",
       " 32172,\n",
       " 32176,\n",
       " 32191,\n",
       " 32200,\n",
       " 32216,\n",
       " 32225,\n",
       " 32247,\n",
       " 32256,\n",
       " 32344,\n",
       " 32356,\n",
       " 32359,\n",
       " 32366,\n",
       " 32370,\n",
       " 32373,\n",
       " 32376,\n",
       " 32379,\n",
       " 32381,\n",
       " 32384,\n",
       " 32401,\n",
       " 32443,\n",
       " 32509,\n",
       " 32543,\n",
       " 32637,\n",
       " 32649,\n",
       " 32661,\n",
       " 32665,\n",
       " 32674,\n",
       " 32683,\n",
       " 32697,\n",
       " 32701,\n",
       " 32731,\n",
       " 32761,\n",
       " 32763,\n",
       " 32766,\n",
       " 32769,\n",
       " 32790,\n",
       " 32812,\n",
       " 32845,\n",
       " 32870,\n",
       " 32902,\n",
       " 32925,\n",
       " 33011,\n",
       " 33053,\n",
       " 33058,\n",
       " 33061,\n",
       " 33064,\n",
       " 33067,\n",
       " 33070,\n",
       " 33073,\n",
       " 33077,\n",
       " 33115,\n",
       " 33206,\n",
       " 33232,\n",
       " 33236,\n",
       " 33257,\n",
       " 33261,\n",
       " 33286,\n",
       " 33309,\n",
       " 33322,\n",
       " 33325,\n",
       " 33327,\n",
       " 33333,\n",
       " 33348,\n",
       " 33358,\n",
       " 33362,\n",
       " 33371,\n",
       " 33377,\n",
       " 33395,\n",
       " 33416,\n",
       " 33427,\n",
       " 33474,\n",
       " 33491,\n",
       " 33508,\n",
       " 33542,\n",
       " ...)"
      ]
     },
     "execution_count": 25,
     "metadata": {},
     "output_type": "execute_result"
    }
   ],
   "source": [
    "# F.fff.s(value) // Get nodes where feature fff has value.\n",
    "F.rank_lex.s(3)"
   ]
  },
  {
   "cell_type": "code",
   "execution_count": 26,
   "metadata": {},
   "outputs": [
    {
     "data": {
      "text/plain": [
       "'ZKRWN/'"
      ]
     },
     "execution_count": 26,
     "metadata": {},
     "output_type": "execute_result"
    }
   ],
   "source": [
    "memorial = []\n",
    "for word in F.otype.s('word'):\n",
    "    if F.g_cons_utf8.v(word) == 'זכרון':\n",
    "        memorial.append(word)\n",
    "\n",
    "F.lex.v(memorial[0])"
   ]
  },
  {
   "cell_type": "markdown",
   "metadata": {},
   "source": [
    "### `F.fff.freqList(...)`\n",
    "\n",
    "Frequency list of values of fff."
   ]
  },
  {
   "cell_type": "code",
   "execution_count": 27,
   "metadata": {},
   "outputs": [
    {
     "data": {
      "text/plain": [
       "(('VP', 69024),\n",
       " ('PP', 57483),\n",
       " ('CP', 52481),\n",
       " ('NP', 40821),\n",
       " ('PrNP', 10119),\n",
       " ('NegP', 6742),\n",
       " ('AdvP', 5660),\n",
       " ('PPrP', 4378),\n",
       " ('InjP', 1872),\n",
       " ('AdjP', 1749),\n",
       " ('InrP', 1288),\n",
       " ('IPrP', 796),\n",
       " ('DPrP', 790))"
      ]
     },
     "execution_count": 27,
     "metadata": {},
     "output_type": "execute_result"
    }
   ],
   "source": [
    "# F.fff.freqList(...) // Frequency list of values of fff. \n",
    "# If you pass a set of nodeTypes, only the values for nodes within those types will be counted.\n",
    "F.typ.freqList(nodeTypes='phrase')"
   ]
  },
  {
   "cell_type": "markdown",
   "metadata": {},
   "source": [
    "### `F.fff.items(...)`\n",
    "\n",
    "Generator of all entries of fff as mapping from nodes to values."
   ]
  },
  {
   "cell_type": "code",
   "execution_count": null,
   "metadata": {},
   "outputs": [],
   "source": [
    "# F.fff.items() // Generates all entries of fff as mapping from nodes to values.\n",
    "# F.lex.items()"
   ]
  },
  {
   "cell_type": "markdown",
   "metadata": {},
   "source": [
    "### `F.fff.meta`\n",
    "\n",
    "Meta data of feature fff."
   ]
  },
  {
   "cell_type": "code",
   "execution_count": 29,
   "metadata": {},
   "outputs": [
    {
     "data": {
      "text/plain": [
       "{'author': 'Eep Talstra Centre for Bible and Computer',\n",
       " 'dataset': 'BHSA',\n",
       " 'datasetName': 'Biblia Hebraica Stuttgartensia Amstelodamensis',\n",
       " 'email': 'shebanq@ancient-data.org',\n",
       " 'encoders': 'Dirk Roorda (TF)',\n",
       " 'provenance': 'computed addition to core set of features',\n",
       " 'valueType': 'int',\n",
       " 'version': '2021',\n",
       " 'website': 'https://shebanq.ancient-data.org',\n",
       " 'writtenBy': 'Text-Fabric',\n",
       " 'dateWritten': '2021-08-24T11:15:19Z'}"
      ]
     },
     "execution_count": 29,
     "metadata": {},
     "output_type": "execute_result"
    }
   ],
   "source": [
    "# F.fff.meta // Meta data of feature fff.\n",
    "F.freq_lex.meta"
   ]
  },
  {
   "cell_type": "markdown",
   "metadata": {},
   "source": [
    "### Special node feature *otype*"
   ]
  },
  {
   "cell_type": "markdown",
   "metadata": {},
   "source": [
    "### `F.otype.v(node)`\n",
    "\n",
    "Get type of node."
   ]
  },
  {
   "cell_type": "code",
   "execution_count": 30,
   "metadata": {},
   "outputs": [
    {
     "data": {
      "text/plain": [
       "'word'"
      ]
     },
     "execution_count": 30,
     "metadata": {},
     "output_type": "execute_result"
    }
   ],
   "source": [
    "# F.otype.v(node) // Get type of node.\n",
    "F.otype.v(1)"
   ]
  },
  {
   "cell_type": "markdown",
   "metadata": {},
   "source": [
    "### `F.otype.s(nodeType)`\n",
    "\n",
    "Get all nodes of type nodeType."
   ]
  },
  {
   "cell_type": "code",
   "execution_count": 31,
   "metadata": {},
   "outputs": [
    {
     "data": {
      "text/plain": [
       "range(1414389, 1437602)"
      ]
     },
     "execution_count": 31,
     "metadata": {},
     "output_type": "execute_result"
    }
   ],
   "source": [
    "# F.otype.s(nodeType) // Get all nodes of type nodeType.\n",
    "F.otype.s('verse')"
   ]
  },
  {
   "cell_type": "markdown",
   "metadata": {},
   "source": [
    "### `F.otype.sInterval(nodeType)`\n",
    "\n",
    "Gives start and ending nodes of nodeType."
   ]
  },
  {
   "cell_type": "code",
   "execution_count": 32,
   "metadata": {},
   "outputs": [
    {
     "data": {
      "text/plain": [
       "(651573, 904775)"
      ]
     },
     "execution_count": 32,
     "metadata": {},
     "output_type": "execute_result"
    }
   ],
   "source": [
    "# F.otype.sInterval(nodeType) // Gives start and ending nodes of nodeType.\n",
    "F.otype.sInterval('phrase')"
   ]
  },
  {
   "cell_type": "markdown",
   "metadata": {},
   "source": [
    "### `A.otype.{maxSlot, maxNode, slotType, all}`\n",
    "\n",
    "The last slot node; Last node; Slot type; Sorted list of all node types."
   ]
  },
  {
   "cell_type": "code",
   "execution_count": 33,
   "metadata": {},
   "outputs": [
    {
     "name": "stdout",
     "output_type": "stream",
     "text": [
      "maxSlot: 426590\n",
      "maxNode: 1446831\n",
      "slotType: word\n",
      "allTypes: ('book', 'chapter', 'lex', 'verse', 'half_verse', 'sentence', 'sentence_atom', 'clause', 'clause_atom', 'phrase', 'phrase_atom', 'subphrase', 'word')\n"
     ]
    }
   ],
   "source": [
    "# The last slot node.\n",
    "a = F.otype.maxSlot\n",
    "\n",
    "# The last node. \n",
    "b = F.otype.maxNode\n",
    "\n",
    "# The slot type. \n",
    "c = F.otype.slotType\n",
    "\n",
    "# Sorted list of all node types. \n",
    "d = F.otype.all \n",
    "\n",
    "print(f\"maxSlot: {a}\\nmaxNode: {b}\\nslotType: {c}\\nallTypes: {d}\")"
   ]
  },
  {
   "cell_type": "markdown",
   "metadata": {},
   "source": [
    "## E. Edge Features"
   ]
  },
  {
   "cell_type": "markdown",
   "metadata": {},
   "source": [
    "### `Eall()`\n",
    "\n",
    "All loaded feature names (edge features only)."
   ]
  },
  {
   "cell_type": "code",
   "execution_count": 34,
   "metadata": {},
   "outputs": [
    {
     "data": {
      "text/plain": [
       "['crossref', 'mother', 'omap@2017-2021', 'omap@c-2021', 'oslots']"
      ]
     },
     "execution_count": 34,
     "metadata": {},
     "output_type": "execute_result"
    }
   ],
   "source": [
    "# All loaded (edge) feature names.\n",
    "Eall()"
   ]
  },
  {
   "cell_type": "markdown",
   "metadata": {},
   "source": [
    "### `E.fff.f(node)`\n",
    "\n",
    "Get value of feature fff for edges from node."
   ]
  },
  {
   "cell_type": "code",
   "execution_count": 35,
   "metadata": {},
   "outputs": [
    {
     "data": {
      "text/plain": [
       "(427566,)"
      ]
     },
     "execution_count": 35,
     "metadata": {},
     "output_type": "execute_result"
    }
   ],
   "source": [
    "# E.fff.f(node) // Get value of feature fff for edges from node.\n",
    "E.mother.f(427567)"
   ]
  },
  {
   "cell_type": "markdown",
   "metadata": {},
   "source": [
    "### `E.fff.t(node)`\n",
    "\n",
    "Get value of feature fff for edges to node."
   ]
  },
  {
   "cell_type": "code",
   "execution_count": 36,
   "metadata": {},
   "outputs": [
    {
     "data": {
      "text/plain": [
       "(427567,)"
      ]
     },
     "execution_count": 36,
     "metadata": {},
     "output_type": "execute_result"
    }
   ],
   "source": [
    "# E.fff.t(node) // Get value of feature fff for edges to node.\n",
    "E.mother.t(427566)"
   ]
  },
  {
   "cell_type": "markdown",
   "metadata": {},
   "source": [
    "### `E.fff.freqList(...)`\n",
    "\n",
    "Frequency list of values of fff."
   ]
  },
  {
   "cell_type": "code",
   "execution_count": 37,
   "metadata": {},
   "outputs": [
    {
     "data": {
      "text/plain": [
       "((100, 8456),\n",
       " (80, 7796),\n",
       " (84, 2874),\n",
       " (86, 2328),\n",
       " (76, 1274),\n",
       " (77, 1220),\n",
       " (78, 1170),\n",
       " (79, 844),\n",
       " (81, 844),\n",
       " (75, 836),\n",
       " (83, 754),\n",
       " (88, 730),\n",
       " (82, 720),\n",
       " (92, 250),\n",
       " (85, 248),\n",
       " (90, 240),\n",
       " (91, 216),\n",
       " (94, 160),\n",
       " (87, 148),\n",
       " (95, 148),\n",
       " (89, 142),\n",
       " (96, 90),\n",
       " (93, 88),\n",
       " (98, 76),\n",
       " (99, 58),\n",
       " (97, 32))"
      ]
     },
     "execution_count": 37,
     "metadata": {},
     "output_type": "execute_result"
    }
   ],
   "source": [
    "# E.fff.freqList() // Frequency list of values of fff.\n",
    "E.crossref.freqList()"
   ]
  },
  {
   "cell_type": "markdown",
   "metadata": {},
   "source": [
    "### `E.fff.items(...)`\n",
    "\n",
    "Generator of all entries of fff as mapping from edges to values."
   ]
  },
  {
   "cell_type": "code",
   "execution_count": null,
   "metadata": {},
   "outputs": [],
   "source": [
    "# E.fff.items() // Generator of all entries of fff as mapping from edges to values.\n",
    "E.crossref.items()"
   ]
  },
  {
   "cell_type": "markdown",
   "metadata": {},
   "source": [
    "### `E.fff.b(node)`\n",
    "\n",
    "Get value of feature fff for edges from and to node."
   ]
  },
  {
   "cell_type": "code",
   "execution_count": 39,
   "metadata": {},
   "outputs": [
    {
     "data": {
      "text/plain": [
       "((1414407, 84), (1414411, 89))"
      ]
     },
     "execution_count": 39,
     "metadata": {},
     "output_type": "execute_result"
    }
   ],
   "source": [
    "# E.fff.b(node) // Get value of feature fff for edges from and to node.\n",
    "E.crossref.b(1414401)"
   ]
  },
  {
   "cell_type": "markdown",
   "metadata": {},
   "source": [
    "### `E.oslots.s(node)`\n",
    "\n",
    "Set of slots linked to node."
   ]
  },
  {
   "cell_type": "code",
   "execution_count": 40,
   "metadata": {},
   "outputs": [
    {
     "data": {
      "text/plain": [
       "array('I', [228, 229, 230, 231, 232, 233, 234, 235])"
      ]
     },
     "execution_count": 40,
     "metadata": {},
     "output_type": "execute_result"
    }
   ],
   "source": [
    "# E.oslots.s(node) // Set of slots linked to node.\n",
    "E.oslots.s(1414401)"
   ]
  },
  {
   "cell_type": "markdown",
   "metadata": {},
   "source": [
    "## L. Locality"
   ]
  },
  {
   "cell_type": "markdown",
   "metadata": {},
   "source": [
    "### `L.i(node, otype=...)`\n",
    "\n",
    "Go to intersecting nodes."
   ]
  },
  {
   "cell_type": "code",
   "execution_count": 41,
   "metadata": {},
   "outputs": [
    {
     "data": {
      "text/plain": [
       "[651720, 651721, 651722, 651723, 651724, 651725, 651726]"
      ]
     },
     "execution_count": 41,
     "metadata": {},
     "output_type": "execute_result"
    }
   ],
   "source": [
    "# L.i(node, otype=...) // Go to intersecting nodes.\n",
    "L.i(1414401, otype='phrase')"
   ]
  },
  {
   "cell_type": "markdown",
   "metadata": {},
   "source": [
    "### `L.u(node, otype=...)`\n",
    "\n",
    "Go one level up."
   ]
  },
  {
   "cell_type": "code",
   "execution_count": 42,
   "metadata": {},
   "outputs": [
    {
     "name": "stdout",
     "output_type": "stream",
     "text": [
      "1172308 sentence\n"
     ]
    },
    {
     "data": {
      "text/html": [
       "<div class=\"rtl\"><span class=\"tfsechead rtl\"><span class=\"ltr\"><a target=\"_blank\" href=\"https://shebanq.ancient-data.org/hebrew/text?book=Genesis&amp;chapter=1&amp;verse=1&amp;version=2021&amp;mr=m&amp;qw=q&amp;tp=txt_p&amp;tr=hb&amp;wget=v&amp;qget=v&amp;nget=vt\" title=\"Show this on SHEBANQ\" sec=\"Genesis 1:1\">Genesis 1:1</a></span></span>  <span class=\"txtu hbo\">בְּ</span><span class=\"txtu hbo\">רֵאשִׁ֖ית </span><span class=\"txtu hbo\">בָּרָ֣א </span><span class=\"txtu hbo\">אֱלֹהִ֑ים </span><span class=\"txtu hbo\">אֵ֥ת </span><span class=\"txtu hbo\">הַ</span><span class=\"txtu hbo\">שָּׁמַ֖יִם </span><span class=\"txtu hbo\">וְ</span><span class=\"txtu hbo\">אֵ֥ת </span><span class=\"txtu hbo\">הָ</span><span class=\"txtu hbo\">אָֽרֶץ׃ </span></div>"
      ],
      "text/plain": [
       "<IPython.core.display.HTML object>"
      ]
     },
     "metadata": {},
     "output_type": "display_data"
    }
   ],
   "source": [
    "# L.u(node, otype=...) // Go one level up.\n",
    "up = L.u(1, otype='sentence')\n",
    "for i in up:\n",
    "    print(i, F.otype.v(i))\n",
    "    A.plain(i)"
   ]
  },
  {
   "cell_type": "markdown",
   "metadata": {},
   "source": [
    "### `L.d(node, otype=...)`\n",
    "\n",
    "Go one level down."
   ]
  },
  {
   "cell_type": "code",
   "execution_count": 43,
   "metadata": {},
   "outputs": [
    {
     "name": "stdout",
     "output_type": "stream",
     "text": [
      "904936 phrase_atom\n"
     ]
    },
    {
     "data": {
      "text/html": [
       "<div class=\"rtl\"><span class=\"tfsechead rtl\"><span class=\"ltr\"><a target=\"_blank\" href=\"https://shebanq.ancient-data.org/hebrew/text?book=Genesis&amp;chapter=1&amp;verse=13&amp;version=2021&amp;mr=m&amp;qw=q&amp;tp=txt_p&amp;tr=hb&amp;wget=v&amp;qget=v&amp;nget=vt\" title=\"Show this on SHEBANQ\" sec=\"Genesis 1:13\">Genesis 1:13</a></span></span>  <span class=\"txtu hbo\">וַֽ</span></div>"
      ],
      "text/plain": [
       "<IPython.core.display.HTML object>"
      ]
     },
     "metadata": {},
     "output_type": "display_data"
    },
    {
     "name": "stdout",
     "output_type": "stream",
     "text": [
      "231 word\n"
     ]
    },
    {
     "data": {
      "text/html": [
       "<div class=\"rtl\"><span class=\"tfsechead rtl\"><span class=\"ltr\"><a target=\"_blank\" href=\"https://shebanq.ancient-data.org/hebrew/text?book=Genesis&amp;chapter=1&amp;verse=13&amp;version=2021&amp;mr=m&amp;qw=q&amp;tp=txt_p&amp;tr=hb&amp;wget=v&amp;qget=v&amp;nget=vt\" title=\"Show this on SHEBANQ\" sec=\"Genesis 1:13\">Genesis 1:13</a></span></span>  <span class=\"txtu hbo\">וַֽ</span></div>"
      ],
      "text/plain": [
       "<IPython.core.display.HTML object>"
      ]
     },
     "metadata": {},
     "output_type": "display_data"
    }
   ],
   "source": [
    "# L.d(node, otype=...) // Go one level down.\n",
    "ld = L.d(651723)\n",
    "for i in ld:\n",
    "    print(i, F.otype.v(i))\n",
    "    A.plain(i)"
   ]
  },
  {
   "cell_type": "markdown",
   "metadata": {},
   "source": [
    "### `L.p(node, otype=...)`\n",
    "\n",
    "Go to adjacent previous nodes."
   ]
  },
  {
   "cell_type": "code",
   "execution_count": 44,
   "metadata": {},
   "outputs": [
    {
     "name": "stdout",
     "output_type": "stream",
     "text": [
      "1172344 sentence\n"
     ]
    },
    {
     "data": {
      "text/html": [
       "<div class=\"rtl\"><span class=\"tfsechead rtl\"><span class=\"ltr\"><a target=\"_blank\" href=\"https://shebanq.ancient-data.org/hebrew/text?book=Genesis&amp;chapter=1&amp;verse=13&amp;version=2021&amp;mr=m&amp;qw=q&amp;tp=txt_p&amp;tr=hb&amp;wget=v&amp;qget=v&amp;nget=vt\" title=\"Show this on SHEBANQ\" sec=\"Genesis 1:13\">Genesis 1:13</a></span></span>  <span class=\"txtu hbo\">וַֽ</span><span class=\"txtu hbo\">יְהִי־</span><span class=\"txtu hbo\">עֶ֥רֶב </span></div>"
      ],
      "text/plain": [
       "<IPython.core.display.HTML object>"
      ]
     },
     "metadata": {},
     "output_type": "display_data"
    },
    {
     "name": "stdout",
     "output_type": "stream",
     "text": [
      "1236061 sentence_atom\n"
     ]
    },
    {
     "data": {
      "text/html": [
       "<div class=\"rtl\"><span class=\"tfsechead rtl\"><span class=\"ltr\"><a target=\"_blank\" href=\"https://shebanq.ancient-data.org/hebrew/text?book=Genesis&amp;chapter=1&amp;verse=13&amp;version=2021&amp;mr=m&amp;qw=q&amp;tp=txt_p&amp;tr=hb&amp;wget=v&amp;qget=v&amp;nget=vt\" title=\"Show this on SHEBANQ\" sec=\"Genesis 1:13\">Genesis 1:13</a></span></span>  <span class=\"txtu hbo\">וַֽ</span><span class=\"txtu hbo\">יְהִי־</span><span class=\"txtu hbo\">עֶ֥רֶב </span></div>"
      ],
      "text/plain": [
       "<IPython.core.display.HTML object>"
      ]
     },
     "metadata": {},
     "output_type": "display_data"
    },
    {
     "name": "stdout",
     "output_type": "stream",
     "text": [
      "427606 clause\n"
     ]
    },
    {
     "data": {
      "text/html": [
       "<div class=\"rtl\"><span class=\"tfsechead rtl\"><span class=\"ltr\"><a target=\"_blank\" href=\"https://shebanq.ancient-data.org/hebrew/text?book=Genesis&amp;chapter=1&amp;verse=13&amp;version=2021&amp;mr=m&amp;qw=q&amp;tp=txt_p&amp;tr=hb&amp;wget=v&amp;qget=v&amp;nget=vt\" title=\"Show this on SHEBANQ\" sec=\"Genesis 1:13\">Genesis 1:13</a></span></span>  <span class=\"txtu hbo\">וַֽ</span><span class=\"txtu hbo\">יְהִי־</span><span class=\"txtu hbo\">עֶ֥רֶב </span></div>"
      ],
      "text/plain": [
       "<IPython.core.display.HTML object>"
      ]
     },
     "metadata": {},
     "output_type": "display_data"
    },
    {
     "name": "stdout",
     "output_type": "stream",
     "text": [
      "515742 clause_atom\n"
     ]
    },
    {
     "data": {
      "text/html": [
       "<div class=\"rtl\"><span class=\"tfsechead rtl\"><span class=\"ltr\"><a target=\"_blank\" href=\"https://shebanq.ancient-data.org/hebrew/text?book=Genesis&amp;chapter=1&amp;verse=13&amp;version=2021&amp;mr=m&amp;qw=q&amp;tp=txt_p&amp;tr=hb&amp;wget=v&amp;qget=v&amp;nget=vt\" title=\"Show this on SHEBANQ\" sec=\"Genesis 1:13\">Genesis 1:13</a></span></span>  <span class=\"txtu hbo\">וַֽ</span><span class=\"txtu hbo\">יְהִי־</span><span class=\"txtu hbo\">עֶ֥רֶב </span></div>"
      ],
      "text/plain": [
       "<IPython.core.display.HTML object>"
      ]
     },
     "metadata": {},
     "output_type": "display_data"
    },
    {
     "name": "stdout",
     "output_type": "stream",
     "text": [
      "651722 phrase\n"
     ]
    },
    {
     "data": {
      "text/html": [
       "<div class=\"rtl\"><span class=\"tfsechead rtl\"><span class=\"ltr\"><a target=\"_blank\" href=\"https://shebanq.ancient-data.org/hebrew/text?book=Genesis&amp;chapter=1&amp;verse=13&amp;version=2021&amp;mr=m&amp;qw=q&amp;tp=txt_p&amp;tr=hb&amp;wget=v&amp;qget=v&amp;nget=vt\" title=\"Show this on SHEBANQ\" sec=\"Genesis 1:13\">Genesis 1:13</a></span></span>  <span class=\"txtu hbo\">עֶ֥רֶב </span></div>"
      ],
      "text/plain": [
       "<IPython.core.display.HTML object>"
      ]
     },
     "metadata": {},
     "output_type": "display_data"
    },
    {
     "name": "stdout",
     "output_type": "stream",
     "text": [
      "904935 phrase_atom\n"
     ]
    },
    {
     "data": {
      "text/html": [
       "<div class=\"rtl\"><span class=\"tfsechead rtl\"><span class=\"ltr\"><a target=\"_blank\" href=\"https://shebanq.ancient-data.org/hebrew/text?book=Genesis&amp;chapter=1&amp;verse=13&amp;version=2021&amp;mr=m&amp;qw=q&amp;tp=txt_p&amp;tr=hb&amp;wget=v&amp;qget=v&amp;nget=vt\" title=\"Show this on SHEBANQ\" sec=\"Genesis 1:13\">Genesis 1:13</a></span></span>  <span class=\"txtu hbo\">עֶ֥רֶב </span></div>"
      ],
      "text/plain": [
       "<IPython.core.display.HTML object>"
      ]
     },
     "metadata": {},
     "output_type": "display_data"
    },
    {
     "name": "stdout",
     "output_type": "stream",
     "text": [
      "230 word\n"
     ]
    },
    {
     "data": {
      "text/html": [
       "<div class=\"rtl\"><span class=\"tfsechead rtl\"><span class=\"ltr\"><a target=\"_blank\" href=\"https://shebanq.ancient-data.org/hebrew/text?book=Genesis&amp;chapter=1&amp;verse=13&amp;version=2021&amp;mr=m&amp;qw=q&amp;tp=txt_p&amp;tr=hb&amp;wget=v&amp;qget=v&amp;nget=vt\" title=\"Show this on SHEBANQ\" sec=\"Genesis 1:13\">Genesis 1:13</a></span></span>  <span class=\"txtu hbo\">עֶ֥רֶב </span></div>"
      ],
      "text/plain": [
       "<IPython.core.display.HTML object>"
      ]
     },
     "metadata": {},
     "output_type": "display_data"
    }
   ],
   "source": [
    "# L.p(node, otype=...) // Go to adjacent previous nodes.\n",
    "lp = L.p(651723)\n",
    "for i in lp:\n",
    "    print(i, F.otype.v(i))\n",
    "    A.plain(i)"
   ]
  },
  {
   "cell_type": "markdown",
   "metadata": {},
   "source": [
    "### `L.n(node, otype=...)`\n",
    "\n",
    "Go to adjacent next nodes."
   ]
  },
  {
   "cell_type": "code",
   "execution_count": 45,
   "metadata": {},
   "outputs": [
    {
     "name": "stdout",
     "output_type": "stream",
     "text": [
      "232 word\n"
     ]
    },
    {
     "data": {
      "text/html": [
       "<div class=\"rtl\"><span class=\"tfsechead rtl\"><span class=\"ltr\"><a target=\"_blank\" href=\"https://shebanq.ancient-data.org/hebrew/text?book=Genesis&amp;chapter=1&amp;verse=13&amp;version=2021&amp;mr=m&amp;qw=q&amp;tp=txt_p&amp;tr=hb&amp;wget=v&amp;qget=v&amp;nget=vt\" title=\"Show this on SHEBANQ\" sec=\"Genesis 1:13\">Genesis 1:13</a></span></span>  <span class=\"txtu hbo\">יְהִי־</span></div>"
      ],
      "text/plain": [
       "<IPython.core.display.HTML object>"
      ]
     },
     "metadata": {},
     "output_type": "display_data"
    },
    {
     "name": "stdout",
     "output_type": "stream",
     "text": [
      "904937 phrase_atom\n"
     ]
    },
    {
     "data": {
      "text/html": [
       "<div class=\"rtl\"><span class=\"tfsechead rtl\"><span class=\"ltr\"><a target=\"_blank\" href=\"https://shebanq.ancient-data.org/hebrew/text?book=Genesis&amp;chapter=1&amp;verse=13&amp;version=2021&amp;mr=m&amp;qw=q&amp;tp=txt_p&amp;tr=hb&amp;wget=v&amp;qget=v&amp;nget=vt\" title=\"Show this on SHEBANQ\" sec=\"Genesis 1:13\">Genesis 1:13</a></span></span>  <span class=\"txtu hbo\">יְהִי־</span></div>"
      ],
      "text/plain": [
       "<IPython.core.display.HTML object>"
      ]
     },
     "metadata": {},
     "output_type": "display_data"
    },
    {
     "name": "stdout",
     "output_type": "stream",
     "text": [
      "651724 phrase\n"
     ]
    },
    {
     "data": {
      "text/html": [
       "<div class=\"rtl\"><span class=\"tfsechead rtl\"><span class=\"ltr\"><a target=\"_blank\" href=\"https://shebanq.ancient-data.org/hebrew/text?book=Genesis&amp;chapter=1&amp;verse=13&amp;version=2021&amp;mr=m&amp;qw=q&amp;tp=txt_p&amp;tr=hb&amp;wget=v&amp;qget=v&amp;nget=vt\" title=\"Show this on SHEBANQ\" sec=\"Genesis 1:13\">Genesis 1:13</a></span></span>  <span class=\"txtu hbo\">יְהִי־</span></div>"
      ],
      "text/plain": [
       "<IPython.core.display.HTML object>"
      ]
     },
     "metadata": {},
     "output_type": "display_data"
    }
   ],
   "source": [
    "# L.n(node, otype=...) // Go to adjacent next nodes.\n",
    "ln = L.n(651723)\n",
    "for i in ln:\n",
    "    print(i, F.otype.v(i))\n",
    "    A.plain(i)"
   ]
  },
  {
   "cell_type": "markdown",
   "metadata": {},
   "source": [
    "## T. Text"
   ]
  },
  {
   "cell_type": "markdown",
   "metadata": {},
   "source": [
    "### `T.text(node, fmt=..., ...)`\n",
    "\n",
    "Give formatted text associated with node."
   ]
  },
  {
   "cell_type": "code",
   "execution_count": 46,
   "metadata": {},
   "outputs": [
    {
     "name": "stdout",
     "output_type": "stream",
     "text": [
      "בראשׁית\n",
      "ברא\n",
      "אלהים\n"
     ]
    }
   ],
   "source": [
    "# T.text(node, fmt=..., ...) // Give formatted text associated with node.\n",
    "t = T.text(range(1,5), fmt='text-orig-plain', descend=True, explain=False)\n",
    "for i in t.split():\n",
    "    print(i)"
   ]
  },
  {
   "cell_type": "code",
   "execution_count": 47,
   "metadata": {},
   "outputs": [
    {
     "name": "stdout",
     "output_type": "stream",
     "text": [
      "בְּ\n"
     ]
    }
   ],
   "source": [
    "print(T.text(1))"
   ]
  },
  {
   "cell_type": "markdown",
   "metadata": {},
   "source": [
    "## S. Search"
   ]
  },
  {
   "cell_type": "markdown",
   "metadata": {},
   "source": [
    "### `S.search(query, limit=None)`\n",
    "\n",
    "Query the TF dataset with a template."
   ]
  },
  {
   "cell_type": "code",
   "execution_count": 48,
   "metadata": {},
   "outputs": [
    {
     "data": {
      "text/html": [
       "<p><b>result</b> <i>1</i></p>"
      ],
      "text/plain": [
       "<IPython.core.display.HTML object>"
      ]
     },
     "metadata": {},
     "output_type": "display_data"
    },
    {
     "data": {
      "text/html": [
       "<div class=\"tfsechead rtl\"><span class=\"ltr\"><a target=\"_blank\" href=\"https://shebanq.ancient-data.org/hebrew/text?book=Exodus&amp;chapter=1&amp;verse=1&amp;version=2021&amp;mr=m&amp;qw=q&amp;tp=txt_p&amp;tr=hb&amp;wget=v&amp;qget=v&amp;nget=vt\" title=\"Show this on SHEBANQ\" sec=\"Exodus\">Exodus</a></span></div><div class=\"rtl children\"><div class=\"contnr c4 trm rtl  \" ><div class=\"lbl c4 trm \" ><span class=\"nd\">book</span> <span class=\"txtu hbo\"><span class=\"tfsechead rtl\"><span class=\"ltr\">Exodus</span></span></span></div><div class='features'><span class=\"book xft\" ><span class=\"f\">book=</span>Exodus</span></div></div></div>"
      ],
      "text/plain": [
       "<IPython.core.display.HTML object>"
      ]
     },
     "metadata": {},
     "output_type": "display_data"
    },
    {
     "data": {
      "text/html": [
       "<div class=\"tfsechead rtl\"><span class=\"ltr\"><a target=\"_blank\" href=\"https://shebanq.ancient-data.org/hebrew/text?book=Exodus&amp;chapter=2&amp;verse=1&amp;version=2021&amp;mr=m&amp;qw=q&amp;tp=txt_p&amp;tr=hb&amp;wget=v&amp;qget=v&amp;nget=vt\" title=\"Show this on SHEBANQ\" sec=\"Exodus 2\">Exodus 2</a></span></div><div class=\"rtl children\"><div class=\"contnr c4 trm rtl  \" ><div class=\"lbl c4 trm \" ><span class=\"nd\">chapter</span> <span class=\"txtu hbo\"><span class=\"tfsechead rtl\"><span class=\"ltr\">Exodus 2</span></span></span></div><div class='features'><span class=\"book xft\" ><span class=\"f\">book=</span>Exodus</span><span class=\"chapter xft\" ><span class=\"f\">chapter=</span>2</span></div></div></div>"
      ],
      "text/plain": [
       "<IPython.core.display.HTML object>"
      ]
     },
     "metadata": {},
     "output_type": "display_data"
    },
    {
     "data": {
      "text/html": [
       "<p><b>result</b> <i>2</i></p>"
      ],
      "text/plain": [
       "<IPython.core.display.HTML object>"
      ]
     },
     "metadata": {},
     "output_type": "display_data"
    },
    {
     "data": {
      "text/html": [
       "<div class=\"tfsechead rtl\"><span class=\"ltr\"><a target=\"_blank\" href=\"https://shebanq.ancient-data.org/hebrew/text?book=Genesis&amp;chapter=1&amp;verse=1&amp;version=2021&amp;mr=m&amp;qw=q&amp;tp=txt_p&amp;tr=hb&amp;wget=v&amp;qget=v&amp;nget=vt\" title=\"Show this on SHEBANQ\" sec=\"Genesis\">Genesis</a></span></div><div class=\"rtl children\"><div class=\"contnr c4 trm rtl  \" ><div class=\"lbl c4 trm \" ><span class=\"nd\">book</span> <span class=\"txtu hbo\"><span class=\"tfsechead rtl\"><span class=\"ltr\">Genesis</span></span></span></div><div class='features'><span class=\"book xft\" ><span class=\"f\">book=</span>Genesis</span></div></div></div>"
      ],
      "text/plain": [
       "<IPython.core.display.HTML object>"
      ]
     },
     "metadata": {},
     "output_type": "display_data"
    },
    {
     "data": {
      "text/html": [
       "<div class=\"tfsechead rtl\"><span class=\"ltr\"><a target=\"_blank\" href=\"https://shebanq.ancient-data.org/hebrew/text?book=Genesis&amp;chapter=2&amp;verse=1&amp;version=2021&amp;mr=m&amp;qw=q&amp;tp=txt_p&amp;tr=hb&amp;wget=v&amp;qget=v&amp;nget=vt\" title=\"Show this on SHEBANQ\" sec=\"Genesis 2\">Genesis 2</a></span></div><div class=\"rtl children\"><div class=\"contnr c4 trm rtl  \" ><div class=\"lbl c4 trm \" ><span class=\"nd\">chapter</span> <span class=\"txtu hbo\"><span class=\"tfsechead rtl\"><span class=\"ltr\">Genesis 2</span></span></span></div><div class='features'><span class=\"book xft\" ><span class=\"f\">book=</span>Genesis</span><span class=\"chapter xft\" ><span class=\"f\">chapter=</span>2</span></div></div></div>"
      ],
      "text/plain": [
       "<IPython.core.display.HTML object>"
      ]
     },
     "metadata": {},
     "output_type": "display_data"
    }
   ],
   "source": [
    "query = \"\"\"\n",
    "book book=Genesis|Exodus\n",
    "   chapter chapter=2\n",
    "\"\"\"\n",
    "\n",
    "# S.search(query, limit=None) // Query the TF dataset with a template.\n",
    "result = S.search(query, shallow=False)\n",
    "\n",
    "A.show(result)"
   ]
  },
  {
   "cell_type": "markdown",
   "metadata": {},
   "source": [
    "### `S.{study(query), showPlan()}`\n",
    "\n",
    "Study the query to set up a plan; Show search plan from the last study."
   ]
  },
  {
   "cell_type": "code",
   "execution_count": 49,
   "metadata": {},
   "outputs": [
    {
     "name": "stdout",
     "output_type": "stream",
     "text": [
      "  0.00s Checking search template ...\n",
      "  0.00s Setting up search space for 2 objects ...\n",
      "  0.00s Constraining search space with 1 relations ...\n",
      "  0.01s \t1 edges thinned\n",
      "  0.01s Setting up retrieval plan with strategy small_choice_multi ...\n",
      "  0.02s Ready to deliver results from 4 nodes\n",
      "Iterate over S.fetch() to get the results\n",
      "See S.showPlan() to interpret the results\n",
      "  0.03s The results are connected to the original search template as follows:\n",
      " 0     \n",
      " 1 R0  book book=Genesis|Exodus\n",
      " 2 R1     chapter chapter=2\n",
      " 3     \n"
     ]
    }
   ],
   "source": [
    "# S.study(query, ...) // Study the query in order to set up a plan.\n",
    "S.study(query)\n",
    "\n",
    "# S.showPlan(details=False) // Show the search plan resulting from the last study.\n",
    "S.showPlan()"
   ]
  },
  {
   "cell_type": "markdown",
   "metadata": {},
   "source": [
    "### `S.relationsLegend()`\n",
    "\n",
    "Catalog of all relational devices in search templates."
   ]
  },
  {
   "cell_type": "code",
   "execution_count": 50,
   "metadata": {},
   "outputs": [
    {
     "name": "stdout",
     "output_type": "stream",
     "text": [
      "                      = left equal to right (as node)\n",
      "                      # left unequal to right (as node)\n",
      "                      < left before right (in canonical node ordering)\n",
      "                      > left after right (in canonical node ordering)\n",
      "                     == left occupies same slots as right\n",
      "                     && left has overlapping slots with right\n",
      "                     ## left and right do not have the same slot set\n",
      "                     || left and right do not have common slots\n",
      "                     [[ left embeds right\n",
      "                     ]] left embedded in right\n",
      "                     << left completely before right\n",
      "                     >> left completely after right\n",
      "                     =: left and right start at the same slot\n",
      "                     := left and right end at the same slot\n",
      "                     :: left and right start and end at the same slot\n",
      "                     <: left immediately before right\n",
      "                     :> left immediately after right\n",
      "                    =k: left and right start at k-nearly the same slot\n",
      "                    :k= left and right end at k-nearly the same slot\n",
      "                    :k: left and right start and end at k-near slots\n",
      "                    <k: left k-nearly before right\n",
      "                    :k> left k-nearly after right\n",
      "                    .f. left.f = right.f\n",
      "                  .f=g. left.f = right.g\n",
      "                .f~r~g. left.f matches right.g\n",
      "                  .f#g. left.f # right.g\n",
      "                  .f>g. left.f > right.g\n",
      "                  .f<g. left.f > right.g\n",
      "             -crossref> edge feature \"crossref\" with value specification allowed\n",
      "             <crossref- edge feature \"crossref\" with value specification allowed (opposite direction)\n",
      "             <crossref> edge feature \"crossref\" with value specification allowed (either direction)\n",
      "          -crossrefLCS> edge feature \"crossrefLCS\" with value specification allowed\n",
      "          <crossrefLCS- edge feature \"crossrefLCS\" with value specification allowed (opposite direction)\n",
      "          <crossrefLCS> edge feature \"crossrefLCS\" with value specification allowed (either direction)\n",
      "          -crossrefSET> edge feature \"crossrefSET\" with value specification allowed\n",
      "          <crossrefSET- edge feature \"crossrefSET\" with value specification allowed (opposite direction)\n",
      "          <crossrefSET> edge feature \"crossrefSET\" with value specification allowed (either direction)\n",
      "-distributional_parent> edge feature \"distributional_parent\"\n",
      "<distributional_parent- edge feature \"distributional_parent\" (opposite direction)\n",
      "<distributional_parent> edge feature \"distributional_parent\" (either direction)\n",
      "    -functional_parent> edge feature \"functional_parent\"\n",
      "    <functional_parent- edge feature \"functional_parent\" (opposite direction)\n",
      "    <functional_parent> edge feature \"functional_parent\" (either direction)\n",
      "               -mother> edge feature \"mother\"\n",
      "               <mother- edge feature \"mother\" (opposite direction)\n",
      "               <mother> edge feature \"mother\" (either direction)\n",
      "       -omap@2017-2021> edge feature \"omap@2017-2021\" with value specification allowed\n",
      "       <omap@2017-2021- edge feature \"omap@2017-2021\" with value specification allowed (opposite direction)\n",
      "       <omap@2017-2021> edge feature \"omap@2017-2021\" with value specification allowed (either direction)\n",
      "          -omap@c-2021> edge feature \"omap@c-2021\" with value specification allowed\n",
      "          <omap@c-2021- edge feature \"omap@c-2021\" with value specification allowed (opposite direction)\n",
      "          <omap@c-2021> edge feature \"omap@c-2021\" with value specification allowed (either direction)\n",
      "The warp feature \"oslots\" cannot be used in searches.\n",
      "One of the above relations on nodes and/or slots will suit you better.\n"
     ]
    }
   ],
   "source": [
    "# Catalog of all relational devices in search templates.\n",
    "S.relationsLegend()"
   ]
  },
  {
   "cell_type": "markdown",
   "metadata": {},
   "source": [
    "### `S.{count(), fetch(), glean(tup)}`\n",
    "\n",
    "Count results; Fetch results; Render a single result."
   ]
  },
  {
   "cell_type": "code",
   "execution_count": 28,
   "metadata": {},
   "outputs": [],
   "source": [
    "import pandas as pd \n",
    "import csv \n",
    "\n",
    "data = {\"book\":[], \"known\": [], \"unknown\": [], \"unique\":[]}\n",
    "keys = list(data.keys())[1:]\n",
    "for i, bk in enumerate(F.otype.s('book')):\n",
    "    data['book'].append(T.sectionFromNode(bk)[0])\n",
    "    for k in keys:\n",
    "        data[k].append(0)\n",
    "    chCount = 0\n",
    "    for ch in L.d(bk, otype='chapter'):\n",
    "        chCount += 1\n",
    "        visited = set()\n",
    "        for w in L.d(ch, otype='word'):\n",
    "            if F.freq_lex.v(w) >= 100 or F.sp.v(w) == 'nmpr':\n",
    "                data['known'][i] += 1\n",
    "            else:\n",
    "                data['unknown'][i] += 1\n",
    "                if F.lex.v(w) not in visited:\n",
    "                    data['unique'][i] += 1\n",
    "                    visited.add(F.lex.v(w))\n",
    "    for k in keys:\n",
    "        data[k][i] = int(data[k][i]/ chCount)\n",
    "    \n",
    "df = pd.DataFrame.from_dict(data)\n",
    "df.to_csv('bible_word_data.csv')\n"
   ]
  },
  {
   "cell_type": "code",
   "execution_count": 26,
   "metadata": {},
   "outputs": [
    {
     "name": "stdout",
     "output_type": "stream",
     "text": [
      "563 110 46\n"
     ]
    }
   ],
   "source": [
    "a, b, c = 0, 0, 0\n",
    "visited = set()\n",
    "for ch in [F.otype.s('chapter')[0]]:\n",
    "    for w in L.d(ch, otype='word'):\n",
    "        if F.freq_lex.v(w) >= 100 or F.sp.v(w) == 'nmpr':\n",
    "                a += 1\n",
    "        else:\n",
    "            b += 1\n",
    "            if F.lex.v(w) not in visited:\n",
    "                c += 1\n",
    "                visited.add(F.lex.v(w))\n",
    "print(a, b, c)"
   ]
  },
  {
   "cell_type": "code",
   "execution_count": 29,
   "metadata": {},
   "outputs": [
    {
     "name": "stdout",
     "output_type": "stream",
     "text": [
      "82.3076923076923\n"
     ]
    }
   ],
   "source": [
    "d = []\n",
    "for i in range(len(data['book'])):\n",
    "    d.append(int(\n",
    "        ((data['known'][i]) / (data['known'][i] + data['unknown'][i])) * 100))\n",
    "# for k in d:\n",
    "    # print(k)\n",
    "print(sum(d) / len(d))"
   ]
  },
  {
   "cell_type": "code",
   "execution_count": 51,
   "metadata": {},
   "outputs": [
    {
     "name": "stdout",
     "output_type": "stream",
     "text": [
      "  0.00s Counting results per 100 up to 1000 ...\n",
      "  0.01s Done: 2 results\n"
     ]
    },
    {
     "data": {
      "text/plain": [
       "'בְּ רֵאשִׁ֖ית  בָּרָ֣א '"
      ]
     },
     "execution_count": 51,
     "metadata": {},
     "output_type": "execute_result"
    }
   ],
   "source": [
    "# S.count(progress=None, limit=None) // Count the results, up to a limit. \n",
    "S.count()\n",
    "\n",
    "# S.fetch(limit=None, ...) // Fetches the results, up to a limit.\n",
    "S.fetch()\n",
    "\n",
    "# S.glean(tup) // Renders a single result into something human readable.\n",
    "S.glean((1, 2, 3))"
   ]
  }
 ],
 "metadata": {
  "interpreter": {
   "hash": "7812ea015bdcee6f23a998adcdd2ef97c151c0c241b7b7070987d9313e41299d"
  },
  "kernelspec": {
   "display_name": "Python 3.9.5 64-bit",
   "name": "python3"
  },
  "language_info": {
   "codemirror_mode": {
    "name": "ipython",
    "version": 3
   },
   "file_extension": ".py",
   "mimetype": "text/x-python",
   "name": "python",
   "nbconvert_exporter": "python",
   "pygments_lexer": "ipython3",
   "version": "3.9.5"
  },
  "orig_nbformat": 4
 },
 "nbformat": 4,
 "nbformat_minor": 2
}
